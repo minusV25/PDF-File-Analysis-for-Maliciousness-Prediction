{
  "nbformat": 4,
  "nbformat_minor": 0,
  "metadata": {
    "colab": {
      "provenance": []
    },
    "kernelspec": {
      "name": "python3",
      "display_name": "Python 3"
    },
    "language_info": {
      "name": "python"
    }
  },
  "cells": [
    {
      "cell_type": "code",
      "source": [
        "!pip install tldextract"
      ],
      "metadata": {
        "colab": {
          "base_uri": "https://localhost:8080/"
        },
        "id": "2Bzg-7wTuLcK",
        "outputId": "01762080-5acd-4e86-e81e-31122e7f7540"
      },
      "execution_count": null,
      "outputs": [
        {
          "output_type": "stream",
          "name": "stdout",
          "text": [
            "Collecting tldextract\n",
            "  Downloading tldextract-5.1.1-py3-none-any.whl (97 kB)\n",
            "\u001b[2K     \u001b[90m━━━━━━━━━━━━━━━━━━━━━━━━━━━━━━━━━━━━━━━━\u001b[0m \u001b[32m97.7/97.7 kB\u001b[0m \u001b[31m956.5 kB/s\u001b[0m eta \u001b[36m0:00:00\u001b[0m\n",
            "\u001b[?25hRequirement already satisfied: idna in /usr/local/lib/python3.10/dist-packages (from tldextract) (3.6)\n",
            "Requirement already satisfied: requests>=2.1.0 in /usr/local/lib/python3.10/dist-packages (from tldextract) (2.31.0)\n",
            "Collecting requests-file>=1.4 (from tldextract)\n",
            "  Downloading requests_file-1.5.1-py2.py3-none-any.whl (3.7 kB)\n",
            "Requirement already satisfied: filelock>=3.0.8 in /usr/local/lib/python3.10/dist-packages (from tldextract) (3.13.1)\n",
            "Requirement already satisfied: charset-normalizer<4,>=2 in /usr/local/lib/python3.10/dist-packages (from requests>=2.1.0->tldextract) (3.3.2)\n",
            "Requirement already satisfied: urllib3<3,>=1.21.1 in /usr/local/lib/python3.10/dist-packages (from requests>=2.1.0->tldextract) (2.0.7)\n",
            "Requirement already satisfied: certifi>=2017.4.17 in /usr/local/lib/python3.10/dist-packages (from requests>=2.1.0->tldextract) (2023.11.17)\n",
            "Requirement already satisfied: six in /usr/local/lib/python3.10/dist-packages (from requests-file>=1.4->tldextract) (1.16.0)\n",
            "Installing collected packages: requests-file, tldextract\n",
            "Successfully installed requests-file-1.5.1 tldextract-5.1.1\n"
          ]
        }
      ]
    },
    {
      "cell_type": "code",
      "source": [
        "import pandas as pd\n",
        "import numpy as np\n",
        "import matplotlib.pyplot as plt\n",
        "import tldextract\n",
        "import xgboost as xgb\n",
        "import plotly.graph_objects as go\n",
        "from sklearn.metrics import roc_curve, auc\n",
        "import plotly.express as px\n",
        "import seaborn as sns\n",
        "\n",
        "# Random Forest Modelling\n",
        "from sklearn.ensemble import RandomForestClassifier\n",
        "from sklearn.metrics import accuracy_score, confusion_matrix, precision_score, recall_score, ConfusionMatrixDisplay, classification_report\n",
        "from sklearn.model_selection import RandomizedSearchCV, train_test_split\n",
        "from scipy.stats import randint\n",
        "from sklearn.model_selection import KFold, cross_val_score\n"
      ],
      "metadata": {
        "id": "qiiYsq_e90mC"
      },
      "execution_count": null,
      "outputs": []
    },
    {
      "cell_type": "markdown",
      "source": [
        "Code Cell 1"
      ],
      "metadata": {
        "id": "1cRcwlO2L8kJ"
      }
    },
    {
      "cell_type": "code",
      "execution_count": null,
      "metadata": {
        "colab": {
          "base_uri": "https://localhost:8080/"
        },
        "outputId": "714365e7-a371-45e3-e517-9d73ffd77de3",
        "id": "_Ou23BuI90mC"
      },
      "outputs": [
        {
          "output_type": "stream",
          "name": "stderr",
          "text": [
            "<ipython-input-3-384e935b6e52>:1: DtypeWarning: Columns (22) have mixed types. Specify dtype option on import or set low_memory=False.\n",
            "  df = pd.read_csv(\"/content/drive/MyDrive/Cybersecurity Poject/combined_data.csv\") #Reading the Dataset that was converted to csv from local env Jupyter Notebook\n"
          ]
        }
      ],
      "source": [
        "df = pd.read_csv(\"/content/drive/MyDrive/Cybersecurity Poject/combined_data.csv\") #Reading the Dataset that was converted to csv from local env Jupyter Notebook"
      ]
    },
    {
      "cell_type": "code",
      "source": [
        "df.head() #Looking at the loaded dataset"
      ],
      "metadata": {
        "colab": {
          "base_uri": "https://localhost:8080/",
          "height": 446
        },
        "id": "3_RYrfPaS0Pe",
        "outputId": "f5c3dcf3-ad9a-49b5-8dcd-e386d5e8489a"
      },
      "execution_count": null,
      "outputs": [
        {
          "output_type": "execute_result",
          "data": {
            "text/plain": [
              "   Unnamed: 0 exif_signatures  file_size pdfid_signatures  \\\n",
              "0           0              {}     129857               {}   \n",
              "1           1              {}     251530               {}   \n",
              "2           2              {}     176127               {}   \n",
              "3           3              {}      47832               {}   \n",
              "4           4              {}      37657               {}   \n",
              "\n",
              "                                          pypdf_uris  \\\n",
              "0  ['https://urllie.com/2l04g4', 'https://onmybet...   \n",
              "1  ['https://wirut.co.za/XSRYdR1H?utm_term=eia+we...   \n",
              "2  ['https://ragaz.co.za/XSRYdR1H?utm_term=abo+di...   \n",
              "3  ['https://netcdn.tw/app/431946152/roblox-cheat...   \n",
              "4  ['https://netcdn.xyz/app/431946152/free-robux-...   \n",
              "\n",
              "                                          regex_uris  \\\n",
              "0  ['https://urllie.com/2l04g4', 'https://onmybet...   \n",
              "1  ['https://wirut.co.za/XSRYdR1H?utm_term=eia+we...   \n",
              "2  ['https://ragaz.co.za/XSRYdR1H?utm_term=abo+di...   \n",
              "3  ['https://netcdn.tw/app/431946152/roblox-cheat...   \n",
              "4  ['https://netcdn.xyz/app/431946152/free-robux-...   \n",
              "\n",
              "                                          regex_urls  \\\n",
              "0  ['https', 'https', 'https', 'http://www.suaopi...   \n",
              "1  ['https', 'http://chinajnbt.com/images/upload/...   \n",
              "2  ['https', 'https', 'http://intechsol.kz/wp-con...   \n",
              "3  ['https', 'https', 'https', 'https', 'https', ...   \n",
              "4                                 ['https', 'https']   \n",
              "\n",
              "                      scripts  \\\n",
              "0  {'iframe': [], 'urls': []}   \n",
              "1  {'iframe': [], 'urls': []}   \n",
              "2  {'iframe': [], 'urls': []}   \n",
              "3  {'iframe': [], 'urls': []}   \n",
              "4  {'iframe': [], 'urls': []}   \n",
              "\n",
              "                                   static_properties  \\\n",
              "0  {'JBIG2Decode': '0', 'XML_forms': '0', 'acro_f...   \n",
              "1  {'JBIG2Decode': '0', 'XML_forms': '0', 'acro_f...   \n",
              "2  {'JBIG2Decode': '0', 'XML_forms': '0', 'acro_f...   \n",
              "3  {'JBIG2Decode': '0', 'XML_forms': '0', 'acro_f...   \n",
              "4  {'JBIG2Decode': '0', 'XML_forms': '0', 'acro_f...   \n",
              "\n",
              "                                     yara_signatures  ...  \\\n",
              "0  ['without_attachments', 'without_images', 'wit...  ...   \n",
              "1  ['without_attachments', 'without_images', 'wit...  ...   \n",
              "2  ['without_attachments', 'without_images', 'wit...  ...   \n",
              "3  ['without_attachments', 'without_images', 'wit...  ...   \n",
              "4  ['without_attachments', 'without_images', 'wit...  ...   \n",
              "\n",
              "   yara_signatures_IsSuspicious  yara_signatures_Big_Numbers2  \\\n",
              "0                             0                             0   \n",
              "1                             0                             0   \n",
              "2                             0                             0   \n",
              "3                             0                             0   \n",
              "4                             0                             0   \n",
              "\n",
              "   yara_signatures_FlateDecode_wrong_version  \\\n",
              "0                                          0   \n",
              "1                                          0   \n",
              "2                                          0   \n",
              "3                                          0   \n",
              "4                                          0   \n",
              "\n",
              "   yara_signatures_invalid_trailer_structure  \\\n",
              "0                                          0   \n",
              "1                                          1   \n",
              "2                                          1   \n",
              "3                                          1   \n",
              "4                                          1   \n",
              "\n",
              "   yara_signatures_multiple_filtering  yara_signatures_without_attachments  \\\n",
              "0                                   0                                    1   \n",
              "1                                   0                                    1   \n",
              "2                                   0                                    1   \n",
              "3                                   0                                    1   \n",
              "4                                   0                                    1   \n",
              "\n",
              "   yara_signatures_invalid_xref_numbers  yara_signatures_JBIG2_wrong_version  \\\n",
              "0                                     0                                    0   \n",
              "1                                     0                                    0   \n",
              "2                                     0                                    0   \n",
              "3                                     0                                    0   \n",
              "4                                     0                                    0   \n",
              "\n",
              "   yara_signatures_possible_includes_base64_packed_functions  \\\n",
              "0                                                  0           \n",
              "1                                                  0           \n",
              "2                                                  0           \n",
              "3                                                  0           \n",
              "4                                                  0           \n",
              "\n",
              "   yara_signatures_vmdetect  \n",
              "0                         0  \n",
              "1                         0  \n",
              "2                         0  \n",
              "3                         0  \n",
              "4                         0  \n",
              "\n",
              "[5 rows x 71 columns]"
            ],
            "text/html": [
              "\n",
              "  <div id=\"df-7dbb2f6c-0408-431c-8b26-9e9e449b8ee7\" class=\"colab-df-container\">\n",
              "    <div>\n",
              "<style scoped>\n",
              "    .dataframe tbody tr th:only-of-type {\n",
              "        vertical-align: middle;\n",
              "    }\n",
              "\n",
              "    .dataframe tbody tr th {\n",
              "        vertical-align: top;\n",
              "    }\n",
              "\n",
              "    .dataframe thead th {\n",
              "        text-align: right;\n",
              "    }\n",
              "</style>\n",
              "<table border=\"1\" class=\"dataframe\">\n",
              "  <thead>\n",
              "    <tr style=\"text-align: right;\">\n",
              "      <th></th>\n",
              "      <th>Unnamed: 0</th>\n",
              "      <th>exif_signatures</th>\n",
              "      <th>file_size</th>\n",
              "      <th>pdfid_signatures</th>\n",
              "      <th>pypdf_uris</th>\n",
              "      <th>regex_uris</th>\n",
              "      <th>regex_urls</th>\n",
              "      <th>scripts</th>\n",
              "      <th>static_properties</th>\n",
              "      <th>yara_signatures</th>\n",
              "      <th>...</th>\n",
              "      <th>yara_signatures_IsSuspicious</th>\n",
              "      <th>yara_signatures_Big_Numbers2</th>\n",
              "      <th>yara_signatures_FlateDecode_wrong_version</th>\n",
              "      <th>yara_signatures_invalid_trailer_structure</th>\n",
              "      <th>yara_signatures_multiple_filtering</th>\n",
              "      <th>yara_signatures_without_attachments</th>\n",
              "      <th>yara_signatures_invalid_xref_numbers</th>\n",
              "      <th>yara_signatures_JBIG2_wrong_version</th>\n",
              "      <th>yara_signatures_possible_includes_base64_packed_functions</th>\n",
              "      <th>yara_signatures_vmdetect</th>\n",
              "    </tr>\n",
              "  </thead>\n",
              "  <tbody>\n",
              "    <tr>\n",
              "      <th>0</th>\n",
              "      <td>0</td>\n",
              "      <td>{}</td>\n",
              "      <td>129857</td>\n",
              "      <td>{}</td>\n",
              "      <td>['https://urllie.com/2l04g4', 'https://onmybet...</td>\n",
              "      <td>['https://urllie.com/2l04g4', 'https://onmybet...</td>\n",
              "      <td>['https', 'https', 'https', 'http://www.suaopi...</td>\n",
              "      <td>{'iframe': [], 'urls': []}</td>\n",
              "      <td>{'JBIG2Decode': '0', 'XML_forms': '0', 'acro_f...</td>\n",
              "      <td>['without_attachments', 'without_images', 'wit...</td>\n",
              "      <td>...</td>\n",
              "      <td>0</td>\n",
              "      <td>0</td>\n",
              "      <td>0</td>\n",
              "      <td>0</td>\n",
              "      <td>0</td>\n",
              "      <td>1</td>\n",
              "      <td>0</td>\n",
              "      <td>0</td>\n",
              "      <td>0</td>\n",
              "      <td>0</td>\n",
              "    </tr>\n",
              "    <tr>\n",
              "      <th>1</th>\n",
              "      <td>1</td>\n",
              "      <td>{}</td>\n",
              "      <td>251530</td>\n",
              "      <td>{}</td>\n",
              "      <td>['https://wirut.co.za/XSRYdR1H?utm_term=eia+we...</td>\n",
              "      <td>['https://wirut.co.za/XSRYdR1H?utm_term=eia+we...</td>\n",
              "      <td>['https', 'http://chinajnbt.com/images/upload/...</td>\n",
              "      <td>{'iframe': [], 'urls': []}</td>\n",
              "      <td>{'JBIG2Decode': '0', 'XML_forms': '0', 'acro_f...</td>\n",
              "      <td>['without_attachments', 'without_images', 'wit...</td>\n",
              "      <td>...</td>\n",
              "      <td>0</td>\n",
              "      <td>0</td>\n",
              "      <td>0</td>\n",
              "      <td>1</td>\n",
              "      <td>0</td>\n",
              "      <td>1</td>\n",
              "      <td>0</td>\n",
              "      <td>0</td>\n",
              "      <td>0</td>\n",
              "      <td>0</td>\n",
              "    </tr>\n",
              "    <tr>\n",
              "      <th>2</th>\n",
              "      <td>2</td>\n",
              "      <td>{}</td>\n",
              "      <td>176127</td>\n",
              "      <td>{}</td>\n",
              "      <td>['https://ragaz.co.za/XSRYdR1H?utm_term=abo+di...</td>\n",
              "      <td>['https://ragaz.co.za/XSRYdR1H?utm_term=abo+di...</td>\n",
              "      <td>['https', 'https', 'http://intechsol.kz/wp-con...</td>\n",
              "      <td>{'iframe': [], 'urls': []}</td>\n",
              "      <td>{'JBIG2Decode': '0', 'XML_forms': '0', 'acro_f...</td>\n",
              "      <td>['without_attachments', 'without_images', 'wit...</td>\n",
              "      <td>...</td>\n",
              "      <td>0</td>\n",
              "      <td>0</td>\n",
              "      <td>0</td>\n",
              "      <td>1</td>\n",
              "      <td>0</td>\n",
              "      <td>1</td>\n",
              "      <td>0</td>\n",
              "      <td>0</td>\n",
              "      <td>0</td>\n",
              "      <td>0</td>\n",
              "    </tr>\n",
              "    <tr>\n",
              "      <th>3</th>\n",
              "      <td>3</td>\n",
              "      <td>{}</td>\n",
              "      <td>47832</td>\n",
              "      <td>{}</td>\n",
              "      <td>['https://netcdn.tw/app/431946152/roblox-cheat...</td>\n",
              "      <td>['https://netcdn.tw/app/431946152/roblox-cheat...</td>\n",
              "      <td>['https', 'https', 'https', 'https', 'https', ...</td>\n",
              "      <td>{'iframe': [], 'urls': []}</td>\n",
              "      <td>{'JBIG2Decode': '0', 'XML_forms': '0', 'acro_f...</td>\n",
              "      <td>['without_attachments', 'without_images', 'wit...</td>\n",
              "      <td>...</td>\n",
              "      <td>0</td>\n",
              "      <td>0</td>\n",
              "      <td>0</td>\n",
              "      <td>1</td>\n",
              "      <td>0</td>\n",
              "      <td>1</td>\n",
              "      <td>0</td>\n",
              "      <td>0</td>\n",
              "      <td>0</td>\n",
              "      <td>0</td>\n",
              "    </tr>\n",
              "    <tr>\n",
              "      <th>4</th>\n",
              "      <td>4</td>\n",
              "      <td>{}</td>\n",
              "      <td>37657</td>\n",
              "      <td>{}</td>\n",
              "      <td>['https://netcdn.xyz/app/431946152/free-robux-...</td>\n",
              "      <td>['https://netcdn.xyz/app/431946152/free-robux-...</td>\n",
              "      <td>['https', 'https']</td>\n",
              "      <td>{'iframe': [], 'urls': []}</td>\n",
              "      <td>{'JBIG2Decode': '0', 'XML_forms': '0', 'acro_f...</td>\n",
              "      <td>['without_attachments', 'without_images', 'wit...</td>\n",
              "      <td>...</td>\n",
              "      <td>0</td>\n",
              "      <td>0</td>\n",
              "      <td>0</td>\n",
              "      <td>1</td>\n",
              "      <td>0</td>\n",
              "      <td>1</td>\n",
              "      <td>0</td>\n",
              "      <td>0</td>\n",
              "      <td>0</td>\n",
              "      <td>0</td>\n",
              "    </tr>\n",
              "  </tbody>\n",
              "</table>\n",
              "<p>5 rows × 71 columns</p>\n",
              "</div>\n",
              "    <div class=\"colab-df-buttons\">\n",
              "\n",
              "  <div class=\"colab-df-container\">\n",
              "    <button class=\"colab-df-convert\" onclick=\"convertToInteractive('df-7dbb2f6c-0408-431c-8b26-9e9e449b8ee7')\"\n",
              "            title=\"Convert this dataframe to an interactive table.\"\n",
              "            style=\"display:none;\">\n",
              "\n",
              "  <svg xmlns=\"http://www.w3.org/2000/svg\" height=\"24px\" viewBox=\"0 -960 960 960\">\n",
              "    <path d=\"M120-120v-720h720v720H120Zm60-500h600v-160H180v160Zm220 220h160v-160H400v160Zm0 220h160v-160H400v160ZM180-400h160v-160H180v160Zm440 0h160v-160H620v160ZM180-180h160v-160H180v160Zm440 0h160v-160H620v160Z\"/>\n",
              "  </svg>\n",
              "    </button>\n",
              "\n",
              "  <style>\n",
              "    .colab-df-container {\n",
              "      display:flex;\n",
              "      gap: 12px;\n",
              "    }\n",
              "\n",
              "    .colab-df-convert {\n",
              "      background-color: #E8F0FE;\n",
              "      border: none;\n",
              "      border-radius: 50%;\n",
              "      cursor: pointer;\n",
              "      display: none;\n",
              "      fill: #1967D2;\n",
              "      height: 32px;\n",
              "      padding: 0 0 0 0;\n",
              "      width: 32px;\n",
              "    }\n",
              "\n",
              "    .colab-df-convert:hover {\n",
              "      background-color: #E2EBFA;\n",
              "      box-shadow: 0px 1px 2px rgba(60, 64, 67, 0.3), 0px 1px 3px 1px rgba(60, 64, 67, 0.15);\n",
              "      fill: #174EA6;\n",
              "    }\n",
              "\n",
              "    .colab-df-buttons div {\n",
              "      margin-bottom: 4px;\n",
              "    }\n",
              "\n",
              "    [theme=dark] .colab-df-convert {\n",
              "      background-color: #3B4455;\n",
              "      fill: #D2E3FC;\n",
              "    }\n",
              "\n",
              "    [theme=dark] .colab-df-convert:hover {\n",
              "      background-color: #434B5C;\n",
              "      box-shadow: 0px 1px 3px 1px rgba(0, 0, 0, 0.15);\n",
              "      filter: drop-shadow(0px 1px 2px rgba(0, 0, 0, 0.3));\n",
              "      fill: #FFFFFF;\n",
              "    }\n",
              "  </style>\n",
              "\n",
              "    <script>\n",
              "      const buttonEl =\n",
              "        document.querySelector('#df-7dbb2f6c-0408-431c-8b26-9e9e449b8ee7 button.colab-df-convert');\n",
              "      buttonEl.style.display =\n",
              "        google.colab.kernel.accessAllowed ? 'block' : 'none';\n",
              "\n",
              "      async function convertToInteractive(key) {\n",
              "        const element = document.querySelector('#df-7dbb2f6c-0408-431c-8b26-9e9e449b8ee7');\n",
              "        const dataTable =\n",
              "          await google.colab.kernel.invokeFunction('convertToInteractive',\n",
              "                                                    [key], {});\n",
              "        if (!dataTable) return;\n",
              "\n",
              "        const docLinkHtml = 'Like what you see? Visit the ' +\n",
              "          '<a target=\"_blank\" href=https://colab.research.google.com/notebooks/data_table.ipynb>data table notebook</a>'\n",
              "          + ' to learn more about interactive tables.';\n",
              "        element.innerHTML = '';\n",
              "        dataTable['output_type'] = 'display_data';\n",
              "        await google.colab.output.renderOutput(dataTable, element);\n",
              "        const docLink = document.createElement('div');\n",
              "        docLink.innerHTML = docLinkHtml;\n",
              "        element.appendChild(docLink);\n",
              "      }\n",
              "    </script>\n",
              "  </div>\n",
              "\n",
              "\n",
              "<div id=\"df-78067326-21be-4531-8e09-42c28f0184f1\">\n",
              "  <button class=\"colab-df-quickchart\" onclick=\"quickchart('df-78067326-21be-4531-8e09-42c28f0184f1')\"\n",
              "            title=\"Suggest charts\"\n",
              "            style=\"display:none;\">\n",
              "\n",
              "<svg xmlns=\"http://www.w3.org/2000/svg\" height=\"24px\"viewBox=\"0 0 24 24\"\n",
              "     width=\"24px\">\n",
              "    <g>\n",
              "        <path d=\"M19 3H5c-1.1 0-2 .9-2 2v14c0 1.1.9 2 2 2h14c1.1 0 2-.9 2-2V5c0-1.1-.9-2-2-2zM9 17H7v-7h2v7zm4 0h-2V7h2v10zm4 0h-2v-4h2v4z\"/>\n",
              "    </g>\n",
              "</svg>\n",
              "  </button>\n",
              "\n",
              "<style>\n",
              "  .colab-df-quickchart {\n",
              "      --bg-color: #E8F0FE;\n",
              "      --fill-color: #1967D2;\n",
              "      --hover-bg-color: #E2EBFA;\n",
              "      --hover-fill-color: #174EA6;\n",
              "      --disabled-fill-color: #AAA;\n",
              "      --disabled-bg-color: #DDD;\n",
              "  }\n",
              "\n",
              "  [theme=dark] .colab-df-quickchart {\n",
              "      --bg-color: #3B4455;\n",
              "      --fill-color: #D2E3FC;\n",
              "      --hover-bg-color: #434B5C;\n",
              "      --hover-fill-color: #FFFFFF;\n",
              "      --disabled-bg-color: #3B4455;\n",
              "      --disabled-fill-color: #666;\n",
              "  }\n",
              "\n",
              "  .colab-df-quickchart {\n",
              "    background-color: var(--bg-color);\n",
              "    border: none;\n",
              "    border-radius: 50%;\n",
              "    cursor: pointer;\n",
              "    display: none;\n",
              "    fill: var(--fill-color);\n",
              "    height: 32px;\n",
              "    padding: 0;\n",
              "    width: 32px;\n",
              "  }\n",
              "\n",
              "  .colab-df-quickchart:hover {\n",
              "    background-color: var(--hover-bg-color);\n",
              "    box-shadow: 0 1px 2px rgba(60, 64, 67, 0.3), 0 1px 3px 1px rgba(60, 64, 67, 0.15);\n",
              "    fill: var(--button-hover-fill-color);\n",
              "  }\n",
              "\n",
              "  .colab-df-quickchart-complete:disabled,\n",
              "  .colab-df-quickchart-complete:disabled:hover {\n",
              "    background-color: var(--disabled-bg-color);\n",
              "    fill: var(--disabled-fill-color);\n",
              "    box-shadow: none;\n",
              "  }\n",
              "\n",
              "  .colab-df-spinner {\n",
              "    border: 2px solid var(--fill-color);\n",
              "    border-color: transparent;\n",
              "    border-bottom-color: var(--fill-color);\n",
              "    animation:\n",
              "      spin 1s steps(1) infinite;\n",
              "  }\n",
              "\n",
              "  @keyframes spin {\n",
              "    0% {\n",
              "      border-color: transparent;\n",
              "      border-bottom-color: var(--fill-color);\n",
              "      border-left-color: var(--fill-color);\n",
              "    }\n",
              "    20% {\n",
              "      border-color: transparent;\n",
              "      border-left-color: var(--fill-color);\n",
              "      border-top-color: var(--fill-color);\n",
              "    }\n",
              "    30% {\n",
              "      border-color: transparent;\n",
              "      border-left-color: var(--fill-color);\n",
              "      border-top-color: var(--fill-color);\n",
              "      border-right-color: var(--fill-color);\n",
              "    }\n",
              "    40% {\n",
              "      border-color: transparent;\n",
              "      border-right-color: var(--fill-color);\n",
              "      border-top-color: var(--fill-color);\n",
              "    }\n",
              "    60% {\n",
              "      border-color: transparent;\n",
              "      border-right-color: var(--fill-color);\n",
              "    }\n",
              "    80% {\n",
              "      border-color: transparent;\n",
              "      border-right-color: var(--fill-color);\n",
              "      border-bottom-color: var(--fill-color);\n",
              "    }\n",
              "    90% {\n",
              "      border-color: transparent;\n",
              "      border-bottom-color: var(--fill-color);\n",
              "    }\n",
              "  }\n",
              "</style>\n",
              "\n",
              "  <script>\n",
              "    async function quickchart(key) {\n",
              "      const quickchartButtonEl =\n",
              "        document.querySelector('#' + key + ' button');\n",
              "      quickchartButtonEl.disabled = true;  // To prevent multiple clicks.\n",
              "      quickchartButtonEl.classList.add('colab-df-spinner');\n",
              "      try {\n",
              "        const charts = await google.colab.kernel.invokeFunction(\n",
              "            'suggestCharts', [key], {});\n",
              "      } catch (error) {\n",
              "        console.error('Error during call to suggestCharts:', error);\n",
              "      }\n",
              "      quickchartButtonEl.classList.remove('colab-df-spinner');\n",
              "      quickchartButtonEl.classList.add('colab-df-quickchart-complete');\n",
              "    }\n",
              "    (() => {\n",
              "      let quickchartButtonEl =\n",
              "        document.querySelector('#df-78067326-21be-4531-8e09-42c28f0184f1 button');\n",
              "      quickchartButtonEl.style.display =\n",
              "        google.colab.kernel.accessAllowed ? 'block' : 'none';\n",
              "    })();\n",
              "  </script>\n",
              "</div>\n",
              "\n",
              "    </div>\n",
              "  </div>\n"
            ]
          },
          "metadata": {},
          "execution_count": 4
        }
      ]
    },
    {
      "cell_type": "code",
      "source": [
        "df.drop(['Unnamed: 0'], axis=1, inplace=True) #Dropping the Unnamed Column"
      ],
      "metadata": {
        "id": "z8QR8Dm090mC"
      },
      "execution_count": null,
      "outputs": []
    },
    {
      "cell_type": "code",
      "source": [
        "df.shape"
      ],
      "metadata": {
        "colab": {
          "base_uri": "https://localhost:8080/"
        },
        "id": "aA2bFXdkoAIO",
        "outputId": "555131e5-c007-444e-a9af-80abb83732bd"
      },
      "execution_count": null,
      "outputs": [
        {
          "output_type": "execute_result",
          "data": {
            "text/plain": [
              "(9748, 70)"
            ]
          },
          "metadata": {},
          "execution_count": 6
        }
      ]
    },
    {
      "cell_type": "markdown",
      "source": [
        "Trying to understand which domains occur the highest in each of the types of files."
      ],
      "metadata": {
        "id": "1CkghuLF90mD"
      }
    },
    {
      "cell_type": "code",
      "source": [
        "df_benign = df[df['malicious/benign']==0]  #Extracting dataset of only Benign files from the complete dataset\n",
        "df_malicious = df[df['malicious/benign']==1] #Extracting dataset of only Malicious files from the complete dataset\n",
        "\n",
        "df_benign.reset_index(inplace=True)\n",
        "df_benign.drop(['index'], axis=1, inplace=True)\n",
        "\n",
        "df_malicious.reset_index(inplace=True)\n",
        "df_malicious.drop(['index'], axis=1, inplace=True)\n",
        "\n",
        "print(len(df_benign))\n",
        "print(len(df_malicious))"
      ],
      "metadata": {
        "colab": {
          "base_uri": "https://localhost:8080/"
        },
        "outputId": "8125c019-ed62-4ace-e10d-844867d7d1bc",
        "id": "QqzSX2HN90mD"
      },
      "execution_count": null,
      "outputs": [
        {
          "output_type": "stream",
          "name": "stdout",
          "text": [
            "5002\n",
            "4746\n"
          ]
        },
        {
          "output_type": "stream",
          "name": "stderr",
          "text": [
            "<ipython-input-7-d466764ab873>:5: SettingWithCopyWarning: \n",
            "A value is trying to be set on a copy of a slice from a DataFrame\n",
            "\n",
            "See the caveats in the documentation: https://pandas.pydata.org/pandas-docs/stable/user_guide/indexing.html#returning-a-view-versus-a-copy\n",
            "  df_benign.drop(['index'], axis=1, inplace=True)\n",
            "<ipython-input-7-d466764ab873>:8: SettingWithCopyWarning: \n",
            "A value is trying to be set on a copy of a slice from a DataFrame\n",
            "\n",
            "See the caveats in the documentation: https://pandas.pydata.org/pandas-docs/stable/user_guide/indexing.html#returning-a-view-versus-a-copy\n",
            "  df_malicious.drop(['index'], axis=1, inplace=True)\n"
          ]
        }
      ]
    },
    {
      "cell_type": "markdown",
      "source": [
        "Code Cell 2"
      ],
      "metadata": {
        "id": "mwieG_ktMAMs"
      }
    },
    {
      "cell_type": "code",
      "source": [
        "benign_dict = {}  # Extracting a dictionary of domain extensions and the number of times they occur in the benign file so that we can make a list of safe domain extensions.\n",
        "\n",
        "for i in df_benign['pypdf_uris']:\n",
        "  # Removing square brackets and splitting the string into a list\n",
        "  url_list_benign = i.strip(\"[]\").split(\", \")\n",
        "\n",
        "  # Removing single quotes from each URL\n",
        "  url_list_benign = [url.strip(\"'\") for url in url_list_benign]\n",
        "\n",
        "  domain_extensions = [tldextract.extract(url).suffix for url in url_list_benign]\n",
        "\n",
        "  for ext in domain_extensions:\n",
        "    if ext not in benign_dict.keys():\n",
        "      benign_dict[ext] = 0\n",
        "    else:\n",
        "      benign_dict[ext] += 1\n"
      ],
      "metadata": {
        "id": "pW4zl10kq9il"
      },
      "execution_count": null,
      "outputs": []
    },
    {
      "cell_type": "code",
      "source": [
        "# Converting the dictionary to a DataFrame\n",
        "benign_domain_df = pd.DataFrame(list(benign_dict.items()), columns=['Domain', 'Count'])\n",
        "\n",
        "benign_domain_df = benign_domain_df.sort_values(by='Count', ascending=False)\n",
        "\n",
        "print(benign_domain_df.head())"
      ],
      "metadata": {
        "id": "GQetn7Cttyyk",
        "colab": {
          "base_uri": "https://localhost:8080/"
        },
        "outputId": "a4e01c1d-a6c1-4579-93d1-17e8dd503fed"
      },
      "execution_count": null,
      "outputs": [
        {
          "output_type": "stream",
          "name": "stdout",
          "text": [
            "   Domain  Count\n",
            "0     com  23425\n",
            "2     org  14362\n",
            "1           5866\n",
            "5     gov   4319\n",
            "42    int   4226\n"
          ]
        }
      ]
    },
    {
      "cell_type": "code",
      "source": [
        "plt.bar(benign_domain_df['Domain'][:20], benign_domain_df['Count'][:20])\n",
        "plt.xticks(rotation = 90)\n",
        "plt.title(\"Top 20 Domain extensions for links found in Benign PDF Files.\")\n",
        "plt.show()"
      ],
      "metadata": {
        "id": "Qr9nSSurCTLF",
        "colab": {
          "base_uri": "https://localhost:8080/",
          "height": 484
        },
        "outputId": "d6889eb9-d2ce-4788-85b7-f55c2116fa55"
      },
      "execution_count": null,
      "outputs": [
        {
          "output_type": "display_data",
          "data": {
            "text/plain": [
              "<Figure size 640x480 with 1 Axes>"
            ],
            "image/png": "[encoded data removed]"
          },
          "metadata": {}
        }
      ]
    },
    {
      "cell_type": "markdown",
      "source": [
        "Code Cell 3"
      ],
      "metadata": {
        "id": "nZZmVPD0MEd4"
      }
    },
    {
      "cell_type": "code",
      "source": [
        "# Making a list of safe domain extensions from the above extracted information.\n",
        "safe_domain_extensions = ['com','net','gov','org', 'edu', 'ca', 'us', 'de', 'uk', 'in', 'co', 'ru', ' ', 'ro', 'ly', 'io', 'co.uk', 'link' , 'fr', 'gov.au', 'info', 'it', 'es', 'eu']\n",
        "sus_domain_count = []\n",
        "\n",
        "\n",
        "# Adding a new feature that counts the occurence of suspicious domains in the pdf file.\n",
        "for i in range(len(df['pypdf_uris'])):\n",
        "  sus_domain_extensions = 0\n",
        "\n",
        "\n",
        "  url_string = df['pypdf_uris'][i]\n",
        "  # Removing square brackets and splitting the string into a list\n",
        "  url_list = url_string.strip(\"[]\").split(\", \")\n",
        "\n",
        "  # Removing single quotes from each URL\n",
        "  url_list = [url.strip(\"'\") for url in url_list]\n",
        "\n",
        "  domain_extensions = [tldextract.extract(url).suffix for url in url_list]\n",
        "\n",
        "  for ext in domain_extensions:\n",
        "    if ext not in safe_domain_extensions:\n",
        "      sus_domain_extensions += 1\n",
        "\n",
        "  sus_domain_count.append(sus_domain_extensions)\n",
        "\n",
        "\n",
        "# Adding the Suspicious domain count to the original dataframe\n",
        "df['sus_domain_count'] = sus_domain_count\n",
        "df.head()"
      ],
      "metadata": {
        "colab": {
          "base_uri": "https://localhost:8080/",
          "height": 429
        },
        "id": "GAGoPFedFvn3",
        "outputId": "348fd42c-63f2-40cd-b044-4da905677e37"
      },
      "execution_count": null,
      "outputs": [
        {
          "output_type": "execute_result",
          "data": {
            "text/plain": [
              "  exif_signatures  file_size pdfid_signatures  \\\n",
              "0              {}     129857               {}   \n",
              "1              {}     251530               {}   \n",
              "2              {}     176127               {}   \n",
              "3              {}      47832               {}   \n",
              "4              {}      37657               {}   \n",
              "\n",
              "                                          pypdf_uris  \\\n",
              "0  ['https://urllie.com/2l04g4', 'https://onmybet...   \n",
              "1  ['https://wirut.co.za/XSRYdR1H?utm_term=eia+we...   \n",
              "2  ['https://ragaz.co.za/XSRYdR1H?utm_term=abo+di...   \n",
              "3  ['https://netcdn.tw/app/431946152/roblox-cheat...   \n",
              "4  ['https://netcdn.xyz/app/431946152/free-robux-...   \n",
              "\n",
              "                                          regex_uris  \\\n",
              "0  ['https://urllie.com/2l04g4', 'https://onmybet...   \n",
              "1  ['https://wirut.co.za/XSRYdR1H?utm_term=eia+we...   \n",
              "2  ['https://ragaz.co.za/XSRYdR1H?utm_term=abo+di...   \n",
              "3  ['https://netcdn.tw/app/431946152/roblox-cheat...   \n",
              "4  ['https://netcdn.xyz/app/431946152/free-robux-...   \n",
              "\n",
              "                                          regex_urls  \\\n",
              "0  ['https', 'https', 'https', 'http://www.suaopi...   \n",
              "1  ['https', 'http://chinajnbt.com/images/upload/...   \n",
              "2  ['https', 'https', 'http://intechsol.kz/wp-con...   \n",
              "3  ['https', 'https', 'https', 'https', 'https', ...   \n",
              "4                                 ['https', 'https']   \n",
              "\n",
              "                      scripts  \\\n",
              "0  {'iframe': [], 'urls': []}   \n",
              "1  {'iframe': [], 'urls': []}   \n",
              "2  {'iframe': [], 'urls': []}   \n",
              "3  {'iframe': [], 'urls': []}   \n",
              "4  {'iframe': [], 'urls': []}   \n",
              "\n",
              "                                   static_properties  \\\n",
              "0  {'JBIG2Decode': '0', 'XML_forms': '0', 'acro_f...   \n",
              "1  {'JBIG2Decode': '0', 'XML_forms': '0', 'acro_f...   \n",
              "2  {'JBIG2Decode': '0', 'XML_forms': '0', 'acro_f...   \n",
              "3  {'JBIG2Decode': '0', 'XML_forms': '0', 'acro_f...   \n",
              "4  {'JBIG2Decode': '0', 'XML_forms': '0', 'acro_f...   \n",
              "\n",
              "                                     yara_signatures  pypdf_uris_num  ...  \\\n",
              "0  ['without_attachments', 'without_images', 'wit...              12  ...   \n",
              "1  ['without_attachments', 'without_images', 'wit...              27  ...   \n",
              "2  ['without_attachments', 'without_images', 'wit...              25  ...   \n",
              "3  ['without_attachments', 'without_images', 'wit...              22  ...   \n",
              "4  ['without_attachments', 'without_images', 'wit...               2  ...   \n",
              "\n",
              "   yara_signatures_Big_Numbers2  yara_signatures_FlateDecode_wrong_version  \\\n",
              "0                             0                                          0   \n",
              "1                             0                                          0   \n",
              "2                             0                                          0   \n",
              "3                             0                                          0   \n",
              "4                             0                                          0   \n",
              "\n",
              "   yara_signatures_invalid_trailer_structure  \\\n",
              "0                                          0   \n",
              "1                                          1   \n",
              "2                                          1   \n",
              "3                                          1   \n",
              "4                                          1   \n",
              "\n",
              "   yara_signatures_multiple_filtering  yara_signatures_without_attachments  \\\n",
              "0                                   0                                    1   \n",
              "1                                   0                                    1   \n",
              "2                                   0                                    1   \n",
              "3                                   0                                    1   \n",
              "4                                   0                                    1   \n",
              "\n",
              "   yara_signatures_invalid_xref_numbers  yara_signatures_JBIG2_wrong_version  \\\n",
              "0                                     0                                    0   \n",
              "1                                     0                                    0   \n",
              "2                                     0                                    0   \n",
              "3                                     0                                    0   \n",
              "4                                     0                                    0   \n",
              "\n",
              "   yara_signatures_possible_includes_base64_packed_functions  \\\n",
              "0                                                  0           \n",
              "1                                                  0           \n",
              "2                                                  0           \n",
              "3                                                  0           \n",
              "4                                                  0           \n",
              "\n",
              "   yara_signatures_vmdetect  sus_domain_count  \n",
              "0                         0                 3  \n",
              "1                         0                 8  \n",
              "2                         0                 9  \n",
              "3                         0                22  \n",
              "4                         0                 2  \n",
              "\n",
              "[5 rows x 71 columns]"
            ],
            "text/html": [
              "\n",
              "  <div id=\"df-9ff6304e-e816-4708-9976-216fa9f34b4b\" class=\"colab-df-container\">\n",
              "    <div>\n",
              "<style scoped>\n",
              "    .dataframe tbody tr th:only-of-type {\n",
              "        vertical-align: middle;\n",
              "    }\n",
              "\n",
              "    .dataframe tbody tr th {\n",
              "        vertical-align: top;\n",
              "    }\n",
              "\n",
              "    .dataframe thead th {\n",
              "        text-align: right;\n",
              "    }\n",
              "</style>\n",
              "<table border=\"1\" class=\"dataframe\">\n",
              "  <thead>\n",
              "    <tr style=\"text-align: right;\">\n",
              "      <th></th>\n",
              "      <th>exif_signatures</th>\n",
              "      <th>file_size</th>\n",
              "      <th>pdfid_signatures</th>\n",
              "      <th>pypdf_uris</th>\n",
              "      <th>regex_uris</th>\n",
              "      <th>regex_urls</th>\n",
              "      <th>scripts</th>\n",
              "      <th>static_properties</th>\n",
              "      <th>yara_signatures</th>\n",
              "      <th>pypdf_uris_num</th>\n",
              "      <th>...</th>\n",
              "      <th>yara_signatures_Big_Numbers2</th>\n",
              "      <th>yara_signatures_FlateDecode_wrong_version</th>\n",
              "      <th>yara_signatures_invalid_trailer_structure</th>\n",
              "      <th>yara_signatures_multiple_filtering</th>\n",
              "      <th>yara_signatures_without_attachments</th>\n",
              "      <th>yara_signatures_invalid_xref_numbers</th>\n",
              "      <th>yara_signatures_JBIG2_wrong_version</th>\n",
              "      <th>yara_signatures_possible_includes_base64_packed_functions</th>\n",
              "      <th>yara_signatures_vmdetect</th>\n",
              "      <th>sus_domain_count</th>\n",
              "    </tr>\n",
              "  </thead>\n",
              "  <tbody>\n",
              "    <tr>\n",
              "      <th>0</th>\n",
              "      <td>{}</td>\n",
              "      <td>129857</td>\n",
              "      <td>{}</td>\n",
              "      <td>['https://urllie.com/2l04g4', 'https://onmybet...</td>\n",
              "      <td>['https://urllie.com/2l04g4', 'https://onmybet...</td>\n",
              "      <td>['https', 'https', 'https', 'http://www.suaopi...</td>\n",
              "      <td>{'iframe': [], 'urls': []}</td>\n",
              "      <td>{'JBIG2Decode': '0', 'XML_forms': '0', 'acro_f...</td>\n",
              "      <td>['without_attachments', 'without_images', 'wit...</td>\n",
              "      <td>12</td>\n",
              "      <td>...</td>\n",
              "      <td>0</td>\n",
              "      <td>0</td>\n",
              "      <td>0</td>\n",
              "      <td>0</td>\n",
              "      <td>1</td>\n",
              "      <td>0</td>\n",
              "      <td>0</td>\n",
              "      <td>0</td>\n",
              "      <td>0</td>\n",
              "      <td>3</td>\n",
              "    </tr>\n",
              "    <tr>\n",
              "      <th>1</th>\n",
              "      <td>{}</td>\n",
              "      <td>251530</td>\n",
              "      <td>{}</td>\n",
              "      <td>['https://wirut.co.za/XSRYdR1H?utm_term=eia+we...</td>\n",
              "      <td>['https://wirut.co.za/XSRYdR1H?utm_term=eia+we...</td>\n",
              "      <td>['https', 'http://chinajnbt.com/images/upload/...</td>\n",
              "      <td>{'iframe': [], 'urls': []}</td>\n",
              "      <td>{'JBIG2Decode': '0', 'XML_forms': '0', 'acro_f...</td>\n",
              "      <td>['without_attachments', 'without_images', 'wit...</td>\n",
              "      <td>27</td>\n",
              "      <td>...</td>\n",
              "      <td>0</td>\n",
              "      <td>0</td>\n",
              "      <td>1</td>\n",
              "      <td>0</td>\n",
              "      <td>1</td>\n",
              "      <td>0</td>\n",
              "      <td>0</td>\n",
              "      <td>0</td>\n",
              "      <td>0</td>\n",
              "      <td>8</td>\n",
              "    </tr>\n",
              "    <tr>\n",
              "      <th>2</th>\n",
              "      <td>{}</td>\n",
              "      <td>176127</td>\n",
              "      <td>{}</td>\n",
              "      <td>['https://ragaz.co.za/XSRYdR1H?utm_term=abo+di...</td>\n",
              "      <td>['https://ragaz.co.za/XSRYdR1H?utm_term=abo+di...</td>\n",
              "      <td>['https', 'https', 'http://intechsol.kz/wp-con...</td>\n",
              "      <td>{'iframe': [], 'urls': []}</td>\n",
              "      <td>{'JBIG2Decode': '0', 'XML_forms': '0', 'acro_f...</td>\n",
              "      <td>['without_attachments', 'without_images', 'wit...</td>\n",
              "      <td>25</td>\n",
              "      <td>...</td>\n",
              "      <td>0</td>\n",
              "      <td>0</td>\n",
              "      <td>1</td>\n",
              "      <td>0</td>\n",
              "      <td>1</td>\n",
              "      <td>0</td>\n",
              "      <td>0</td>\n",
              "      <td>0</td>\n",
              "      <td>0</td>\n",
              "      <td>9</td>\n",
              "    </tr>\n",
              "    <tr>\n",
              "      <th>3</th>\n",
              "      <td>{}</td>\n",
              "      <td>47832</td>\n",
              "      <td>{}</td>\n",
              "      <td>['https://netcdn.tw/app/431946152/roblox-cheat...</td>\n",
              "      <td>['https://netcdn.tw/app/431946152/roblox-cheat...</td>\n",
              "      <td>['https', 'https', 'https', 'https', 'https', ...</td>\n",
              "      <td>{'iframe': [], 'urls': []}</td>\n",
              "      <td>{'JBIG2Decode': '0', 'XML_forms': '0', 'acro_f...</td>\n",
              "      <td>['without_attachments', 'without_images', 'wit...</td>\n",
              "      <td>22</td>\n",
              "      <td>...</td>\n",
              "      <td>0</td>\n",
              "      <td>0</td>\n",
              "      <td>1</td>\n",
              "      <td>0</td>\n",
              "      <td>1</td>\n",
              "      <td>0</td>\n",
              "      <td>0</td>\n",
              "      <td>0</td>\n",
              "      <td>0</td>\n",
              "      <td>22</td>\n",
              "    </tr>\n",
              "    <tr>\n",
              "      <th>4</th>\n",
              "      <td>{}</td>\n",
              "      <td>37657</td>\n",
              "      <td>{}</td>\n",
              "      <td>['https://netcdn.xyz/app/431946152/free-robux-...</td>\n",
              "      <td>['https://netcdn.xyz/app/431946152/free-robux-...</td>\n",
              "      <td>['https', 'https']</td>\n",
              "      <td>{'iframe': [], 'urls': []}</td>\n",
              "      <td>{'JBIG2Decode': '0', 'XML_forms': '0', 'acro_f...</td>\n",
              "      <td>['without_attachments', 'without_images', 'wit...</td>\n",
              "      <td>2</td>\n",
              "      <td>...</td>\n",
              "      <td>0</td>\n",
              "      <td>0</td>\n",
              "      <td>1</td>\n",
              "      <td>0</td>\n",
              "      <td>1</td>\n",
              "      <td>0</td>\n",
              "      <td>0</td>\n",
              "      <td>0</td>\n",
              "      <td>0</td>\n",
              "      <td>2</td>\n",
              "    </tr>\n",
              "  </tbody>\n",
              "</table>\n",
              "<p>5 rows × 71 columns</p>\n",
              "</div>\n",
              "    <div class=\"colab-df-buttons\">\n",
              "\n",
              "  <div class=\"colab-df-container\">\n",
              "    <button class=\"colab-df-convert\" onclick=\"convertToInteractive('df-9ff6304e-e816-4708-9976-216fa9f34b4b')\"\n",
              "            title=\"Convert this dataframe to an interactive table.\"\n",
              "            style=\"display:none;\">\n",
              "\n",
              "  <svg xmlns=\"http://www.w3.org/2000/svg\" height=\"24px\" viewBox=\"0 -960 960 960\">\n",
              "    <path d=\"M120-120v-720h720v720H120Zm60-500h600v-160H180v160Zm220 220h160v-160H400v160Zm0 220h160v-160H400v160ZM180-400h160v-160H180v160Zm440 0h160v-160H620v160ZM180-180h160v-160H180v160Zm440 0h160v-160H620v160Z\"/>\n",
              "  </svg>\n",
              "    </button>\n",
              "\n",
              "  <style>\n",
              "    .colab-df-container {\n",
              "      display:flex;\n",
              "      gap: 12px;\n",
              "    }\n",
              "\n",
              "    .colab-df-convert {\n",
              "      background-color: #E8F0FE;\n",
              "      border: none;\n",
              "      border-radius: 50%;\n",
              "      cursor: pointer;\n",
              "      display: none;\n",
              "      fill: #1967D2;\n",
              "      height: 32px;\n",
              "      padding: 0 0 0 0;\n",
              "      width: 32px;\n",
              "    }\n",
              "\n",
              "    .colab-df-convert:hover {\n",
              "      background-color: #E2EBFA;\n",
              "      box-shadow: 0px 1px 2px rgba(60, 64, 67, 0.3), 0px 1px 3px 1px rgba(60, 64, 67, 0.15);\n",
              "      fill: #174EA6;\n",
              "    }\n",
              "\n",
              "    .colab-df-buttons div {\n",
              "      margin-bottom: 4px;\n",
              "    }\n",
              "\n",
              "    [theme=dark] .colab-df-convert {\n",
              "      background-color: #3B4455;\n",
              "      fill: #D2E3FC;\n",
              "    }\n",
              "\n",
              "    [theme=dark] .colab-df-convert:hover {\n",
              "      background-color: #434B5C;\n",
              "      box-shadow: 0px 1px 3px 1px rgba(0, 0, 0, 0.15);\n",
              "      filter: drop-shadow(0px 1px 2px rgba(0, 0, 0, 0.3));\n",
              "      fill: #FFFFFF;\n",
              "    }\n",
              "  </style>\n",
              "\n",
              "    <script>\n",
              "      const buttonEl =\n",
              "        document.querySelector('#df-9ff6304e-e816-4708-9976-216fa9f34b4b button.colab-df-convert');\n",
              "      buttonEl.style.display =\n",
              "        google.colab.kernel.accessAllowed ? 'block' : 'none';\n",
              "\n",
              "      async function convertToInteractive(key) {\n",
              "        const element = document.querySelector('#df-9ff6304e-e816-4708-9976-216fa9f34b4b');\n",
              "        const dataTable =\n",
              "          await google.colab.kernel.invokeFunction('convertToInteractive',\n",
              "                                                    [key], {});\n",
              "        if (!dataTable) return;\n",
              "\n",
              "        const docLinkHtml = 'Like what you see? Visit the ' +\n",
              "          '<a target=\"_blank\" href=https://colab.research.google.com/notebooks/data_table.ipynb>data table notebook</a>'\n",
              "          + ' to learn more about interactive tables.';\n",
              "        element.innerHTML = '';\n",
              "        dataTable['output_type'] = 'display_data';\n",
              "        await google.colab.output.renderOutput(dataTable, element);\n",
              "        const docLink = document.createElement('div');\n",
              "        docLink.innerHTML = docLinkHtml;\n",
              "        element.appendChild(docLink);\n",
              "      }\n",
              "    </script>\n",
              "  </div>\n",
              "\n",
              "\n",
              "<div id=\"df-cced9937-b972-4354-bb34-58bcf02aa638\">\n",
              "  <button class=\"colab-df-quickchart\" onclick=\"quickchart('df-cced9937-b972-4354-bb34-58bcf02aa638')\"\n",
              "            title=\"Suggest charts\"\n",
              "            style=\"display:none;\">\n",
              "\n",
              "<svg xmlns=\"http://www.w3.org/2000/svg\" height=\"24px\"viewBox=\"0 0 24 24\"\n",
              "     width=\"24px\">\n",
              "    <g>\n",
              "        <path d=\"M19 3H5c-1.1 0-2 .9-2 2v14c0 1.1.9 2 2 2h14c1.1 0 2-.9 2-2V5c0-1.1-.9-2-2-2zM9 17H7v-7h2v7zm4 0h-2V7h2v10zm4 0h-2v-4h2v4z\"/>\n",
              "    </g>\n",
              "</svg>\n",
              "  </button>\n",
              "\n",
              "<style>\n",
              "  .colab-df-quickchart {\n",
              "      --bg-color: #E8F0FE;\n",
              "      --fill-color: #1967D2;\n",
              "      --hover-bg-color: #E2EBFA;\n",
              "      --hover-fill-color: #174EA6;\n",
              "      --disabled-fill-color: #AAA;\n",
              "      --disabled-bg-color: #DDD;\n",
              "  }\n",
              "\n",
              "  [theme=dark] .colab-df-quickchart {\n",
              "      --bg-color: #3B4455;\n",
              "      --fill-color: #D2E3FC;\n",
              "      --hover-bg-color: #434B5C;\n",
              "      --hover-fill-color: #FFFFFF;\n",
              "      --disabled-bg-color: #3B4455;\n",
              "      --disabled-fill-color: #666;\n",
              "  }\n",
              "\n",
              "  .colab-df-quickchart {\n",
              "    background-color: var(--bg-color);\n",
              "    border: none;\n",
              "    border-radius: 50%;\n",
              "    cursor: pointer;\n",
              "    display: none;\n",
              "    fill: var(--fill-color);\n",
              "    height: 32px;\n",
              "    padding: 0;\n",
              "    width: 32px;\n",
              "  }\n",
              "\n",
              "  .colab-df-quickchart:hover {\n",
              "    background-color: var(--hover-bg-color);\n",
              "    box-shadow: 0 1px 2px rgba(60, 64, 67, 0.3), 0 1px 3px 1px rgba(60, 64, 67, 0.15);\n",
              "    fill: var(--button-hover-fill-color);\n",
              "  }\n",
              "\n",
              "  .colab-df-quickchart-complete:disabled,\n",
              "  .colab-df-quickchart-complete:disabled:hover {\n",
              "    background-color: var(--disabled-bg-color);\n",
              "    fill: var(--disabled-fill-color);\n",
              "    box-shadow: none;\n",
              "  }\n",
              "\n",
              "  .colab-df-spinner {\n",
              "    border: 2px solid var(--fill-color);\n",
              "    border-color: transparent;\n",
              "    border-bottom-color: var(--fill-color);\n",
              "    animation:\n",
              "      spin 1s steps(1) infinite;\n",
              "  }\n",
              "\n",
              "  @keyframes spin {\n",
              "    0% {\n",
              "      border-color: transparent;\n",
              "      border-bottom-color: var(--fill-color);\n",
              "      border-left-color: var(--fill-color);\n",
              "    }\n",
              "    20% {\n",
              "      border-color: transparent;\n",
              "      border-left-color: var(--fill-color);\n",
              "      border-top-color: var(--fill-color);\n",
              "    }\n",
              "    30% {\n",
              "      border-color: transparent;\n",
              "      border-left-color: var(--fill-color);\n",
              "      border-top-color: var(--fill-color);\n",
              "      border-right-color: var(--fill-color);\n",
              "    }\n",
              "    40% {\n",
              "      border-color: transparent;\n",
              "      border-right-color: var(--fill-color);\n",
              "      border-top-color: var(--fill-color);\n",
              "    }\n",
              "    60% {\n",
              "      border-color: transparent;\n",
              "      border-right-color: var(--fill-color);\n",
              "    }\n",
              "    80% {\n",
              "      border-color: transparent;\n",
              "      border-right-color: var(--fill-color);\n",
              "      border-bottom-color: var(--fill-color);\n",
              "    }\n",
              "    90% {\n",
              "      border-color: transparent;\n",
              "      border-bottom-color: var(--fill-color);\n",
              "    }\n",
              "  }\n",
              "</style>\n",
              "\n",
              "  <script>\n",
              "    async function quickchart(key) {\n",
              "      const quickchartButtonEl =\n",
              "        document.querySelector('#' + key + ' button');\n",
              "      quickchartButtonEl.disabled = true;  // To prevent multiple clicks.\n",
              "      quickchartButtonEl.classList.add('colab-df-spinner');\n",
              "      try {\n",
              "        const charts = await google.colab.kernel.invokeFunction(\n",
              "            'suggestCharts', [key], {});\n",
              "      } catch (error) {\n",
              "        console.error('Error during call to suggestCharts:', error);\n",
              "      }\n",
              "      quickchartButtonEl.classList.remove('colab-df-spinner');\n",
              "      quickchartButtonEl.classList.add('colab-df-quickchart-complete');\n",
              "    }\n",
              "    (() => {\n",
              "      let quickchartButtonEl =\n",
              "        document.querySelector('#df-cced9937-b972-4354-bb34-58bcf02aa638 button');\n",
              "      quickchartButtonEl.style.display =\n",
              "        google.colab.kernel.accessAllowed ? 'block' : 'none';\n",
              "    })();\n",
              "  </script>\n",
              "</div>\n",
              "\n",
              "    </div>\n",
              "  </div>\n"
            ]
          },
          "metadata": {},
          "execution_count": 11
        }
      ]
    },
    {
      "cell_type": "code",
      "source": [
        "sus_domain_count = []\n",
        "\n",
        "\n",
        "for j in range(4):\n",
        "  malicious = 0\n",
        "  benign = 0\n",
        "  for i in range(len(df['pypdf_uris'])):\n",
        "    sus_domain_extension = 0\n",
        "\n",
        "\n",
        "    url_string = df['pypdf_uris'][i]\n",
        "    # Removing square brackets and splitting the string into a list\n",
        "    url_list = url_string.strip(\"[]\").split(\", \")\n",
        "\n",
        "    # Removing single quotes from each URL\n",
        "    url_list = [url.strip(\"'\") for url in url_list]\n",
        "\n",
        "    domain_extensions = [tldextract.extract(url).suffix for url in url_list]\n",
        "\n",
        "    for ext in domain_extensions:\n",
        "      if ext not in safe_domain_extensions:\n",
        "        sus_domain_extension += 1\n",
        "\n",
        "    sus_domain_count.append(sus_domain_extension)\n",
        "\n",
        "    if sus_domain_extension > j:\n",
        "      if df['malicious/benign'][i] == 1:\n",
        "        malicious += 1\n",
        "      else:\n",
        "        benign += 1\n",
        "\n",
        "  print(f\"For threshold value of {j}\")\n",
        "  print(f'malicious: {malicious}')\n",
        "  print(f'benign: {benign}')\n",
        "  print(\"\\n\\n\")"
      ],
      "metadata": {
        "colab": {
          "base_uri": "https://localhost:8080/"
        },
        "id": "Yd--m5cZECHk",
        "outputId": "5337c369-a92c-4049-bf8a-f4e5c7dd3cc7"
      },
      "execution_count": null,
      "outputs": [
        {
          "output_type": "stream",
          "name": "stdout",
          "text": [
            "For threshold value of 0\n",
            "malicious: 4219\n",
            "benign: 4143\n",
            "\n",
            "\n",
            "\n",
            "For threshold value of 1\n",
            "malicious: 3840\n",
            "benign: 451\n",
            "\n",
            "\n",
            "\n",
            "For threshold value of 2\n",
            "malicious: 2637\n",
            "benign: 342\n",
            "\n",
            "\n",
            "\n",
            "For threshold value of 3\n",
            "malicious: 2473\n",
            "benign: 268\n",
            "\n",
            "\n",
            "\n"
          ]
        }
      ]
    },
    {
      "cell_type": "markdown",
      "source": [
        "Code Cell 4"
      ],
      "metadata": {
        "id": "arXPcswGL1df"
      }
    },
    {
      "cell_type": "markdown",
      "source": [
        "Extracting information about Benign and Malicious Files containing links to other file attachments.\n"
      ],
      "metadata": {
        "id": "r08rqwgP90mE"
      }
    },
    {
      "cell_type": "code",
      "source": [
        "df_benign['pypdf_uris'][0]"
      ],
      "metadata": {
        "colab": {
          "base_uri": "https://localhost:8080/",
          "height": 53
        },
        "id": "mHinUGy8WCM0",
        "outputId": "2f761377-2e1d-4918-b1a3-1ae031aca9e0"
      },
      "execution_count": null,
      "outputs": [
        {
          "output_type": "execute_result",
          "data": {
            "text/plain": [
              "\"['https://www.hsbcnet.com/-/media/hsbcnet/support/qg/gl_627.pdf', 'https://www.hsbcnet.com/-/media/hsbcnet/support/qg/gl_627.pdf', 'https://www.hsbcnet.com/-/media/hsbcnet/support/qg/gl_626.pdf']\""
            ],
            "application/vnd.google.colaboratory.intrinsic+json": {
              "type": "string"
            }
          },
          "metadata": {},
          "execution_count": 13
        }
      ]
    },
    {
      "cell_type": "code",
      "source": [
        "file_attachments_count_list = []\n",
        "\n",
        "for i in range(len(df_benign['pypdf_uris'])):\n",
        "  url_string = df_benign['pypdf_uris'][i]\n",
        "  # Removing square brackets and splitting the string into a list\n",
        "  url_list = url_string.strip(\"[]\").split(\", \")\n",
        "\n",
        "  # Removing single quotes from each URL\n",
        "  url_list = [url.strip(\"'\") for url in url_list]\n",
        "\n",
        "  file_attachments_count = sum(1 for url in url_list if url.endswith('.pdf') or url.endswith('.doc') or url.endswith('.docx'))\n",
        "\n",
        "  file_attachments_count_list.append(file_attachments_count)\n",
        "\n",
        "df_benign['file_attachments_count'] = file_attachments_count_list"
      ],
      "metadata": {
        "colab": {
          "base_uri": "https://localhost:8080/"
        },
        "id": "VtnBR-ZXVEn2",
        "outputId": "5da874dd-a118-4505-8970-d49a131b28c4"
      },
      "execution_count": null,
      "outputs": [
        {
          "output_type": "stream",
          "name": "stderr",
          "text": [
            "<ipython-input-14-d39ae0cbfb0d>:15: SettingWithCopyWarning: \n",
            "A value is trying to be set on a copy of a slice from a DataFrame.\n",
            "Try using .loc[row_indexer,col_indexer] = value instead\n",
            "\n",
            "See the caveats in the documentation: https://pandas.pydata.org/pandas-docs/stable/user_guide/indexing.html#returning-a-view-versus-a-copy\n",
            "  df_benign['file_attachments_count'] = file_attachments_count_list\n"
          ]
        }
      ]
    },
    {
      "cell_type": "code",
      "source": [
        "benign_file_atch_series = df_benign['file_attachments_count'].describe()\n",
        "\n",
        "benign_file_atch_series.drop(\"count\", inplace=True)\n",
        "\n",
        "benign_file_atch_series"
      ],
      "metadata": {
        "colab": {
          "base_uri": "https://localhost:8080/"
        },
        "id": "2fE0mVFSVk-P",
        "outputId": "ff055222-bdab-4781-c1f2-53698e183032"
      },
      "execution_count": null,
      "outputs": [
        {
          "output_type": "execute_result",
          "data": {
            "text/plain": [
              "mean      0.961815\n",
              "std       8.887820\n",
              "min       0.000000\n",
              "25%       0.000000\n",
              "50%       0.000000\n",
              "75%       0.000000\n",
              "max     313.000000\n",
              "Name: file_attachments_count, dtype: float64"
            ]
          },
          "metadata": {},
          "execution_count": 15
        }
      ]
    },
    {
      "cell_type": "code",
      "source": [
        "sns.boxplot(df_benign['file_attachments_count'])"
      ],
      "metadata": {
        "colab": {
          "base_uri": "https://localhost:8080/",
          "height": 447
        },
        "id": "AVeYRTw8xWz0",
        "outputId": "e1ddde71-5d19-4843-aa8e-b1a72aa52268"
      },
      "execution_count": null,
      "outputs": [
        {
          "output_type": "execute_result",
          "data": {
            "text/plain": [
              "<Axes: >"
            ]
          },
          "metadata": {},
          "execution_count": 25
        },
        {
          "output_type": "display_data",
          "data": {
            "text/plain": [
              "<Figure size 640x480 with 1 Axes>"
            ],
            "image/png": "[encoded data removed]"
          },
          "metadata": {}
        }
      ]
    },
    {
      "cell_type": "code",
      "source": [
        "mean = (np.mean(df_benign['file_attachments_count']))\n",
        "print(mean)\n",
        "sigma = (np.std(df_benign['file_attachments_count']))\n",
        "print(sigma)\n",
        "sigmathreshold3 = mean + (3*sigma)\n",
        "print(sigmathreshold3)\n",
        "print(np.where((df_benign['file_attachments_count'] > 28)))"
      ],
      "metadata": {
        "colab": {
          "base_uri": "https://localhost:8080/"
        },
        "id": "SLba8xykx4LW",
        "outputId": "df6e1185-f7a9-4a51-cc22-b35882b2ddfc"
      },
      "execution_count": null,
      "outputs": [
        {
          "output_type": "stream",
          "name": "stdout",
          "text": [
            "0.9618152738904439\n",
            "8.886931434602907\n",
            "27.622609577699166\n",
            "(array([  45,   92,  277,  416,  736,  801,  889,  958, 1077, 1125, 1201,\n",
            "       1231, 1407, 1520, 1522, 1602, 1664, 1820, 1842, 1915, 2764, 2774,\n",
            "       3092, 3264, 3357, 3407, 3697, 3734, 3969, 4022, 4038, 4069, 4080,\n",
            "       4171, 4225, 4326, 4803, 4922]),)\n"
          ]
        }
      ]
    },
    {
      "cell_type": "markdown",
      "source": [
        "df_malicious"
      ],
      "metadata": {
        "id": "A6BXeDtLVwPE"
      }
    },
    {
      "cell_type": "code",
      "source": [
        "file_attachments_count_list = []\n",
        "\n",
        "for i in range(len(df_malicious['pypdf_uris'])):\n",
        "  url_string = df_malicious['pypdf_uris'][i]\n",
        "  # Removing square brackets and splitting the string into a list\n",
        "  url_list = url_string.strip(\"[]\").split(\", \")\n",
        "\n",
        "  # Removing single quotes from each URL\n",
        "  url_list = [url.strip(\"'\") for url in url_list]\n",
        "\n",
        "  file_attachments_count = sum(1 for url in url_list if url.endswith('.pdf') or url.endswith('.doc') or url.endswith('.docx'))\n",
        "\n",
        "  file_attachments_count_list.append(file_attachments_count)\n",
        "\n",
        "df_malicious['file_attachments_count'] = file_attachments_count_list"
      ],
      "metadata": {
        "colab": {
          "base_uri": "https://localhost:8080/"
        },
        "id": "kHUGEH24VwA0",
        "outputId": "a37f5deb-4217-4313-e2b8-da68449241d5"
      },
      "execution_count": null,
      "outputs": [
        {
          "output_type": "stream",
          "name": "stderr",
          "text": [
            "<ipython-input-16-1c5ef1244408>:15: SettingWithCopyWarning: \n",
            "A value is trying to be set on a copy of a slice from a DataFrame.\n",
            "Try using .loc[row_indexer,col_indexer] = value instead\n",
            "\n",
            "See the caveats in the documentation: https://pandas.pydata.org/pandas-docs/stable/user_guide/indexing.html#returning-a-view-versus-a-copy\n",
            "  df_malicious['file_attachments_count'] = file_attachments_count_list\n"
          ]
        }
      ]
    },
    {
      "cell_type": "code",
      "source": [
        "malicious_file_atch_series = df_malicious['file_attachments_count'].describe()\n",
        "\n",
        "malicious_file_atch_series.drop(\"count\", inplace=True)\n",
        "\n",
        "malicious_file_atch_series"
      ],
      "metadata": {
        "colab": {
          "base_uri": "https://localhost:8080/"
        },
        "id": "s-CIqKQLW4ob",
        "outputId": "f31085c5-252b-4661-f139-2c5d5652336c"
      },
      "execution_count": null,
      "outputs": [
        {
          "output_type": "execute_result",
          "data": {
            "text/plain": [
              "mean    15.844711\n",
              "std      9.742897\n",
              "min      0.000000\n",
              "25%      7.000000\n",
              "50%     20.000000\n",
              "75%     20.000000\n",
              "max     54.000000\n",
              "Name: file_attachments_count, dtype: float64"
            ]
          },
          "metadata": {},
          "execution_count": 17
        }
      ]
    },
    {
      "cell_type": "markdown",
      "source": [
        "Plotting the file_attachments_count description in both the benign and malicious files."
      ],
      "metadata": {
        "id": "nFtUKc1XXTTg"
      }
    },
    {
      "cell_type": "code",
      "source": [
        "# Names of the statistics\n",
        "categories = list(benign_file_atch_series.index)\n",
        "\n",
        "# Values for each type of files.\n",
        "values_series_1 = list(benign_file_atch_series.values)\n",
        "values_series_2 = list(malicious_file_atch_series.values)\n",
        "\n",
        "\n",
        "# Adding two different bars to the chart\n",
        "fig = go.Figure(data=[\n",
        "    go.Bar(name='Benign', x=categories, y=values_series_1),\n",
        "    go.Bar(name='Malicious', x=categories, y=values_series_2)\n",
        "])\n",
        "\n",
        "# Making a Grouped Bar Chart\n",
        "fig.update_layout(barmode='group', title='Grouped Bar Chart of Descriptions of Benign and Malicious PDF Files',\n",
        "                  xaxis_title='Statistical Measures', yaxis_title='Values')\n",
        "\n",
        "fig.show()"
      ],
      "metadata": {
        "colab": {
          "base_uri": "https://localhost:8080/",
          "height": 542
        },
        "id": "io81qPKfXFbj",
        "outputId": "56de0dfa-c6fa-43cb-a2cd-d6c7dd9705e8"
      },
      "execution_count": null,
      "outputs": [
        {
          "output_type": "display_data",
          "data": {
            "text/html": [
              "<html>\n",
              "<head><meta charset=\"utf-8\" /></head>\n",
              "<body>\n",
              "    <div>            <script src=\"https://cdnjs.cloudflare.com/ajax/libs/mathjax/2.7.5/MathJax.js?config=TeX-AMS-MML_SVG\"></script><script type=\"text/javascript\">if (window.MathJax && window.MathJax.Hub && window.MathJax.Hub.Config) {window.MathJax.Hub.Config({SVG: {font: \"STIX-Web\"}});}</script>                <script type=\"text/javascript\">window.PlotlyConfig = {MathJaxConfig: 'local'};</script>\n",
              "        <script charset=\"utf-8\" src=\"https://cdn.plot.ly/plotly-2.24.1.min.js\"></script>                <div id=\"52d03ebf-ffd5-4f77-8e60-019a242da143\" class=\"plotly-graph-div\" style=\"height:525px; width:100%;\"></div>            <script type=\"text/javascript\">                                    window.PLOTLYENV=window.PLOTLYENV || {};                                    if (document.getElementById(\"52d03ebf-ffd5-4f77-8e60-019a242da143\")) {                    Plotly.newPlot(                        \"52d03ebf-ffd5-4f77-8e60-019a242da143\",                        [{\"name\":\"Benign\",\"x\":[\"mean\",\"std\",\"min\",\"25%\",\"50%\",\"75%\",\"max\"],\"y\":[0.9618152738904439,8.887819905630831,0.0,0.0,0.0,0.0,313.0],\"type\":\"bar\"},{\"name\":\"Malicious\",\"x\":[\"mean\",\"std\",\"min\",\"25%\",\"50%\",\"75%\",\"max\"],\"y\":[15.844711335861778,9.742896710030573,0.0,7.0,20.0,20.0,54.0],\"type\":\"bar\"}],                        {\"template\":{\"data\":{\"histogram2dcontour\":[{\"type\":\"histogram2dcontour\",\"colorbar\":{\"outlinewidth\":0,\"ticks\":\"\"},\"colorscale\":[[0.0,\"#0d0887\"],[0.1111111111111111,\"#46039f\"],[0.2222222222222222,\"#7201a8\"],[0.3333333333333333,\"#9c179e\"],[0.4444444444444444,\"#bd3786\"],[0.5555555555555556,\"#d8576b\"],[0.6666666666666666,\"#ed7953\"],[0.7777777777777778,\"#fb9f3a\"],[0.8888888888888888,\"#fdca26\"],[1.0,\"#f0f921\"]]}],\"choropleth\":[{\"type\":\"choropleth\",\"colorbar\":{\"outlinewidth\":0,\"ticks\":\"\"}}],\"histogram2d\":[{\"type\":\"histogram2d\",\"colorbar\":{\"outlinewidth\":0,\"ticks\":\"\"},\"colorscale\":[[0.0,\"#0d0887\"],[0.1111111111111111,\"#46039f\"],[0.2222222222222222,\"#7201a8\"],[0.3333333333333333,\"#9c179e\"],[0.4444444444444444,\"#bd3786\"],[0.5555555555555556,\"#d8576b\"],[0.6666666666666666,\"#ed7953\"],[0.7777777777777778,\"#fb9f3a\"],[0.8888888888888888,\"#fdca26\"],[1.0,\"#f0f921\"]]}],\"heatmap\":[{\"type\":\"heatmap\",\"colorbar\":{\"outlinewidth\":0,\"ticks\":\"\"},\"colorscale\":[[0.0,\"#0d0887\"],[0.1111111111111111,\"#46039f\"],[0.2222222222222222,\"#7201a8\"],[0.3333333333333333,\"#9c179e\"],[0.4444444444444444,\"#bd3786\"],[0.5555555555555556,\"#d8576b\"],[0.6666666666666666,\"#ed7953\"],[0.7777777777777778,\"#fb9f3a\"],[0.8888888888888888,\"#fdca26\"],[1.0,\"#f0f921\"]]}],\"heatmapgl\":[{\"type\":\"heatmapgl\",\"colorbar\":{\"outlinewidth\":0,\"ticks\":\"\"},\"colorscale\":[[0.0,\"#0d0887\"],[0.1111111111111111,\"#46039f\"],[0.2222222222222222,\"#7201a8\"],[0.3333333333333333,\"#9c179e\"],[0.4444444444444444,\"#bd3786\"],[0.5555555555555556,\"#d8576b\"],[0.6666666666666666,\"#ed7953\"],[0.7777777777777778,\"#fb9f3a\"],[0.8888888888888888,\"#fdca26\"],[1.0,\"#f0f921\"]]}],\"contourcarpet\":[{\"type\":\"contourcarpet\",\"colorbar\":{\"outlinewidth\":0,\"ticks\":\"\"}}],\"contour\":[{\"type\":\"contour\",\"colorbar\":{\"outlinewidth\":0,\"ticks\":\"\"},\"colorscale\":[[0.0,\"#0d0887\"],[0.1111111111111111,\"#46039f\"],[0.2222222222222222,\"#7201a8\"],[0.3333333333333333,\"#9c179e\"],[0.4444444444444444,\"#bd3786\"],[0.5555555555555556,\"#d8576b\"],[0.6666666666666666,\"#ed7953\"],[0.7777777777777778,\"#fb9f3a\"],[0.8888888888888888,\"#fdca26\"],[1.0,\"#f0f921\"]]}],\"surface\":[{\"type\":\"surface\",\"colorbar\":{\"outlinewidth\":0,\"ticks\":\"\"},\"colorscale\":[[0.0,\"#0d0887\"],[0.1111111111111111,\"#46039f\"],[0.2222222222222222,\"#7201a8\"],[0.3333333333333333,\"#9c179e\"],[0.4444444444444444,\"#bd3786\"],[0.5555555555555556,\"#d8576b\"],[0.6666666666666666,\"#ed7953\"],[0.7777777777777778,\"#fb9f3a\"],[0.8888888888888888,\"#fdca26\"],[1.0,\"#f0f921\"]]}],\"mesh3d\":[{\"type\":\"mesh3d\",\"colorbar\":{\"outlinewidth\":0,\"ticks\":\"\"}}],\"scatter\":[{\"fillpattern\":{\"fillmode\":\"overlay\",\"size\":10,\"solidity\":0.2},\"type\":\"scatter\"}],\"parcoords\":[{\"type\":\"parcoords\",\"line\":{\"colorbar\":{\"outlinewidth\":0,\"ticks\":\"\"}}}],\"scatterpolargl\":[{\"type\":\"scatterpolargl\",\"marker\":{\"colorbar\":{\"outlinewidth\":0,\"ticks\":\"\"}}}],\"bar\":[{\"error_x\":{\"color\":\"#2a3f5f\"},\"error_y\":{\"color\":\"#2a3f5f\"},\"marker\":{\"line\":{\"color\":\"#E5ECF6\",\"width\":0.5},\"pattern\":{\"fillmode\":\"overlay\",\"size\":10,\"solidity\":0.2}},\"type\":\"bar\"}],\"scattergeo\":[{\"type\":\"scattergeo\",\"marker\":{\"colorbar\":{\"outlinewidth\":0,\"ticks\":\"\"}}}],\"scatterpolar\":[{\"type\":\"scatterpolar\",\"marker\":{\"colorbar\":{\"outlinewidth\":0,\"ticks\":\"\"}}}],\"histogram\":[{\"marker\":{\"pattern\":{\"fillmode\":\"overlay\",\"size\":10,\"solidity\":0.2}},\"type\":\"histogram\"}],\"scattergl\":[{\"type\":\"scattergl\",\"marker\":{\"colorbar\":{\"outlinewidth\":0,\"ticks\":\"\"}}}],\"scatter3d\":[{\"type\":\"scatter3d\",\"line\":{\"colorbar\":{\"outlinewidth\":0,\"ticks\":\"\"}},\"marker\":{\"colorbar\":{\"outlinewidth\":0,\"ticks\":\"\"}}}],\"scattermapbox\":[{\"type\":\"scattermapbox\",\"marker\":{\"colorbar\":{\"outlinewidth\":0,\"ticks\":\"\"}}}],\"scatterternary\":[{\"type\":\"scatterternary\",\"marker\":{\"colorbar\":{\"outlinewidth\":0,\"ticks\":\"\"}}}],\"scattercarpet\":[{\"type\":\"scattercarpet\",\"marker\":{\"colorbar\":{\"outlinewidth\":0,\"ticks\":\"\"}}}],\"carpet\":[{\"aaxis\":{\"endlinecolor\":\"#2a3f5f\",\"gridcolor\":\"white\",\"linecolor\":\"white\",\"minorgridcolor\":\"white\",\"startlinecolor\":\"#2a3f5f\"},\"baxis\":{\"endlinecolor\":\"#2a3f5f\",\"gridcolor\":\"white\",\"linecolor\":\"white\",\"minorgridcolor\":\"white\",\"startlinecolor\":\"#2a3f5f\"},\"type\":\"carpet\"}],\"table\":[{\"cells\":{\"fill\":{\"color\":\"#EBF0F8\"},\"line\":{\"color\":\"white\"}},\"header\":{\"fill\":{\"color\":\"#C8D4E3\"},\"line\":{\"color\":\"white\"}},\"type\":\"table\"}],\"barpolar\":[{\"marker\":{\"line\":{\"color\":\"#E5ECF6\",\"width\":0.5},\"pattern\":{\"fillmode\":\"overlay\",\"size\":10,\"solidity\":0.2}},\"type\":\"barpolar\"}],\"pie\":[{\"automargin\":true,\"type\":\"pie\"}]},\"layout\":{\"autotypenumbers\":\"strict\",\"colorway\":[\"#636efa\",\"#EF553B\",\"#00cc96\",\"#ab63fa\",\"#FFA15A\",\"#19d3f3\",\"#FF6692\",\"#B6E880\",\"#FF97FF\",\"#FECB52\"],\"font\":{\"color\":\"#2a3f5f\"},\"hovermode\":\"closest\",\"hoverlabel\":{\"align\":\"left\"},\"paper_bgcolor\":\"white\",\"plot_bgcolor\":\"#E5ECF6\",\"polar\":{\"bgcolor\":\"#E5ECF6\",\"angularaxis\":{\"gridcolor\":\"white\",\"linecolor\":\"white\",\"ticks\":\"\"},\"radialaxis\":{\"gridcolor\":\"white\",\"linecolor\":\"white\",\"ticks\":\"\"}},\"ternary\":{\"bgcolor\":\"#E5ECF6\",\"aaxis\":{\"gridcolor\":\"white\",\"linecolor\":\"white\",\"ticks\":\"\"},\"baxis\":{\"gridcolor\":\"white\",\"linecolor\":\"white\",\"ticks\":\"\"},\"caxis\":{\"gridcolor\":\"white\",\"linecolor\":\"white\",\"ticks\":\"\"}},\"coloraxis\":{\"colorbar\":{\"outlinewidth\":0,\"ticks\":\"\"}},\"colorscale\":{\"sequential\":[[0.0,\"#0d0887\"],[0.1111111111111111,\"#46039f\"],[0.2222222222222222,\"#7201a8\"],[0.3333333333333333,\"#9c179e\"],[0.4444444444444444,\"#bd3786\"],[0.5555555555555556,\"#d8576b\"],[0.6666666666666666,\"#ed7953\"],[0.7777777777777778,\"#fb9f3a\"],[0.8888888888888888,\"#fdca26\"],[1.0,\"#f0f921\"]],\"sequentialminus\":[[0.0,\"#0d0887\"],[0.1111111111111111,\"#46039f\"],[0.2222222222222222,\"#7201a8\"],[0.3333333333333333,\"#9c179e\"],[0.4444444444444444,\"#bd3786\"],[0.5555555555555556,\"#d8576b\"],[0.6666666666666666,\"#ed7953\"],[0.7777777777777778,\"#fb9f3a\"],[0.8888888888888888,\"#fdca26\"],[1.0,\"#f0f921\"]],\"diverging\":[[0,\"#8e0152\"],[0.1,\"#c51b7d\"],[0.2,\"#de77ae\"],[0.3,\"#f1b6da\"],[0.4,\"#fde0ef\"],[0.5,\"#f7f7f7\"],[0.6,\"#e6f5d0\"],[0.7,\"#b8e186\"],[0.8,\"#7fbc41\"],[0.9,\"#4d9221\"],[1,\"#276419\"]]},\"xaxis\":{\"gridcolor\":\"white\",\"linecolor\":\"white\",\"ticks\":\"\",\"title\":{\"standoff\":15},\"zerolinecolor\":\"white\",\"automargin\":true,\"zerolinewidth\":2},\"yaxis\":{\"gridcolor\":\"white\",\"linecolor\":\"white\",\"ticks\":\"\",\"title\":{\"standoff\":15},\"zerolinecolor\":\"white\",\"automargin\":true,\"zerolinewidth\":2},\"scene\":{\"xaxis\":{\"backgroundcolor\":\"#E5ECF6\",\"gridcolor\":\"white\",\"linecolor\":\"white\",\"showbackground\":true,\"ticks\":\"\",\"zerolinecolor\":\"white\",\"gridwidth\":2},\"yaxis\":{\"backgroundcolor\":\"#E5ECF6\",\"gridcolor\":\"white\",\"linecolor\":\"white\",\"showbackground\":true,\"ticks\":\"\",\"zerolinecolor\":\"white\",\"gridwidth\":2},\"zaxis\":{\"backgroundcolor\":\"#E5ECF6\",\"gridcolor\":\"white\",\"linecolor\":\"white\",\"showbackground\":true,\"ticks\":\"\",\"zerolinecolor\":\"white\",\"gridwidth\":2}},\"shapedefaults\":{\"line\":{\"color\":\"#2a3f5f\"}},\"annotationdefaults\":{\"arrowcolor\":\"#2a3f5f\",\"arrowhead\":0,\"arrowwidth\":1},\"geo\":{\"bgcolor\":\"white\",\"landcolor\":\"#E5ECF6\",\"subunitcolor\":\"white\",\"showland\":true,\"showlakes\":true,\"lakecolor\":\"white\"},\"title\":{\"x\":0.05},\"mapbox\":{\"style\":\"light\"}}},\"barmode\":\"group\",\"title\":{\"text\":\"Grouped Bar Chart of Descriptions of Benign and Malicious PDF Files\"},\"xaxis\":{\"title\":{\"text\":\"Statistical Measures\"}},\"yaxis\":{\"title\":{\"text\":\"Values\"}}},                        {\"responsive\": true}                    ).then(function(){\n",
              "                            \n",
              "var gd = document.getElementById('52d03ebf-ffd5-4f77-8e60-019a242da143');\n",
              "var x = new MutationObserver(function (mutations, observer) {{\n",
              "        var display = window.getComputedStyle(gd).display;\n",
              "        if (!display || display === 'none') {{\n",
              "            console.log([gd, 'removed!']);\n",
              "            Plotly.purge(gd);\n",
              "            observer.disconnect();\n",
              "        }}\n",
              "}});\n",
              "\n",
              "// Listen for the removal of the full notebook cells\n",
              "var notebookContainer = gd.closest('#notebook-container');\n",
              "if (notebookContainer) {{\n",
              "    x.observe(notebookContainer, {childList: true});\n",
              "}}\n",
              "\n",
              "// Listen for the clearing of the current output cell\n",
              "var outputEl = gd.closest('.output');\n",
              "if (outputEl) {{\n",
              "    x.observe(outputEl, {childList: true});\n",
              "}}\n",
              "\n",
              "                        })                };                            </script>        </div>\n",
              "</body>\n",
              "</html>"
            ]
          },
          "metadata": {}
        }
      ]
    },
    {
      "cell_type": "markdown",
      "source": [
        "Code Cell 5"
      ],
      "metadata": {
        "id": "WrnxkhDqLxdH"
      }
    },
    {
      "cell_type": "code",
      "source": [
        "df_file_atch = pd.DataFrame()\n",
        "df_file_atch['Benign'] = benign_file_atch_series\n",
        "df_file_atch['Malicious'] = malicious_file_atch_series\n",
        "\n",
        "df_file_atch"
      ],
      "metadata": {
        "colab": {
          "base_uri": "https://localhost:8080/",
          "height": 269
        },
        "id": "oh6Dt2eYguCW",
        "outputId": "67583eb2-016e-49a8-ef09-27e6e08cbfd5"
      },
      "execution_count": null,
      "outputs": [
        {
          "output_type": "execute_result",
          "data": {
            "text/plain": [
              "          Benign  Malicious\n",
              "mean    0.961815  15.844711\n",
              "std     8.887820   9.742897\n",
              "min     0.000000   0.000000\n",
              "25%     0.000000   7.000000\n",
              "50%     0.000000  20.000000\n",
              "75%     0.000000  20.000000\n",
              "max   313.000000  54.000000"
            ],
            "text/html": [
              "\n",
              "  <div id=\"df-89cce018-c803-4c82-98c9-e0e33822a962\" class=\"colab-df-container\">\n",
              "    <div>\n",
              "<style scoped>\n",
              "    .dataframe tbody tr th:only-of-type {\n",
              "        vertical-align: middle;\n",
              "    }\n",
              "\n",
              "    .dataframe tbody tr th {\n",
              "        vertical-align: top;\n",
              "    }\n",
              "\n",
              "    .dataframe thead th {\n",
              "        text-align: right;\n",
              "    }\n",
              "</style>\n",
              "<table border=\"1\" class=\"dataframe\">\n",
              "  <thead>\n",
              "    <tr style=\"text-align: right;\">\n",
              "      <th></th>\n",
              "      <th>Benign</th>\n",
              "      <th>Malicious</th>\n",
              "    </tr>\n",
              "  </thead>\n",
              "  <tbody>\n",
              "    <tr>\n",
              "      <th>mean</th>\n",
              "      <td>0.961815</td>\n",
              "      <td>15.844711</td>\n",
              "    </tr>\n",
              "    <tr>\n",
              "      <th>std</th>\n",
              "      <td>8.887820</td>\n",
              "      <td>9.742897</td>\n",
              "    </tr>\n",
              "    <tr>\n",
              "      <th>min</th>\n",
              "      <td>0.000000</td>\n",
              "      <td>0.000000</td>\n",
              "    </tr>\n",
              "    <tr>\n",
              "      <th>25%</th>\n",
              "      <td>0.000000</td>\n",
              "      <td>7.000000</td>\n",
              "    </tr>\n",
              "    <tr>\n",
              "      <th>50%</th>\n",
              "      <td>0.000000</td>\n",
              "      <td>20.000000</td>\n",
              "    </tr>\n",
              "    <tr>\n",
              "      <th>75%</th>\n",
              "      <td>0.000000</td>\n",
              "      <td>20.000000</td>\n",
              "    </tr>\n",
              "    <tr>\n",
              "      <th>max</th>\n",
              "      <td>313.000000</td>\n",
              "      <td>54.000000</td>\n",
              "    </tr>\n",
              "  </tbody>\n",
              "</table>\n",
              "</div>\n",
              "    <div class=\"colab-df-buttons\">\n",
              "\n",
              "  <div class=\"colab-df-container\">\n",
              "    <button class=\"colab-df-convert\" onclick=\"convertToInteractive('df-89cce018-c803-4c82-98c9-e0e33822a962')\"\n",
              "            title=\"Convert this dataframe to an interactive table.\"\n",
              "            style=\"display:none;\">\n",
              "\n",
              "  <svg xmlns=\"http://www.w3.org/2000/svg\" height=\"24px\" viewBox=\"0 -960 960 960\">\n",
              "    <path d=\"M120-120v-720h720v720H120Zm60-500h600v-160H180v160Zm220 220h160v-160H400v160Zm0 220h160v-160H400v160ZM180-400h160v-160H180v160Zm440 0h160v-160H620v160ZM180-180h160v-160H180v160Zm440 0h160v-160H620v160Z\"/>\n",
              "  </svg>\n",
              "    </button>\n",
              "\n",
              "  <style>\n",
              "    .colab-df-container {\n",
              "      display:flex;\n",
              "      gap: 12px;\n",
              "    }\n",
              "\n",
              "    .colab-df-convert {\n",
              "      background-color: #E8F0FE;\n",
              "      border: none;\n",
              "      border-radius: 50%;\n",
              "      cursor: pointer;\n",
              "      display: none;\n",
              "      fill: #1967D2;\n",
              "      height: 32px;\n",
              "      padding: 0 0 0 0;\n",
              "      width: 32px;\n",
              "    }\n",
              "\n",
              "    .colab-df-convert:hover {\n",
              "      background-color: #E2EBFA;\n",
              "      box-shadow: 0px 1px 2px rgba(60, 64, 67, 0.3), 0px 1px 3px 1px rgba(60, 64, 67, 0.15);\n",
              "      fill: #174EA6;\n",
              "    }\n",
              "\n",
              "    .colab-df-buttons div {\n",
              "      margin-bottom: 4px;\n",
              "    }\n",
              "\n",
              "    [theme=dark] .colab-df-convert {\n",
              "      background-color: #3B4455;\n",
              "      fill: #D2E3FC;\n",
              "    }\n",
              "\n",
              "    [theme=dark] .colab-df-convert:hover {\n",
              "      background-color: #434B5C;\n",
              "      box-shadow: 0px 1px 3px 1px rgba(0, 0, 0, 0.15);\n",
              "      filter: drop-shadow(0px 1px 2px rgba(0, 0, 0, 0.3));\n",
              "      fill: #FFFFFF;\n",
              "    }\n",
              "  </style>\n",
              "\n",
              "    <script>\n",
              "      const buttonEl =\n",
              "        document.querySelector('#df-89cce018-c803-4c82-98c9-e0e33822a962 button.colab-df-convert');\n",
              "      buttonEl.style.display =\n",
              "        google.colab.kernel.accessAllowed ? 'block' : 'none';\n",
              "\n",
              "      async function convertToInteractive(key) {\n",
              "        const element = document.querySelector('#df-89cce018-c803-4c82-98c9-e0e33822a962');\n",
              "        const dataTable =\n",
              "          await google.colab.kernel.invokeFunction('convertToInteractive',\n",
              "                                                    [key], {});\n",
              "        if (!dataTable) return;\n",
              "\n",
              "        const docLinkHtml = 'Like what you see? Visit the ' +\n",
              "          '<a target=\"_blank\" href=https://colab.research.google.com/notebooks/data_table.ipynb>data table notebook</a>'\n",
              "          + ' to learn more about interactive tables.';\n",
              "        element.innerHTML = '';\n",
              "        dataTable['output_type'] = 'display_data';\n",
              "        await google.colab.output.renderOutput(dataTable, element);\n",
              "        const docLink = document.createElement('div');\n",
              "        docLink.innerHTML = docLinkHtml;\n",
              "        element.appendChild(docLink);\n",
              "      }\n",
              "    </script>\n",
              "  </div>\n",
              "\n",
              "\n",
              "<div id=\"df-afde2180-b41d-452a-80c0-0936157ed946\">\n",
              "  <button class=\"colab-df-quickchart\" onclick=\"quickchart('df-afde2180-b41d-452a-80c0-0936157ed946')\"\n",
              "            title=\"Suggest charts\"\n",
              "            style=\"display:none;\">\n",
              "\n",
              "<svg xmlns=\"http://www.w3.org/2000/svg\" height=\"24px\"viewBox=\"0 0 24 24\"\n",
              "     width=\"24px\">\n",
              "    <g>\n",
              "        <path d=\"M19 3H5c-1.1 0-2 .9-2 2v14c0 1.1.9 2 2 2h14c1.1 0 2-.9 2-2V5c0-1.1-.9-2-2-2zM9 17H7v-7h2v7zm4 0h-2V7h2v10zm4 0h-2v-4h2v4z\"/>\n",
              "    </g>\n",
              "</svg>\n",
              "  </button>\n",
              "\n",
              "<style>\n",
              "  .colab-df-quickchart {\n",
              "      --bg-color: #E8F0FE;\n",
              "      --fill-color: #1967D2;\n",
              "      --hover-bg-color: #E2EBFA;\n",
              "      --hover-fill-color: #174EA6;\n",
              "      --disabled-fill-color: #AAA;\n",
              "      --disabled-bg-color: #DDD;\n",
              "  }\n",
              "\n",
              "  [theme=dark] .colab-df-quickchart {\n",
              "      --bg-color: #3B4455;\n",
              "      --fill-color: #D2E3FC;\n",
              "      --hover-bg-color: #434B5C;\n",
              "      --hover-fill-color: #FFFFFF;\n",
              "      --disabled-bg-color: #3B4455;\n",
              "      --disabled-fill-color: #666;\n",
              "  }\n",
              "\n",
              "  .colab-df-quickchart {\n",
              "    background-color: var(--bg-color);\n",
              "    border: none;\n",
              "    border-radius: 50%;\n",
              "    cursor: pointer;\n",
              "    display: none;\n",
              "    fill: var(--fill-color);\n",
              "    height: 32px;\n",
              "    padding: 0;\n",
              "    width: 32px;\n",
              "  }\n",
              "\n",
              "  .colab-df-quickchart:hover {\n",
              "    background-color: var(--hover-bg-color);\n",
              "    box-shadow: 0 1px 2px rgba(60, 64, 67, 0.3), 0 1px 3px 1px rgba(60, 64, 67, 0.15);\n",
              "    fill: var(--button-hover-fill-color);\n",
              "  }\n",
              "\n",
              "  .colab-df-quickchart-complete:disabled,\n",
              "  .colab-df-quickchart-complete:disabled:hover {\n",
              "    background-color: var(--disabled-bg-color);\n",
              "    fill: var(--disabled-fill-color);\n",
              "    box-shadow: none;\n",
              "  }\n",
              "\n",
              "  .colab-df-spinner {\n",
              "    border: 2px solid var(--fill-color);\n",
              "    border-color: transparent;\n",
              "    border-bottom-color: var(--fill-color);\n",
              "    animation:\n",
              "      spin 1s steps(1) infinite;\n",
              "  }\n",
              "\n",
              "  @keyframes spin {\n",
              "    0% {\n",
              "      border-color: transparent;\n",
              "      border-bottom-color: var(--fill-color);\n",
              "      border-left-color: var(--fill-color);\n",
              "    }\n",
              "    20% {\n",
              "      border-color: transparent;\n",
              "      border-left-color: var(--fill-color);\n",
              "      border-top-color: var(--fill-color);\n",
              "    }\n",
              "    30% {\n",
              "      border-color: transparent;\n",
              "      border-left-color: var(--fill-color);\n",
              "      border-top-color: var(--fill-color);\n",
              "      border-right-color: var(--fill-color);\n",
              "    }\n",
              "    40% {\n",
              "      border-color: transparent;\n",
              "      border-right-color: var(--fill-color);\n",
              "      border-top-color: var(--fill-color);\n",
              "    }\n",
              "    60% {\n",
              "      border-color: transparent;\n",
              "      border-right-color: var(--fill-color);\n",
              "    }\n",
              "    80% {\n",
              "      border-color: transparent;\n",
              "      border-right-color: var(--fill-color);\n",
              "      border-bottom-color: var(--fill-color);\n",
              "    }\n",
              "    90% {\n",
              "      border-color: transparent;\n",
              "      border-bottom-color: var(--fill-color);\n",
              "    }\n",
              "  }\n",
              "</style>\n",
              "\n",
              "  <script>\n",
              "    async function quickchart(key) {\n",
              "      const quickchartButtonEl =\n",
              "        document.querySelector('#' + key + ' button');\n",
              "      quickchartButtonEl.disabled = true;  // To prevent multiple clicks.\n",
              "      quickchartButtonEl.classList.add('colab-df-spinner');\n",
              "      try {\n",
              "        const charts = await google.colab.kernel.invokeFunction(\n",
              "            'suggestCharts', [key], {});\n",
              "      } catch (error) {\n",
              "        console.error('Error during call to suggestCharts:', error);\n",
              "      }\n",
              "      quickchartButtonEl.classList.remove('colab-df-spinner');\n",
              "      quickchartButtonEl.classList.add('colab-df-quickchart-complete');\n",
              "    }\n",
              "    (() => {\n",
              "      let quickchartButtonEl =\n",
              "        document.querySelector('#df-afde2180-b41d-452a-80c0-0936157ed946 button');\n",
              "      quickchartButtonEl.style.display =\n",
              "        google.colab.kernel.accessAllowed ? 'block' : 'none';\n",
              "    })();\n",
              "  </script>\n",
              "</div>\n",
              "\n",
              "  <div id=\"id_8d0f876b-06d0-49c6-bad9-1737bff898f9\">\n",
              "    <style>\n",
              "      .colab-df-generate {\n",
              "        background-color: #E8F0FE;\n",
              "        border: none;\n",
              "        border-radius: 50%;\n",
              "        cursor: pointer;\n",
              "        display: none;\n",
              "        fill: #1967D2;\n",
              "        height: 32px;\n",
              "        padding: 0 0 0 0;\n",
              "        width: 32px;\n",
              "      }\n",
              "\n",
              "      .colab-df-generate:hover {\n",
              "        background-color: #E2EBFA;\n",
              "        box-shadow: 0px 1px 2px rgba(60, 64, 67, 0.3), 0px 1px 3px 1px rgba(60, 64, 67, 0.15);\n",
              "        fill: #174EA6;\n",
              "      }\n",
              "\n",
              "      [theme=dark] .colab-df-generate {\n",
              "        background-color: #3B4455;\n",
              "        fill: #D2E3FC;\n",
              "      }\n",
              "\n",
              "      [theme=dark] .colab-df-generate:hover {\n",
              "        background-color: #434B5C;\n",
              "        box-shadow: 0px 1px 3px 1px rgba(0, 0, 0, 0.15);\n",
              "        filter: drop-shadow(0px 1px 2px rgba(0, 0, 0, 0.3));\n",
              "        fill: #FFFFFF;\n",
              "      }\n",
              "    </style>\n",
              "    <button class=\"colab-df-generate\" onclick=\"generateWithVariable('df_file_atch')\"\n",
              "            title=\"Generate code using this dataframe.\"\n",
              "            style=\"display:none;\">\n",
              "\n",
              "  <svg xmlns=\"http://www.w3.org/2000/svg\" height=\"24px\"viewBox=\"0 0 24 24\"\n",
              "       width=\"24px\">\n",
              "    <path d=\"M7,19H8.4L18.45,9,17,7.55,7,17.6ZM5,21V16.75L18.45,3.32a2,2,0,0,1,2.83,0l1.4,1.43a1.91,1.91,0,0,1,.58,1.4,1.91,1.91,0,0,1-.58,1.4L9.25,21ZM18.45,9,17,7.55Zm-12,3A5.31,5.31,0,0,0,4.9,8.1,5.31,5.31,0,0,0,1,6.5,5.31,5.31,0,0,0,4.9,4.9,5.31,5.31,0,0,0,6.5,1,5.31,5.31,0,0,0,8.1,4.9,5.31,5.31,0,0,0,12,6.5,5.46,5.46,0,0,0,6.5,12Z\"/>\n",
              "  </svg>\n",
              "    </button>\n",
              "    <script>\n",
              "      (() => {\n",
              "      const buttonEl =\n",
              "        document.querySelector('#id_8d0f876b-06d0-49c6-bad9-1737bff898f9 button.colab-df-generate');\n",
              "      buttonEl.style.display =\n",
              "        google.colab.kernel.accessAllowed ? 'block' : 'none';\n",
              "\n",
              "      buttonEl.onclick = () => {\n",
              "        google.colab.notebook.generateWithVariable('df_file_atch');\n",
              "      }\n",
              "      })();\n",
              "    </script>\n",
              "  </div>\n",
              "\n",
              "    </div>\n",
              "  </div>\n"
            ]
          },
          "metadata": {},
          "execution_count": 19
        }
      ]
    },
    {
      "cell_type": "markdown",
      "source": [
        "Adding File count to the combined dataset."
      ],
      "metadata": {
        "id": "ZAMf3AJS4Niq"
      }
    },
    {
      "cell_type": "code",
      "source": [
        "file_attachments_count_list = []\n",
        "\n",
        "for i in range(len(df['pypdf_uris'])):\n",
        "  url_string = df['pypdf_uris'][i]\n",
        "  # Removing square brackets and splitting the string into a list\n",
        "  url_list = url_string.strip(\"[]\").split(\", \")\n",
        "\n",
        "  # Removing single quotes from each URL\n",
        "  url_list = [url.strip(\"'\") for url in url_list]\n",
        "\n",
        "  file_attachments_count = sum(1 for url in url_list if url.endswith('.pdf') or url.endswith('.doc') or url.endswith('.docx'))\n",
        "\n",
        "  file_attachments_count_list.append(file_attachments_count)\n",
        "\n",
        "df['file_attachments_count'] = file_attachments_count_list"
      ],
      "metadata": {
        "id": "g2gAC89x4Rri"
      },
      "execution_count": null,
      "outputs": []
    },
    {
      "cell_type": "code",
      "source": [
        "#This is a trial block, where I'm trying different types of codes\n",
        "\n",
        "url_list = ['https://urllie.com/2l04g4', 'https://onmybet.com/upload/files/2022/05/HmXdR385htTyK9Wdxbgv_19_170a337363bf81c43005898db3ba9780_file.pdf', 'https://atennis.kz/tour/upload/files/2022/05/HdtidSe7CeqQztzijXcB_19_ec4a6aaa19eea5e6688d2aa59bcb70da_file.pdf', 'http://www.suaopiniao1.com.br//upload/files/2022/05/5GYHwxgkILOas2vwzCPh_19_ec4a6aaa19eea5e6688d2aa59bcb70da_file.pdf', 'https://social.deospace.com/upload/files/2022/05/6VDqdNZV1AFtDPn3a1Ad_19_1fc20ef71472e819a8fd63df3543ce86_file.pdf', 'https://corpersbook.com/upload/files/2022/05/J4hSIP4BP4SQDXYoYvw3_19_d9811d38796050a04042d203c8ab5a76_file.pdf', 'https://poetbook.com/upload/files/2022/05/9TLovn5dgfWDez7wefFg_19_7514d71f470dfa314bee6450c269d38e_file.pdf', 'https://tchatche.ci/upload/files/2022/05/Du5X3XIGIa5LDnX2smpM_19_a6e83c5bec52336529e7c0b8dc334c05_file.pdf', 'https://facethai.net/upload/files/2022/05/lqWZNh9XX2PdFhRBs2nR_19_170a337363bf81c43005898db3ba9780_file.pdf', 'https://www.you-nation.com/upload/files/2022/05/YBWQGoKMfMi3XmgEMyZo_19_ec4a6aaa19eea5e6688d2aa59bcb70da_file.pdf', 'https://gameurnews.fr/upload/files/2022/05/o3hN7vkZsTdrp5k4uFXa_19_7514d71f470dfa314bee6450c269d38e_file.pdf', 'http://www.tcpdf.org']\n",
        "\n",
        "# Count the number of file attachments found in the URLs\n",
        "file_attachments_count = sum(1 for url in url_list if url.endswith('.pdf') or url.endswith('.doc') or url.endswith('.docx'))\n",
        "\n",
        "file_attachments_count\n",
        "\n",
        "# url_list = url_string.strip(\"[]\").split(\", \")\n",
        "# url_list = [url.strip(\"'\") for url in url_list]\n",
        "# domain_extensions = [tldextract.extract(url).suffix for url in url_list]\n",
        "# safe_domain_extensions = ['com','net','gov','org', 'edu', 'ca', 'us', 'de', 'uk','in','co','ru']\n",
        "\n",
        "# unsafe_domain_extensions = 0\n",
        "# for ext in domain_extensions:\n",
        "#   if ext not in safe_domain_extensions:\n",
        "#     unsafe_domain_extensions += 1"
      ],
      "metadata": {
        "colab": {
          "base_uri": "https://localhost:8080/"
        },
        "id": "GIHLQkLdZfPx",
        "outputId": "6edcd900-f834-4f80-df44-abe5c81cb05c"
      },
      "execution_count": null,
      "outputs": [
        {
          "output_type": "execute_result",
          "data": {
            "text/plain": [
              "10"
            ]
          },
          "metadata": {},
          "execution_count": 21
        }
      ]
    },
    {
      "cell_type": "code",
      "source": [
        "df.head()"
      ],
      "metadata": {
        "colab": {
          "base_uri": "https://localhost:8080/",
          "height": 429
        },
        "id": "0zGP5XW5ovo3",
        "outputId": "0ee53707-8674-4b4b-af6e-8b71ced85d52"
      },
      "execution_count": null,
      "outputs": [
        {
          "output_type": "execute_result",
          "data": {
            "text/plain": [
              "  exif_signatures  file_size pdfid_signatures  \\\n",
              "0              {}     129857               {}   \n",
              "1              {}     251530               {}   \n",
              "2              {}     176127               {}   \n",
              "3              {}      47832               {}   \n",
              "4              {}      37657               {}   \n",
              "\n",
              "                                          pypdf_uris  \\\n",
              "0  ['https://urllie.com/2l04g4', 'https://onmybet...   \n",
              "1  ['https://wirut.co.za/XSRYdR1H?utm_term=eia+we...   \n",
              "2  ['https://ragaz.co.za/XSRYdR1H?utm_term=abo+di...   \n",
              "3  ['https://netcdn.tw/app/431946152/roblox-cheat...   \n",
              "4  ['https://netcdn.xyz/app/431946152/free-robux-...   \n",
              "\n",
              "                                          regex_uris  \\\n",
              "0  ['https://urllie.com/2l04g4', 'https://onmybet...   \n",
              "1  ['https://wirut.co.za/XSRYdR1H?utm_term=eia+we...   \n",
              "2  ['https://ragaz.co.za/XSRYdR1H?utm_term=abo+di...   \n",
              "3  ['https://netcdn.tw/app/431946152/roblox-cheat...   \n",
              "4  ['https://netcdn.xyz/app/431946152/free-robux-...   \n",
              "\n",
              "                                          regex_urls  \\\n",
              "0  ['https', 'https', 'https', 'http://www.suaopi...   \n",
              "1  ['https', 'http://chinajnbt.com/images/upload/...   \n",
              "2  ['https', 'https', 'http://intechsol.kz/wp-con...   \n",
              "3  ['https', 'https', 'https', 'https', 'https', ...   \n",
              "4                                 ['https', 'https']   \n",
              "\n",
              "                      scripts  \\\n",
              "0  {'iframe': [], 'urls': []}   \n",
              "1  {'iframe': [], 'urls': []}   \n",
              "2  {'iframe': [], 'urls': []}   \n",
              "3  {'iframe': [], 'urls': []}   \n",
              "4  {'iframe': [], 'urls': []}   \n",
              "\n",
              "                                   static_properties  \\\n",
              "0  {'JBIG2Decode': '0', 'XML_forms': '0', 'acro_f...   \n",
              "1  {'JBIG2Decode': '0', 'XML_forms': '0', 'acro_f...   \n",
              "2  {'JBIG2Decode': '0', 'XML_forms': '0', 'acro_f...   \n",
              "3  {'JBIG2Decode': '0', 'XML_forms': '0', 'acro_f...   \n",
              "4  {'JBIG2Decode': '0', 'XML_forms': '0', 'acro_f...   \n",
              "\n",
              "                                     yara_signatures  pypdf_uris_num  ...  \\\n",
              "0  ['without_attachments', 'without_images', 'wit...              12  ...   \n",
              "1  ['without_attachments', 'without_images', 'wit...              27  ...   \n",
              "2  ['without_attachments', 'without_images', 'wit...              25  ...   \n",
              "3  ['without_attachments', 'without_images', 'wit...              22  ...   \n",
              "4  ['without_attachments', 'without_images', 'wit...               2  ...   \n",
              "\n",
              "   yara_signatures_FlateDecode_wrong_version  \\\n",
              "0                                          0   \n",
              "1                                          0   \n",
              "2                                          0   \n",
              "3                                          0   \n",
              "4                                          0   \n",
              "\n",
              "   yara_signatures_invalid_trailer_structure  \\\n",
              "0                                          0   \n",
              "1                                          1   \n",
              "2                                          1   \n",
              "3                                          1   \n",
              "4                                          1   \n",
              "\n",
              "   yara_signatures_multiple_filtering  yara_signatures_without_attachments  \\\n",
              "0                                   0                                    1   \n",
              "1                                   0                                    1   \n",
              "2                                   0                                    1   \n",
              "3                                   0                                    1   \n",
              "4                                   0                                    1   \n",
              "\n",
              "   yara_signatures_invalid_xref_numbers  yara_signatures_JBIG2_wrong_version  \\\n",
              "0                                     0                                    0   \n",
              "1                                     0                                    0   \n",
              "2                                     0                                    0   \n",
              "3                                     0                                    0   \n",
              "4                                     0                                    0   \n",
              "\n",
              "   yara_signatures_possible_includes_base64_packed_functions  \\\n",
              "0                                                  0           \n",
              "1                                                  0           \n",
              "2                                                  0           \n",
              "3                                                  0           \n",
              "4                                                  0           \n",
              "\n",
              "   yara_signatures_vmdetect  sus_domain_count  file_attachments_count  \n",
              "0                         0                 3                      10  \n",
              "1                         0                 8                      26  \n",
              "2                         0                 9                      24  \n",
              "3                         0                22                      20  \n",
              "4                         0                 2                       0  \n",
              "\n",
              "[5 rows x 72 columns]"
            ],
            "text/html": [
              "\n",
              "  <div id=\"df-42dfd9de-fe56-4c8e-b37a-eec13f8572bf\" class=\"colab-df-container\">\n",
              "    <div>\n",
              "<style scoped>\n",
              "    .dataframe tbody tr th:only-of-type {\n",
              "        vertical-align: middle;\n",
              "    }\n",
              "\n",
              "    .dataframe tbody tr th {\n",
              "        vertical-align: top;\n",
              "    }\n",
              "\n",
              "    .dataframe thead th {\n",
              "        text-align: right;\n",
              "    }\n",
              "</style>\n",
              "<table border=\"1\" class=\"dataframe\">\n",
              "  <thead>\n",
              "    <tr style=\"text-align: right;\">\n",
              "      <th></th>\n",
              "      <th>exif_signatures</th>\n",
              "      <th>file_size</th>\n",
              "      <th>pdfid_signatures</th>\n",
              "      <th>pypdf_uris</th>\n",
              "      <th>regex_uris</th>\n",
              "      <th>regex_urls</th>\n",
              "      <th>scripts</th>\n",
              "      <th>static_properties</th>\n",
              "      <th>yara_signatures</th>\n",
              "      <th>pypdf_uris_num</th>\n",
              "      <th>...</th>\n",
              "      <th>yara_signatures_FlateDecode_wrong_version</th>\n",
              "      <th>yara_signatures_invalid_trailer_structure</th>\n",
              "      <th>yara_signatures_multiple_filtering</th>\n",
              "      <th>yara_signatures_without_attachments</th>\n",
              "      <th>yara_signatures_invalid_xref_numbers</th>\n",
              "      <th>yara_signatures_JBIG2_wrong_version</th>\n",
              "      <th>yara_signatures_possible_includes_base64_packed_functions</th>\n",
              "      <th>yara_signatures_vmdetect</th>\n",
              "      <th>sus_domain_count</th>\n",
              "      <th>file_attachments_count</th>\n",
              "    </tr>\n",
              "  </thead>\n",
              "  <tbody>\n",
              "    <tr>\n",
              "      <th>0</th>\n",
              "      <td>{}</td>\n",
              "      <td>129857</td>\n",
              "      <td>{}</td>\n",
              "      <td>['https://urllie.com/2l04g4', 'https://onmybet...</td>\n",
              "      <td>['https://urllie.com/2l04g4', 'https://onmybet...</td>\n",
              "      <td>['https', 'https', 'https', 'http://www.suaopi...</td>\n",
              "      <td>{'iframe': [], 'urls': []}</td>\n",
              "      <td>{'JBIG2Decode': '0', 'XML_forms': '0', 'acro_f...</td>\n",
              "      <td>['without_attachments', 'without_images', 'wit...</td>\n",
              "      <td>12</td>\n",
              "      <td>...</td>\n",
              "      <td>0</td>\n",
              "      <td>0</td>\n",
              "      <td>0</td>\n",
              "      <td>1</td>\n",
              "      <td>0</td>\n",
              "      <td>0</td>\n",
              "      <td>0</td>\n",
              "      <td>0</td>\n",
              "      <td>3</td>\n",
              "      <td>10</td>\n",
              "    </tr>\n",
              "    <tr>\n",
              "      <th>1</th>\n",
              "      <td>{}</td>\n",
              "      <td>251530</td>\n",
              "      <td>{}</td>\n",
              "      <td>['https://wirut.co.za/XSRYdR1H?utm_term=eia+we...</td>\n",
              "      <td>['https://wirut.co.za/XSRYdR1H?utm_term=eia+we...</td>\n",
              "      <td>['https', 'http://chinajnbt.com/images/upload/...</td>\n",
              "      <td>{'iframe': [], 'urls': []}</td>\n",
              "      <td>{'JBIG2Decode': '0', 'XML_forms': '0', 'acro_f...</td>\n",
              "      <td>['without_attachments', 'without_images', 'wit...</td>\n",
              "      <td>27</td>\n",
              "      <td>...</td>\n",
              "      <td>0</td>\n",
              "      <td>1</td>\n",
              "      <td>0</td>\n",
              "      <td>1</td>\n",
              "      <td>0</td>\n",
              "      <td>0</td>\n",
              "      <td>0</td>\n",
              "      <td>0</td>\n",
              "      <td>8</td>\n",
              "      <td>26</td>\n",
              "    </tr>\n",
              "    <tr>\n",
              "      <th>2</th>\n",
              "      <td>{}</td>\n",
              "      <td>176127</td>\n",
              "      <td>{}</td>\n",
              "      <td>['https://ragaz.co.za/XSRYdR1H?utm_term=abo+di...</td>\n",
              "      <td>['https://ragaz.co.za/XSRYdR1H?utm_term=abo+di...</td>\n",
              "      <td>['https', 'https', 'http://intechsol.kz/wp-con...</td>\n",
              "      <td>{'iframe': [], 'urls': []}</td>\n",
              "      <td>{'JBIG2Decode': '0', 'XML_forms': '0', 'acro_f...</td>\n",
              "      <td>['without_attachments', 'without_images', 'wit...</td>\n",
              "      <td>25</td>\n",
              "      <td>...</td>\n",
              "      <td>0</td>\n",
              "      <td>1</td>\n",
              "      <td>0</td>\n",
              "      <td>1</td>\n",
              "      <td>0</td>\n",
              "      <td>0</td>\n",
              "      <td>0</td>\n",
              "      <td>0</td>\n",
              "      <td>9</td>\n",
              "      <td>24</td>\n",
              "    </tr>\n",
              "    <tr>\n",
              "      <th>3</th>\n",
              "      <td>{}</td>\n",
              "      <td>47832</td>\n",
              "      <td>{}</td>\n",
              "      <td>['https://netcdn.tw/app/431946152/roblox-cheat...</td>\n",
              "      <td>['https://netcdn.tw/app/431946152/roblox-cheat...</td>\n",
              "      <td>['https', 'https', 'https', 'https', 'https', ...</td>\n",
              "      <td>{'iframe': [], 'urls': []}</td>\n",
              "      <td>{'JBIG2Decode': '0', 'XML_forms': '0', 'acro_f...</td>\n",
              "      <td>['without_attachments', 'without_images', 'wit...</td>\n",
              "      <td>22</td>\n",
              "      <td>...</td>\n",
              "      <td>0</td>\n",
              "      <td>1</td>\n",
              "      <td>0</td>\n",
              "      <td>1</td>\n",
              "      <td>0</td>\n",
              "      <td>0</td>\n",
              "      <td>0</td>\n",
              "      <td>0</td>\n",
              "      <td>22</td>\n",
              "      <td>20</td>\n",
              "    </tr>\n",
              "    <tr>\n",
              "      <th>4</th>\n",
              "      <td>{}</td>\n",
              "      <td>37657</td>\n",
              "      <td>{}</td>\n",
              "      <td>['https://netcdn.xyz/app/431946152/free-robux-...</td>\n",
              "      <td>['https://netcdn.xyz/app/431946152/free-robux-...</td>\n",
              "      <td>['https', 'https']</td>\n",
              "      <td>{'iframe': [], 'urls': []}</td>\n",
              "      <td>{'JBIG2Decode': '0', 'XML_forms': '0', 'acro_f...</td>\n",
              "      <td>['without_attachments', 'without_images', 'wit...</td>\n",
              "      <td>2</td>\n",
              "      <td>...</td>\n",
              "      <td>0</td>\n",
              "      <td>1</td>\n",
              "      <td>0</td>\n",
              "      <td>1</td>\n",
              "      <td>0</td>\n",
              "      <td>0</td>\n",
              "      <td>0</td>\n",
              "      <td>0</td>\n",
              "      <td>2</td>\n",
              "      <td>0</td>\n",
              "    </tr>\n",
              "  </tbody>\n",
              "</table>\n",
              "<p>5 rows × 72 columns</p>\n",
              "</div>\n",
              "    <div class=\"colab-df-buttons\">\n",
              "\n",
              "  <div class=\"colab-df-container\">\n",
              "    <button class=\"colab-df-convert\" onclick=\"convertToInteractive('df-42dfd9de-fe56-4c8e-b37a-eec13f8572bf')\"\n",
              "            title=\"Convert this dataframe to an interactive table.\"\n",
              "            style=\"display:none;\">\n",
              "\n",
              "  <svg xmlns=\"http://www.w3.org/2000/svg\" height=\"24px\" viewBox=\"0 -960 960 960\">\n",
              "    <path d=\"M120-120v-720h720v720H120Zm60-500h600v-160H180v160Zm220 220h160v-160H400v160Zm0 220h160v-160H400v160ZM180-400h160v-160H180v160Zm440 0h160v-160H620v160ZM180-180h160v-160H180v160Zm440 0h160v-160H620v160Z\"/>\n",
              "  </svg>\n",
              "    </button>\n",
              "\n",
              "  <style>\n",
              "    .colab-df-container {\n",
              "      display:flex;\n",
              "      gap: 12px;\n",
              "    }\n",
              "\n",
              "    .colab-df-convert {\n",
              "      background-color: #E8F0FE;\n",
              "      border: none;\n",
              "      border-radius: 50%;\n",
              "      cursor: pointer;\n",
              "      display: none;\n",
              "      fill: #1967D2;\n",
              "      height: 32px;\n",
              "      padding: 0 0 0 0;\n",
              "      width: 32px;\n",
              "    }\n",
              "\n",
              "    .colab-df-convert:hover {\n",
              "      background-color: #E2EBFA;\n",
              "      box-shadow: 0px 1px 2px rgba(60, 64, 67, 0.3), 0px 1px 3px 1px rgba(60, 64, 67, 0.15);\n",
              "      fill: #174EA6;\n",
              "    }\n",
              "\n",
              "    .colab-df-buttons div {\n",
              "      margin-bottom: 4px;\n",
              "    }\n",
              "\n",
              "    [theme=dark] .colab-df-convert {\n",
              "      background-color: #3B4455;\n",
              "      fill: #D2E3FC;\n",
              "    }\n",
              "\n",
              "    [theme=dark] .colab-df-convert:hover {\n",
              "      background-color: #434B5C;\n",
              "      box-shadow: 0px 1px 3px 1px rgba(0, 0, 0, 0.15);\n",
              "      filter: drop-shadow(0px 1px 2px rgba(0, 0, 0, 0.3));\n",
              "      fill: #FFFFFF;\n",
              "    }\n",
              "  </style>\n",
              "\n",
              "    <script>\n",
              "      const buttonEl =\n",
              "        document.querySelector('#df-42dfd9de-fe56-4c8e-b37a-eec13f8572bf button.colab-df-convert');\n",
              "      buttonEl.style.display =\n",
              "        google.colab.kernel.accessAllowed ? 'block' : 'none';\n",
              "\n",
              "      async function convertToInteractive(key) {\n",
              "        const element = document.querySelector('#df-42dfd9de-fe56-4c8e-b37a-eec13f8572bf');\n",
              "        const dataTable =\n",
              "          await google.colab.kernel.invokeFunction('convertToInteractive',\n",
              "                                                    [key], {});\n",
              "        if (!dataTable) return;\n",
              "\n",
              "        const docLinkHtml = 'Like what you see? Visit the ' +\n",
              "          '<a target=\"_blank\" href=https://colab.research.google.com/notebooks/data_table.ipynb>data table notebook</a>'\n",
              "          + ' to learn more about interactive tables.';\n",
              "        element.innerHTML = '';\n",
              "        dataTable['output_type'] = 'display_data';\n",
              "        await google.colab.output.renderOutput(dataTable, element);\n",
              "        const docLink = document.createElement('div');\n",
              "        docLink.innerHTML = docLinkHtml;\n",
              "        element.appendChild(docLink);\n",
              "      }\n",
              "    </script>\n",
              "  </div>\n",
              "\n",
              "\n",
              "<div id=\"df-1df695f3-ac5c-4656-95b4-0141af47043a\">\n",
              "  <button class=\"colab-df-quickchart\" onclick=\"quickchart('df-1df695f3-ac5c-4656-95b4-0141af47043a')\"\n",
              "            title=\"Suggest charts\"\n",
              "            style=\"display:none;\">\n",
              "\n",
              "<svg xmlns=\"http://www.w3.org/2000/svg\" height=\"24px\"viewBox=\"0 0 24 24\"\n",
              "     width=\"24px\">\n",
              "    <g>\n",
              "        <path d=\"M19 3H5c-1.1 0-2 .9-2 2v14c0 1.1.9 2 2 2h14c1.1 0 2-.9 2-2V5c0-1.1-.9-2-2-2zM9 17H7v-7h2v7zm4 0h-2V7h2v10zm4 0h-2v-4h2v4z\"/>\n",
              "    </g>\n",
              "</svg>\n",
              "  </button>\n",
              "\n",
              "<style>\n",
              "  .colab-df-quickchart {\n",
              "      --bg-color: #E8F0FE;\n",
              "      --fill-color: #1967D2;\n",
              "      --hover-bg-color: #E2EBFA;\n",
              "      --hover-fill-color: #174EA6;\n",
              "      --disabled-fill-color: #AAA;\n",
              "      --disabled-bg-color: #DDD;\n",
              "  }\n",
              "\n",
              "  [theme=dark] .colab-df-quickchart {\n",
              "      --bg-color: #3B4455;\n",
              "      --fill-color: #D2E3FC;\n",
              "      --hover-bg-color: #434B5C;\n",
              "      --hover-fill-color: #FFFFFF;\n",
              "      --disabled-bg-color: #3B4455;\n",
              "      --disabled-fill-color: #666;\n",
              "  }\n",
              "\n",
              "  .colab-df-quickchart {\n",
              "    background-color: var(--bg-color);\n",
              "    border: none;\n",
              "    border-radius: 50%;\n",
              "    cursor: pointer;\n",
              "    display: none;\n",
              "    fill: var(--fill-color);\n",
              "    height: 32px;\n",
              "    padding: 0;\n",
              "    width: 32px;\n",
              "  }\n",
              "\n",
              "  .colab-df-quickchart:hover {\n",
              "    background-color: var(--hover-bg-color);\n",
              "    box-shadow: 0 1px 2px rgba(60, 64, 67, 0.3), 0 1px 3px 1px rgba(60, 64, 67, 0.15);\n",
              "    fill: var(--button-hover-fill-color);\n",
              "  }\n",
              "\n",
              "  .colab-df-quickchart-complete:disabled,\n",
              "  .colab-df-quickchart-complete:disabled:hover {\n",
              "    background-color: var(--disabled-bg-color);\n",
              "    fill: var(--disabled-fill-color);\n",
              "    box-shadow: none;\n",
              "  }\n",
              "\n",
              "  .colab-df-spinner {\n",
              "    border: 2px solid var(--fill-color);\n",
              "    border-color: transparent;\n",
              "    border-bottom-color: var(--fill-color);\n",
              "    animation:\n",
              "      spin 1s steps(1) infinite;\n",
              "  }\n",
              "\n",
              "  @keyframes spin {\n",
              "    0% {\n",
              "      border-color: transparent;\n",
              "      border-bottom-color: var(--fill-color);\n",
              "      border-left-color: var(--fill-color);\n",
              "    }\n",
              "    20% {\n",
              "      border-color: transparent;\n",
              "      border-left-color: var(--fill-color);\n",
              "      border-top-color: var(--fill-color);\n",
              "    }\n",
              "    30% {\n",
              "      border-color: transparent;\n",
              "      border-left-color: var(--fill-color);\n",
              "      border-top-color: var(--fill-color);\n",
              "      border-right-color: var(--fill-color);\n",
              "    }\n",
              "    40% {\n",
              "      border-color: transparent;\n",
              "      border-right-color: var(--fill-color);\n",
              "      border-top-color: var(--fill-color);\n",
              "    }\n",
              "    60% {\n",
              "      border-color: transparent;\n",
              "      border-right-color: var(--fill-color);\n",
              "    }\n",
              "    80% {\n",
              "      border-color: transparent;\n",
              "      border-right-color: var(--fill-color);\n",
              "      border-bottom-color: var(--fill-color);\n",
              "    }\n",
              "    90% {\n",
              "      border-color: transparent;\n",
              "      border-bottom-color: var(--fill-color);\n",
              "    }\n",
              "  }\n",
              "</style>\n",
              "\n",
              "  <script>\n",
              "    async function quickchart(key) {\n",
              "      const quickchartButtonEl =\n",
              "        document.querySelector('#' + key + ' button');\n",
              "      quickchartButtonEl.disabled = true;  // To prevent multiple clicks.\n",
              "      quickchartButtonEl.classList.add('colab-df-spinner');\n",
              "      try {\n",
              "        const charts = await google.colab.kernel.invokeFunction(\n",
              "            'suggestCharts', [key], {});\n",
              "      } catch (error) {\n",
              "        console.error('Error during call to suggestCharts:', error);\n",
              "      }\n",
              "      quickchartButtonEl.classList.remove('colab-df-spinner');\n",
              "      quickchartButtonEl.classList.add('colab-df-quickchart-complete');\n",
              "    }\n",
              "    (() => {\n",
              "      let quickchartButtonEl =\n",
              "        document.querySelector('#df-1df695f3-ac5c-4656-95b4-0141af47043a button');\n",
              "      quickchartButtonEl.style.display =\n",
              "        google.colab.kernel.accessAllowed ? 'block' : 'none';\n",
              "    })();\n",
              "  </script>\n",
              "</div>\n",
              "\n",
              "    </div>\n",
              "  </div>\n"
            ]
          },
          "metadata": {},
          "execution_count": 22
        }
      ]
    },
    {
      "cell_type": "code",
      "source": [
        "df.to_csv(\"new_df_csv_with_extra_features.csv\")"
      ],
      "metadata": {
        "id": "K8IAhtXvpGlL"
      },
      "execution_count": null,
      "outputs": []
    },
    {
      "cell_type": "code",
      "execution_count": null,
      "metadata": {
        "colab": {
          "base_uri": "https://localhost:8080/"
        },
        "id": "e4C48nzJSKFF",
        "outputId": "91860ec5-64a8-45ca-80b4-d88eb9e7ad67"
      },
      "outputs": [
        {
          "output_type": "stream",
          "name": "stderr",
          "text": [
            "<ipython-input-24-1d16cf6e225d>:1: DtypeWarning:\n",
            "\n",
            "Columns (22) have mixed types. Specify dtype option on import or set low_memory=False.\n",
            "\n"
          ]
        }
      ],
      "source": [
        "df = pd.read_csv(\"/content/drive/MyDrive/Cybersecurity Poject/new_df_csv_with_extra_features.csv\") #Reading the Dataset that was converted to csv from local env Jupyter Notebook"
      ]
    },
    {
      "cell_type": "code",
      "source": [
        "df.drop(['Unnamed: 0'], axis=1, inplace=True) #Dropping the Unnamed Column"
      ],
      "metadata": {
        "id": "lMUh1q_OefGl"
      },
      "execution_count": null,
      "outputs": []
    },
    {
      "cell_type": "markdown",
      "source": [
        "Trying to understand which domains occur the highest in each of the types of files."
      ],
      "metadata": {
        "id": "VDOvfazXqX7_"
      }
    },
    {
      "cell_type": "code",
      "source": [
        "df_benign = df[df['malicious/benign']==0]  #Extracting dataset of only Benign files from the complete dataset\n",
        "df_malicious = df[df['malicious/benign']==1] #Extracting dataset of only Malicious files from the complete dataset\n",
        "\n",
        "df_benign.reset_index(inplace=True)\n",
        "df_benign.drop(['index'], axis=1, inplace=True)\n",
        "\n",
        "df_malicious.reset_index(inplace=True)\n",
        "df_malicious.drop(['index'], axis=1, inplace=True)\n",
        "\n",
        "print(len(df_benign))\n",
        "print(len(df_malicious))"
      ],
      "metadata": {
        "colab": {
          "base_uri": "https://localhost:8080/"
        },
        "id": "ncgu7gSUqXwq",
        "outputId": "0570b415-d4a7-4ebe-a3b0-1ae0fc080ed4"
      },
      "execution_count": null,
      "outputs": [
        {
          "output_type": "stream",
          "name": "stdout",
          "text": [
            "5002\n",
            "4746\n"
          ]
        },
        {
          "output_type": "stream",
          "name": "stderr",
          "text": [
            "<ipython-input-34-d466764ab873>:5: SettingWithCopyWarning:\n",
            "\n",
            "\n",
            "A value is trying to be set on a copy of a slice from a DataFrame\n",
            "\n",
            "See the caveats in the documentation: https://pandas.pydata.org/pandas-docs/stable/user_guide/indexing.html#returning-a-view-versus-a-copy\n",
            "\n",
            "<ipython-input-34-d466764ab873>:8: SettingWithCopyWarning:\n",
            "\n",
            "\n",
            "A value is trying to be set on a copy of a slice from a DataFrame\n",
            "\n",
            "See the caveats in the documentation: https://pandas.pydata.org/pandas-docs/stable/user_guide/indexing.html#returning-a-view-versus-a-copy\n",
            "\n"
          ]
        }
      ]
    },
    {
      "cell_type": "markdown",
      "source": [
        "Extracting information about Benign and Malicious Files containing links to other file attachments.\n"
      ],
      "metadata": {
        "id": "Id-mKmn8U7T1"
      }
    },
    {
      "cell_type": "markdown",
      "source": [
        "Code Cell 6"
      ],
      "metadata": {
        "id": "st9IHnu_MYj7"
      }
    },
    {
      "cell_type": "markdown",
      "source": [
        "# Machine Learning model Training Starts here"
      ],
      "metadata": {
        "id": "MRrd28ephWMJ"
      }
    },
    {
      "cell_type": "code",
      "source": [
        "df.head()"
      ],
      "metadata": {
        "colab": {
          "base_uri": "https://localhost:8080/",
          "height": 429
        },
        "id": "ENLIH1SExQPe",
        "outputId": "d66bea00-5d62-42af-8914-8ffba5664850"
      },
      "execution_count": null,
      "outputs": [
        {
          "output_type": "execute_result",
          "data": {
            "text/plain": [
              "  exif_signatures  file_size pdfid_signatures  \\\n",
              "0              {}     129857               {}   \n",
              "1              {}     251530               {}   \n",
              "2              {}     176127               {}   \n",
              "3              {}      47832               {}   \n",
              "4              {}      37657               {}   \n",
              "\n",
              "                                          pypdf_uris  \\\n",
              "0  ['https://urllie.com/2l04g4', 'https://onmybet...   \n",
              "1  ['https://wirut.co.za/XSRYdR1H?utm_term=eia+we...   \n",
              "2  ['https://ragaz.co.za/XSRYdR1H?utm_term=abo+di...   \n",
              "3  ['https://netcdn.tw/app/431946152/roblox-cheat...   \n",
              "4  ['https://netcdn.xyz/app/431946152/free-robux-...   \n",
              "\n",
              "                                          regex_uris  \\\n",
              "0  ['https://urllie.com/2l04g4', 'https://onmybet...   \n",
              "1  ['https://wirut.co.za/XSRYdR1H?utm_term=eia+we...   \n",
              "2  ['https://ragaz.co.za/XSRYdR1H?utm_term=abo+di...   \n",
              "3  ['https://netcdn.tw/app/431946152/roblox-cheat...   \n",
              "4  ['https://netcdn.xyz/app/431946152/free-robux-...   \n",
              "\n",
              "                                          regex_urls  \\\n",
              "0  ['https', 'https', 'https', 'http://www.suaopi...   \n",
              "1  ['https', 'http://chinajnbt.com/images/upload/...   \n",
              "2  ['https', 'https', 'http://intechsol.kz/wp-con...   \n",
              "3  ['https', 'https', 'https', 'https', 'https', ...   \n",
              "4                                 ['https', 'https']   \n",
              "\n",
              "                      scripts  \\\n",
              "0  {'iframe': [], 'urls': []}   \n",
              "1  {'iframe': [], 'urls': []}   \n",
              "2  {'iframe': [], 'urls': []}   \n",
              "3  {'iframe': [], 'urls': []}   \n",
              "4  {'iframe': [], 'urls': []}   \n",
              "\n",
              "                                   static_properties  \\\n",
              "0  {'JBIG2Decode': '0', 'XML_forms': '0', 'acro_f...   \n",
              "1  {'JBIG2Decode': '0', 'XML_forms': '0', 'acro_f...   \n",
              "2  {'JBIG2Decode': '0', 'XML_forms': '0', 'acro_f...   \n",
              "3  {'JBIG2Decode': '0', 'XML_forms': '0', 'acro_f...   \n",
              "4  {'JBIG2Decode': '0', 'XML_forms': '0', 'acro_f...   \n",
              "\n",
              "                                     yara_signatures  pypdf_uris_num  ...  \\\n",
              "0  ['without_attachments', 'without_images', 'wit...              12  ...   \n",
              "1  ['without_attachments', 'without_images', 'wit...              27  ...   \n",
              "2  ['without_attachments', 'without_images', 'wit...              25  ...   \n",
              "3  ['without_attachments', 'without_images', 'wit...              22  ...   \n",
              "4  ['without_attachments', 'without_images', 'wit...               2  ...   \n",
              "\n",
              "   yara_signatures_FlateDecode_wrong_version  \\\n",
              "0                                          0   \n",
              "1                                          0   \n",
              "2                                          0   \n",
              "3                                          0   \n",
              "4                                          0   \n",
              "\n",
              "   yara_signatures_invalid_trailer_structure  \\\n",
              "0                                          0   \n",
              "1                                          1   \n",
              "2                                          1   \n",
              "3                                          1   \n",
              "4                                          1   \n",
              "\n",
              "   yara_signatures_multiple_filtering  yara_signatures_without_attachments  \\\n",
              "0                                   0                                    1   \n",
              "1                                   0                                    1   \n",
              "2                                   0                                    1   \n",
              "3                                   0                                    1   \n",
              "4                                   0                                    1   \n",
              "\n",
              "   yara_signatures_invalid_xref_numbers  yara_signatures_JBIG2_wrong_version  \\\n",
              "0                                     0                                    0   \n",
              "1                                     0                                    0   \n",
              "2                                     0                                    0   \n",
              "3                                     0                                    0   \n",
              "4                                     0                                    0   \n",
              "\n",
              "   yara_signatures_possible_includes_base64_packed_functions  \\\n",
              "0                                                  0           \n",
              "1                                                  0           \n",
              "2                                                  0           \n",
              "3                                                  0           \n",
              "4                                                  0           \n",
              "\n",
              "   yara_signatures_vmdetect  sus_domain_count  file_attachments_count  \n",
              "0                         0                 3                      10  \n",
              "1                         0                 8                      26  \n",
              "2                         0                 9                      24  \n",
              "3                         0                22                      20  \n",
              "4                         0                 2                       0  \n",
              "\n",
              "[5 rows x 72 columns]"
            ],
            "text/html": [
              "\n",
              "  <div id=\"df-59c920bf-aced-4ea3-a2ac-6b18dcf4e85d\" class=\"colab-df-container\">\n",
              "    <div>\n",
              "<style scoped>\n",
              "    .dataframe tbody tr th:only-of-type {\n",
              "        vertical-align: middle;\n",
              "    }\n",
              "\n",
              "    .dataframe tbody tr th {\n",
              "        vertical-align: top;\n",
              "    }\n",
              "\n",
              "    .dataframe thead th {\n",
              "        text-align: right;\n",
              "    }\n",
              "</style>\n",
              "<table border=\"1\" class=\"dataframe\">\n",
              "  <thead>\n",
              "    <tr style=\"text-align: right;\">\n",
              "      <th></th>\n",
              "      <th>exif_signatures</th>\n",
              "      <th>file_size</th>\n",
              "      <th>pdfid_signatures</th>\n",
              "      <th>pypdf_uris</th>\n",
              "      <th>regex_uris</th>\n",
              "      <th>regex_urls</th>\n",
              "      <th>scripts</th>\n",
              "      <th>static_properties</th>\n",
              "      <th>yara_signatures</th>\n",
              "      <th>pypdf_uris_num</th>\n",
              "      <th>...</th>\n",
              "      <th>yara_signatures_FlateDecode_wrong_version</th>\n",
              "      <th>yara_signatures_invalid_trailer_structure</th>\n",
              "      <th>yara_signatures_multiple_filtering</th>\n",
              "      <th>yara_signatures_without_attachments</th>\n",
              "      <th>yara_signatures_invalid_xref_numbers</th>\n",
              "      <th>yara_signatures_JBIG2_wrong_version</th>\n",
              "      <th>yara_signatures_possible_includes_base64_packed_functions</th>\n",
              "      <th>yara_signatures_vmdetect</th>\n",
              "      <th>sus_domain_count</th>\n",
              "      <th>file_attachments_count</th>\n",
              "    </tr>\n",
              "  </thead>\n",
              "  <tbody>\n",
              "    <tr>\n",
              "      <th>0</th>\n",
              "      <td>{}</td>\n",
              "      <td>129857</td>\n",
              "      <td>{}</td>\n",
              "      <td>['https://urllie.com/2l04g4', 'https://onmybet...</td>\n",
              "      <td>['https://urllie.com/2l04g4', 'https://onmybet...</td>\n",
              "      <td>['https', 'https', 'https', 'http://www.suaopi...</td>\n",
              "      <td>{'iframe': [], 'urls': []}</td>\n",
              "      <td>{'JBIG2Decode': '0', 'XML_forms': '0', 'acro_f...</td>\n",
              "      <td>['without_attachments', 'without_images', 'wit...</td>\n",
              "      <td>12</td>\n",
              "      <td>...</td>\n",
              "      <td>0</td>\n",
              "      <td>0</td>\n",
              "      <td>0</td>\n",
              "      <td>1</td>\n",
              "      <td>0</td>\n",
              "      <td>0</td>\n",
              "      <td>0</td>\n",
              "      <td>0</td>\n",
              "      <td>3</td>\n",
              "      <td>10</td>\n",
              "    </tr>\n",
              "    <tr>\n",
              "      <th>1</th>\n",
              "      <td>{}</td>\n",
              "      <td>251530</td>\n",
              "      <td>{}</td>\n",
              "      <td>['https://wirut.co.za/XSRYdR1H?utm_term=eia+we...</td>\n",
              "      <td>['https://wirut.co.za/XSRYdR1H?utm_term=eia+we...</td>\n",
              "      <td>['https', 'http://chinajnbt.com/images/upload/...</td>\n",
              "      <td>{'iframe': [], 'urls': []}</td>\n",
              "      <td>{'JBIG2Decode': '0', 'XML_forms': '0', 'acro_f...</td>\n",
              "      <td>['without_attachments', 'without_images', 'wit...</td>\n",
              "      <td>27</td>\n",
              "      <td>...</td>\n",
              "      <td>0</td>\n",
              "      <td>1</td>\n",
              "      <td>0</td>\n",
              "      <td>1</td>\n",
              "      <td>0</td>\n",
              "      <td>0</td>\n",
              "      <td>0</td>\n",
              "      <td>0</td>\n",
              "      <td>8</td>\n",
              "      <td>26</td>\n",
              "    </tr>\n",
              "    <tr>\n",
              "      <th>2</th>\n",
              "      <td>{}</td>\n",
              "      <td>176127</td>\n",
              "      <td>{}</td>\n",
              "      <td>['https://ragaz.co.za/XSRYdR1H?utm_term=abo+di...</td>\n",
              "      <td>['https://ragaz.co.za/XSRYdR1H?utm_term=abo+di...</td>\n",
              "      <td>['https', 'https', 'http://intechsol.kz/wp-con...</td>\n",
              "      <td>{'iframe': [], 'urls': []}</td>\n",
              "      <td>{'JBIG2Decode': '0', 'XML_forms': '0', 'acro_f...</td>\n",
              "      <td>['without_attachments', 'without_images', 'wit...</td>\n",
              "      <td>25</td>\n",
              "      <td>...</td>\n",
              "      <td>0</td>\n",
              "      <td>1</td>\n",
              "      <td>0</td>\n",
              "      <td>1</td>\n",
              "      <td>0</td>\n",
              "      <td>0</td>\n",
              "      <td>0</td>\n",
              "      <td>0</td>\n",
              "      <td>9</td>\n",
              "      <td>24</td>\n",
              "    </tr>\n",
              "    <tr>\n",
              "      <th>3</th>\n",
              "      <td>{}</td>\n",
              "      <td>47832</td>\n",
              "      <td>{}</td>\n",
              "      <td>['https://netcdn.tw/app/431946152/roblox-cheat...</td>\n",
              "      <td>['https://netcdn.tw/app/431946152/roblox-cheat...</td>\n",
              "      <td>['https', 'https', 'https', 'https', 'https', ...</td>\n",
              "      <td>{'iframe': [], 'urls': []}</td>\n",
              "      <td>{'JBIG2Decode': '0', 'XML_forms': '0', 'acro_f...</td>\n",
              "      <td>['without_attachments', 'without_images', 'wit...</td>\n",
              "      <td>22</td>\n",
              "      <td>...</td>\n",
              "      <td>0</td>\n",
              "      <td>1</td>\n",
              "      <td>0</td>\n",
              "      <td>1</td>\n",
              "      <td>0</td>\n",
              "      <td>0</td>\n",
              "      <td>0</td>\n",
              "      <td>0</td>\n",
              "      <td>22</td>\n",
              "      <td>20</td>\n",
              "    </tr>\n",
              "    <tr>\n",
              "      <th>4</th>\n",
              "      <td>{}</td>\n",
              "      <td>37657</td>\n",
              "      <td>{}</td>\n",
              "      <td>['https://netcdn.xyz/app/431946152/free-robux-...</td>\n",
              "      <td>['https://netcdn.xyz/app/431946152/free-robux-...</td>\n",
              "      <td>['https', 'https']</td>\n",
              "      <td>{'iframe': [], 'urls': []}</td>\n",
              "      <td>{'JBIG2Decode': '0', 'XML_forms': '0', 'acro_f...</td>\n",
              "      <td>['without_attachments', 'without_images', 'wit...</td>\n",
              "      <td>2</td>\n",
              "      <td>...</td>\n",
              "      <td>0</td>\n",
              "      <td>1</td>\n",
              "      <td>0</td>\n",
              "      <td>1</td>\n",
              "      <td>0</td>\n",
              "      <td>0</td>\n",
              "      <td>0</td>\n",
              "      <td>0</td>\n",
              "      <td>2</td>\n",
              "      <td>0</td>\n",
              "    </tr>\n",
              "  </tbody>\n",
              "</table>\n",
              "<p>5 rows × 72 columns</p>\n",
              "</div>\n",
              "    <div class=\"colab-df-buttons\">\n",
              "\n",
              "  <div class=\"colab-df-container\">\n",
              "    <button class=\"colab-df-convert\" onclick=\"convertToInteractive('df-59c920bf-aced-4ea3-a2ac-6b18dcf4e85d')\"\n",
              "            title=\"Convert this dataframe to an interactive table.\"\n",
              "            style=\"display:none;\">\n",
              "\n",
              "  <svg xmlns=\"http://www.w3.org/2000/svg\" height=\"24px\" viewBox=\"0 -960 960 960\">\n",
              "    <path d=\"M120-120v-720h720v720H120Zm60-500h600v-160H180v160Zm220 220h160v-160H400v160Zm0 220h160v-160H400v160ZM180-400h160v-160H180v160Zm440 0h160v-160H620v160ZM180-180h160v-160H180v160Zm440 0h160v-160H620v160Z\"/>\n",
              "  </svg>\n",
              "    </button>\n",
              "\n",
              "  <style>\n",
              "    .colab-df-container {\n",
              "      display:flex;\n",
              "      gap: 12px;\n",
              "    }\n",
              "\n",
              "    .colab-df-convert {\n",
              "      background-color: #E8F0FE;\n",
              "      border: none;\n",
              "      border-radius: 50%;\n",
              "      cursor: pointer;\n",
              "      display: none;\n",
              "      fill: #1967D2;\n",
              "      height: 32px;\n",
              "      padding: 0 0 0 0;\n",
              "      width: 32px;\n",
              "    }\n",
              "\n",
              "    .colab-df-convert:hover {\n",
              "      background-color: #E2EBFA;\n",
              "      box-shadow: 0px 1px 2px rgba(60, 64, 67, 0.3), 0px 1px 3px 1px rgba(60, 64, 67, 0.15);\n",
              "      fill: #174EA6;\n",
              "    }\n",
              "\n",
              "    .colab-df-buttons div {\n",
              "      margin-bottom: 4px;\n",
              "    }\n",
              "\n",
              "    [theme=dark] .colab-df-convert {\n",
              "      background-color: #3B4455;\n",
              "      fill: #D2E3FC;\n",
              "    }\n",
              "\n",
              "    [theme=dark] .colab-df-convert:hover {\n",
              "      background-color: #434B5C;\n",
              "      box-shadow: 0px 1px 3px 1px rgba(0, 0, 0, 0.15);\n",
              "      filter: drop-shadow(0px 1px 2px rgba(0, 0, 0, 0.3));\n",
              "      fill: #FFFFFF;\n",
              "    }\n",
              "  </style>\n",
              "\n",
              "    <script>\n",
              "      const buttonEl =\n",
              "        document.querySelector('#df-59c920bf-aced-4ea3-a2ac-6b18dcf4e85d button.colab-df-convert');\n",
              "      buttonEl.style.display =\n",
              "        google.colab.kernel.accessAllowed ? 'block' : 'none';\n",
              "\n",
              "      async function convertToInteractive(key) {\n",
              "        const element = document.querySelector('#df-59c920bf-aced-4ea3-a2ac-6b18dcf4e85d');\n",
              "        const dataTable =\n",
              "          await google.colab.kernel.invokeFunction('convertToInteractive',\n",
              "                                                    [key], {});\n",
              "        if (!dataTable) return;\n",
              "\n",
              "        const docLinkHtml = 'Like what you see? Visit the ' +\n",
              "          '<a target=\"_blank\" href=https://colab.research.google.com/notebooks/data_table.ipynb>data table notebook</a>'\n",
              "          + ' to learn more about interactive tables.';\n",
              "        element.innerHTML = '';\n",
              "        dataTable['output_type'] = 'display_data';\n",
              "        await google.colab.output.renderOutput(dataTable, element);\n",
              "        const docLink = document.createElement('div');\n",
              "        docLink.innerHTML = docLinkHtml;\n",
              "        element.appendChild(docLink);\n",
              "      }\n",
              "    </script>\n",
              "  </div>\n",
              "\n",
              "\n",
              "<div id=\"df-acbeac43-1de1-45c9-9be0-f854f739d3ca\">\n",
              "  <button class=\"colab-df-quickchart\" onclick=\"quickchart('df-acbeac43-1de1-45c9-9be0-f854f739d3ca')\"\n",
              "            title=\"Suggest charts\"\n",
              "            style=\"display:none;\">\n",
              "\n",
              "<svg xmlns=\"http://www.w3.org/2000/svg\" height=\"24px\"viewBox=\"0 0 24 24\"\n",
              "     width=\"24px\">\n",
              "    <g>\n",
              "        <path d=\"M19 3H5c-1.1 0-2 .9-2 2v14c0 1.1.9 2 2 2h14c1.1 0 2-.9 2-2V5c0-1.1-.9-2-2-2zM9 17H7v-7h2v7zm4 0h-2V7h2v10zm4 0h-2v-4h2v4z\"/>\n",
              "    </g>\n",
              "</svg>\n",
              "  </button>\n",
              "\n",
              "<style>\n",
              "  .colab-df-quickchart {\n",
              "      --bg-color: #E8F0FE;\n",
              "      --fill-color: #1967D2;\n",
              "      --hover-bg-color: #E2EBFA;\n",
              "      --hover-fill-color: #174EA6;\n",
              "      --disabled-fill-color: #AAA;\n",
              "      --disabled-bg-color: #DDD;\n",
              "  }\n",
              "\n",
              "  [theme=dark] .colab-df-quickchart {\n",
              "      --bg-color: #3B4455;\n",
              "      --fill-color: #D2E3FC;\n",
              "      --hover-bg-color: #434B5C;\n",
              "      --hover-fill-color: #FFFFFF;\n",
              "      --disabled-bg-color: #3B4455;\n",
              "      --disabled-fill-color: #666;\n",
              "  }\n",
              "\n",
              "  .colab-df-quickchart {\n",
              "    background-color: var(--bg-color);\n",
              "    border: none;\n",
              "    border-radius: 50%;\n",
              "    cursor: pointer;\n",
              "    display: none;\n",
              "    fill: var(--fill-color);\n",
              "    height: 32px;\n",
              "    padding: 0;\n",
              "    width: 32px;\n",
              "  }\n",
              "\n",
              "  .colab-df-quickchart:hover {\n",
              "    background-color: var(--hover-bg-color);\n",
              "    box-shadow: 0 1px 2px rgba(60, 64, 67, 0.3), 0 1px 3px 1px rgba(60, 64, 67, 0.15);\n",
              "    fill: var(--button-hover-fill-color);\n",
              "  }\n",
              "\n",
              "  .colab-df-quickchart-complete:disabled,\n",
              "  .colab-df-quickchart-complete:disabled:hover {\n",
              "    background-color: var(--disabled-bg-color);\n",
              "    fill: var(--disabled-fill-color);\n",
              "    box-shadow: none;\n",
              "  }\n",
              "\n",
              "  .colab-df-spinner {\n",
              "    border: 2px solid var(--fill-color);\n",
              "    border-color: transparent;\n",
              "    border-bottom-color: var(--fill-color);\n",
              "    animation:\n",
              "      spin 1s steps(1) infinite;\n",
              "  }\n",
              "\n",
              "  @keyframes spin {\n",
              "    0% {\n",
              "      border-color: transparent;\n",
              "      border-bottom-color: var(--fill-color);\n",
              "      border-left-color: var(--fill-color);\n",
              "    }\n",
              "    20% {\n",
              "      border-color: transparent;\n",
              "      border-left-color: var(--fill-color);\n",
              "      border-top-color: var(--fill-color);\n",
              "    }\n",
              "    30% {\n",
              "      border-color: transparent;\n",
              "      border-left-color: var(--fill-color);\n",
              "      border-top-color: var(--fill-color);\n",
              "      border-right-color: var(--fill-color);\n",
              "    }\n",
              "    40% {\n",
              "      border-color: transparent;\n",
              "      border-right-color: var(--fill-color);\n",
              "      border-top-color: var(--fill-color);\n",
              "    }\n",
              "    60% {\n",
              "      border-color: transparent;\n",
              "      border-right-color: var(--fill-color);\n",
              "    }\n",
              "    80% {\n",
              "      border-color: transparent;\n",
              "      border-right-color: var(--fill-color);\n",
              "      border-bottom-color: var(--fill-color);\n",
              "    }\n",
              "    90% {\n",
              "      border-color: transparent;\n",
              "      border-bottom-color: var(--fill-color);\n",
              "    }\n",
              "  }\n",
              "</style>\n",
              "\n",
              "  <script>\n",
              "    async function quickchart(key) {\n",
              "      const quickchartButtonEl =\n",
              "        document.querySelector('#' + key + ' button');\n",
              "      quickchartButtonEl.disabled = true;  // To prevent multiple clicks.\n",
              "      quickchartButtonEl.classList.add('colab-df-spinner');\n",
              "      try {\n",
              "        const charts = await google.colab.kernel.invokeFunction(\n",
              "            'suggestCharts', [key], {});\n",
              "      } catch (error) {\n",
              "        console.error('Error during call to suggestCharts:', error);\n",
              "      }\n",
              "      quickchartButtonEl.classList.remove('colab-df-spinner');\n",
              "      quickchartButtonEl.classList.add('colab-df-quickchart-complete');\n",
              "    }\n",
              "    (() => {\n",
              "      let quickchartButtonEl =\n",
              "        document.querySelector('#df-acbeac43-1de1-45c9-9be0-f854f739d3ca button');\n",
              "      quickchartButtonEl.style.display =\n",
              "        google.colab.kernel.accessAllowed ? 'block' : 'none';\n",
              "    })();\n",
              "  </script>\n",
              "</div>\n",
              "\n",
              "    </div>\n",
              "  </div>\n"
            ]
          },
          "metadata": {},
          "execution_count": 35
        }
      ]
    },
    {
      "cell_type": "code",
      "source": [
        "df.columns"
      ],
      "metadata": {
        "colab": {
          "base_uri": "https://localhost:8080/"
        },
        "id": "36Z_SQCu4Dx-",
        "outputId": "411103e3-6f37-469e-b48c-a5a9ca3d6e50"
      },
      "execution_count": null,
      "outputs": [
        {
          "output_type": "execute_result",
          "data": {
            "text/plain": [
              "Index(['exif_signatures', 'file_size', 'pdfid_signatures', 'pypdf_uris',\n",
              "       'regex_uris', 'regex_urls', 'scripts', 'static_properties',\n",
              "       'yara_signatures', 'pypdf_uris_num', 'regex_uris_num', 'regex_urls_num',\n",
              "       'scripts_iframe', 'scripts_urls', 'static_properties_JBIG2Decode',\n",
              "       'static_properties_XML_forms', 'static_properties_acro_form',\n",
              "       'static_properties_auto_action', 'static_properties_colors',\n",
              "       'static_properties_cross_reference_table',\n",
              "       'static_properties_embedded_files', 'static_properties_file_size',\n",
              "       'static_properties_java_script', 'static_properties_js',\n",
              "       'static_properties_launch_action', 'static_properties_object_end',\n",
              "       'static_properties_object_start', 'static_properties_object_streams',\n",
              "       'static_properties_open_action', 'static_properties_page_count',\n",
              "       'static_properties_rich_media',\n",
              "       'static_properties_start_cross_reference_table',\n",
              "       'static_properties_stream_end', 'static_properties_stream_start',\n",
              "       'static_properties_trailer_dictionary', 'malicious/benign',\n",
              "       'yara_signatures_multiple_versions', 'yara_signatures_without_urls',\n",
              "       'yara_signatures_PDF_Embedded_Exe',\n",
              "       'yara_signatures_suspicious_creator', 'yara_signatures_without_images',\n",
              "       'yara_signatures_Big_Numbers1',\n",
              "       'yara_signatures_suspicious_launch_action',\n",
              "       'yara_signatures_Big_Numbers0', 'yara_signatures_CRC32c_poly_Constant',\n",
              "       'yara_signatures_Big_Numbers3',\n",
              "       'yara_signatures_suspicious_packer_section',\n",
              "       'yara_signatures_maldoc_OLE_file_magic_number',\n",
              "       'yara_signatures_with_urls', 'yara_signatures_Cerberus',\n",
              "       'yara_signatures_header_evasion', 'yara_signatures_with_images',\n",
              "       'yara_signatures_contentis_base64', 'yara_signatures_possible_exploit',\n",
              "       'yara_signatures_RSharedStrings', 'yara_signatures_Big_Numbers4',\n",
              "       'yara_signatures_suspicious_embed', 'yara_signatures_MoleBoxv20',\n",
              "       'yara_signatures_xtreme_rat', 'yara_signatures_memory_shylock',\n",
              "       'yara_signatures_IsSuspicious', 'yara_signatures_Big_Numbers2',\n",
              "       'yara_signatures_FlateDecode_wrong_version',\n",
              "       'yara_signatures_invalid_trailer_structure',\n",
              "       'yara_signatures_multiple_filtering',\n",
              "       'yara_signatures_without_attachments',\n",
              "       'yara_signatures_invalid_xref_numbers',\n",
              "       'yara_signatures_JBIG2_wrong_version',\n",
              "       'yara_signatures_possible_includes_base64_packed_functions',\n",
              "       'yara_signatures_vmdetect', 'sus_domain_count',\n",
              "       'file_attachments_count'],\n",
              "      dtype='object')"
            ]
          },
          "metadata": {},
          "execution_count": 36
        }
      ]
    },
    {
      "cell_type": "code",
      "source": [
        "df.fillna(0, inplace=True)"
      ],
      "metadata": {
        "id": "MAHA1jSZtUvL"
      },
      "execution_count": null,
      "outputs": []
    },
    {
      "cell_type": "code",
      "source": [
        "df_prep = df[[ 'file_size', 'pypdf_uris_num', 'regex_uris_num', 'regex_urls_num',\n",
        "       'scripts_iframe', 'scripts_urls', 'static_properties_JBIG2Decode',\n",
        "       'static_properties_XML_forms', 'static_properties_acro_form',\n",
        "       'static_properties_auto_action', 'static_properties_colors',\n",
        "       'static_properties_cross_reference_table',\n",
        "       'static_properties_embedded_files',\n",
        "       'static_properties_java_script', 'static_properties_js',\n",
        "       'static_properties_launch_action', 'static_properties_object_end',\n",
        "       'static_properties_object_start', 'static_properties_object_streams',\n",
        "       'static_properties_open_action', 'static_properties_page_count',\n",
        "       'static_properties_rich_media',\n",
        "       'static_properties_start_cross_reference_table',\n",
        "       'static_properties_stream_end', 'static_properties_stream_start',\n",
        "       'static_properties_trailer_dictionary', 'malicious/benign',\n",
        "       'yara_signatures_multiple_versions', 'yara_signatures_without_urls',\n",
        "       'yara_signatures_PDF_Embedded_Exe',\n",
        "       'yara_signatures_suspicious_creator', 'yara_signatures_without_images',\n",
        "       'yara_signatures_Big_Numbers1',\n",
        "       'yara_signatures_suspicious_launch_action',\n",
        "       'yara_signatures_Big_Numbers0', 'yara_signatures_CRC32c_poly_Constant',\n",
        "       'yara_signatures_Big_Numbers3',\n",
        "       'yara_signatures_suspicious_packer_section',\n",
        "       'yara_signatures_maldoc_OLE_file_magic_number',\n",
        "       'yara_signatures_with_urls', 'yara_signatures_Cerberus',\n",
        "       'yara_signatures_header_evasion', 'yara_signatures_with_images',\n",
        "       'yara_signatures_contentis_base64', 'yara_signatures_possible_exploit',\n",
        "       'yara_signatures_RSharedStrings', 'yara_signatures_Big_Numbers4',\n",
        "       'yara_signatures_suspicious_embed', 'yara_signatures_MoleBoxv20',\n",
        "       'yara_signatures_xtreme_rat', 'yara_signatures_memory_shylock',\n",
        "       'yara_signatures_IsSuspicious', 'yara_signatures_Big_Numbers2',\n",
        "       'yara_signatures_FlateDecode_wrong_version',\n",
        "       'yara_signatures_invalid_trailer_structure',\n",
        "       'yara_signatures_multiple_filtering',\n",
        "       'yara_signatures_without_attachments',\n",
        "       'yara_signatures_invalid_xref_numbers',\n",
        "       'yara_signatures_JBIG2_wrong_version',\n",
        "       'yara_signatures_possible_includes_base64_packed_functions',\n",
        "       'yara_signatures_vmdetect', 'sus_domain_count',\n",
        "       'file_attachments_count']]\n",
        "\n",
        "# df_prep = df[['file_size', 'regex_uris_num', 'scripts_iframe', 'static_properties_JBIG2Decode',\n",
        "#        'static_properties_acro_form',\n",
        "#        'static_properties_colors',\n",
        "#        'static_properties_cross_reference_table',\n",
        "#        'static_properties_embedded_files', 'static_properties_js',\n",
        "#        'static_properties_object_end',\n",
        "#        'static_properties_object_streams',\n",
        "#        'static_properties_page_count',\n",
        "#        'static_properties_start_cross_reference_table', 'static_properties_stream_start',\n",
        "#        'yara_signatures_memory_shylock',\n",
        "#        'yara_signatures_FlateDecode_wrong_version',\n",
        "#        'yara_signatures_suspicious_packer_section',\n",
        "#        'yara_signatures_xtreme_rat', 'yara_signatures_multiple_versions',\n",
        "#        'yara_signatures_Cerberus', 'yara_signatures_contentis_base64',\n",
        "#        'yara_signatures_suspicious_launch_action',\n",
        "#        'yara_signatures_maldoc_OLE_file_magic_number',\n",
        "#        'yara_signatures_PDF_Embedded_Exe',\n",
        "#        'yara_signatures_without_attachments', 'yara_signatures_Big_Numbers2',\n",
        "#        'yara_signatures_Big_Numbers3',\n",
        "#        'yara_signatures_JBIG2_wrong_version', 'malicious/benign']]"
      ],
      "metadata": {
        "id": "4qBTAi9zS7LM"
      },
      "execution_count": null,
      "outputs": []
    },
    {
      "cell_type": "code",
      "source": [
        "df_prep.isna().sum()"
      ],
      "metadata": {
        "colab": {
          "base_uri": "https://localhost:8080/"
        },
        "id": "XiW7j3R_Ttzf",
        "outputId": "2f96c6f7-dc49-4c58-b6e3-25943860c7f2"
      },
      "execution_count": null,
      "outputs": [
        {
          "output_type": "execute_result",
          "data": {
            "text/plain": [
              "file_size                                                    0\n",
              "pypdf_uris_num                                               0\n",
              "regex_uris_num                                               0\n",
              "regex_urls_num                                               0\n",
              "scripts_iframe                                               0\n",
              "                                                            ..\n",
              "yara_signatures_JBIG2_wrong_version                          0\n",
              "yara_signatures_possible_includes_base64_packed_functions    0\n",
              "yara_signatures_vmdetect                                     0\n",
              "sus_domain_count                                             0\n",
              "file_attachments_count                                       0\n",
              "Length: 63, dtype: int64"
            ]
          },
          "metadata": {},
          "execution_count": 39
        }
      ]
    },
    {
      "cell_type": "code",
      "source": [
        "df_prep.fillna(0, inplace=True)\n",
        "\n",
        "df_prep.isna().sum()"
      ],
      "metadata": {
        "colab": {
          "base_uri": "https://localhost:8080/"
        },
        "id": "fYPgZX2MT0wl",
        "outputId": "823a3f07-0c2a-4aa7-dc57-7e9abbe9a543"
      },
      "execution_count": null,
      "outputs": [
        {
          "output_type": "stream",
          "name": "stderr",
          "text": [
            "<ipython-input-40-d3673ff04829>:1: SettingWithCopyWarning:\n",
            "\n",
            "\n",
            "A value is trying to be set on a copy of a slice from a DataFrame\n",
            "\n",
            "See the caveats in the documentation: https://pandas.pydata.org/pandas-docs/stable/user_guide/indexing.html#returning-a-view-versus-a-copy\n",
            "\n"
          ]
        },
        {
          "output_type": "execute_result",
          "data": {
            "text/plain": [
              "file_size                                                    0\n",
              "pypdf_uris_num                                               0\n",
              "regex_uris_num                                               0\n",
              "regex_urls_num                                               0\n",
              "scripts_iframe                                               0\n",
              "                                                            ..\n",
              "yara_signatures_JBIG2_wrong_version                          0\n",
              "yara_signatures_possible_includes_base64_packed_functions    0\n",
              "yara_signatures_vmdetect                                     0\n",
              "sus_domain_count                                             0\n",
              "file_attachments_count                                       0\n",
              "Length: 63, dtype: int64"
            ]
          },
          "metadata": {},
          "execution_count": 40
        }
      ]
    },
    {
      "cell_type": "code",
      "source": [
        "X = df_prep.drop(['malicious/benign'], axis=1)\n",
        "y = df_prep['malicious/benign']"
      ],
      "metadata": {
        "id": "TdbaUXm1T5uM"
      },
      "execution_count": null,
      "outputs": []
    },
    {
      "cell_type": "code",
      "source": [
        "X_train, X_test, y_train, y_test = train_test_split(X, y, test_size=0.3, random_state=42)"
      ],
      "metadata": {
        "id": "2n2n1MBVT7pE"
      },
      "execution_count": null,
      "outputs": []
    },
    {
      "cell_type": "markdown",
      "source": [
        "Code Cell 7"
      ],
      "metadata": {
        "id": "0iC6EN2nNKTU"
      }
    },
    {
      "cell_type": "markdown",
      "source": [
        "### XG Boost"
      ],
      "metadata": {
        "id": "Y_LkYWpDyN8O"
      }
    },
    {
      "cell_type": "code",
      "source": [
        "dtrain = xgb.DMatrix(X_train, label=y_train)\n",
        "dtest = xgb.DMatrix(X_test, label=y_test)\n",
        "data_dmatrix = xgb.DMatrix(data=X, label=y)"
      ],
      "metadata": {
        "id": "h_FmfDJlxl-m"
      },
      "execution_count": null,
      "outputs": []
    },
    {
      "cell_type": "code",
      "source": [
        "params = {\n",
        "    'max_depth': 20,  # Depth of the trees\n",
        "    'eta': 0.01,      # Learning rate\n",
        "    'objective': 'binary:logistic',  # Change to 'reg:squarederror' for regression\n",
        "    'eval_metric': 'logloss', # Evaluation metric\n",
        "    'n_estimators': 100\n",
        "}\n",
        "epochs = 1500"
      ],
      "metadata": {
        "id": "I1EBFidZyiZk"
      },
      "execution_count": null,
      "outputs": []
    },
    {
      "cell_type": "code",
      "source": [
        "bst = xgb.train(params, dtrain, epochs)"
      ],
      "metadata": {
        "colab": {
          "base_uri": "https://localhost:8080/"
        },
        "id": "48A9gb7DylNJ",
        "outputId": "98a6041e-97e0-4a6e-aaa3-131ff8511337"
      },
      "execution_count": null,
      "outputs": [
        {
          "output_type": "stream",
          "name": "stderr",
          "text": [
            "/usr/local/lib/python3.10/dist-packages/xgboost/core.py:160: UserWarning:\n",
            "\n",
            "[09:56:01] WARNING: /workspace/src/learner.cc:742: \n",
            "Parameters: { \"n_estimators\" } are not used.\n",
            "\n",
            "\n"
          ]
        }
      ]
    },
    {
      "cell_type": "code",
      "source": [
        "predictions = bst.predict(dtest)\n",
        "# If it's a classification problem, convert probabilities to binary output\n",
        "predictions = [1 if value > 0.5 else 0 for value in predictions]\n",
        "# predictions"
      ],
      "metadata": {
        "id": "0DYUGz7oypEh"
      },
      "execution_count": null,
      "outputs": []
    },
    {
      "cell_type": "code",
      "source": [
        "accuracy = accuracy_score(y_test, predictions)\n",
        "print(f\"Accuracy: {accuracy * 100:.2f}%\")"
      ],
      "metadata": {
        "colab": {
          "base_uri": "https://localhost:8080/"
        },
        "id": "wyrtLqWtywI2",
        "outputId": "5920e702-214c-4d35-c6d2-8b745fd36f18"
      },
      "execution_count": null,
      "outputs": [
        {
          "output_type": "stream",
          "name": "stdout",
          "text": [
            "Accuracy: 99.66%\n"
          ]
        }
      ]
    },
    {
      "cell_type": "code",
      "source": [
        "# Displaying the confusion Matrix\n",
        "conf_matrix = confusion_matrix(y_test, predictions)\n",
        "plt.figure(figsize=(10,4))\n",
        "sns.heatmap(conf_matrix, annot=True, xticklabels = ['Benign', 'Malicious'], yticklabels = ['Benign', 'Malicious'], fmt=\".1f\")\n",
        "plt.title(\"Confusion Matrix\")\n",
        "plt.xlabel(\"Predicted\")\n",
        "plt.ylabel(\"Actual\")\n",
        "plt.show()\n",
        "\n",
        "print(\"Classification Report: \\n\", classification_report(y_test, predictions))"
      ],
      "metadata": {
        "colab": {
          "base_uri": "https://localhost:8080/",
          "height": 584
        },
        "id": "jxKAp6tJzY3c",
        "outputId": "03534896-6c92-45da-a7c4-40ae1779f4b3"
      },
      "execution_count": null,
      "outputs": [
        {
          "output_type": "display_data",
          "data": {
            "text/plain": [
              "<Figure size 1000x400 with 2 Axes>"
            ],
            "image/png": "[encoded data removed]"
          },
          "metadata": {}
        },
        {
          "output_type": "stream",
          "name": "stdout",
          "text": [
            "Classification Report: \n",
            "               precision    recall  f1-score   support\n",
            "\n",
            "           0       1.00      1.00      1.00      1498\n",
            "           1       1.00      1.00      1.00      1427\n",
            "\n",
            "    accuracy                           1.00      2925\n",
            "   macro avg       1.00      1.00      1.00      2925\n",
            "weighted avg       1.00      1.00      1.00      2925\n",
            "\n"
          ]
        }
      ]
    },
    {
      "cell_type": "code",
      "source": [
        "importance = bst.get_score(importance_type='weight')\n",
        "\n",
        "xgb.plot_importance(bst)\n",
        "plt.show()\n",
        "\n",
        "features = list(importance.keys())\n",
        "importances = list(importance.values())"
      ],
      "metadata": {
        "colab": {
          "base_uri": "https://localhost:8080/",
          "height": 472
        },
        "id": "q2ynw_Sf0tBG",
        "outputId": "3edccf8b-2513-4bb9-c12f-b8076051b7ed"
      },
      "execution_count": null,
      "outputs": [
        {
          "output_type": "display_data",
          "data": {
            "text/plain": [
              "<Figure size 640x480 with 1 Axes>"
            ],
            "image/png": "[encoded data removed]"
          },
          "metadata": {}
        }
      ]
    },
    {
      "cell_type": "code",
      "source": [
        "plt.barh(features, importances)\n",
        "plt.xlabel('Importance')\n",
        "plt.ylabel('Features')\n",
        "plt.title('Feature Importance')\n",
        "plt.show()"
      ],
      "metadata": {
        "colab": {
          "base_uri": "https://localhost:8080/",
          "height": 472
        },
        "id": "3F948T3n1XsD",
        "outputId": "b380982e-6004-4327-c63e-1fa679f24597"
      },
      "execution_count": null,
      "outputs": [
        {
          "output_type": "display_data",
          "data": {
            "text/plain": [
              "<Figure size 640x480 with 1 Axes>"
            ],
            "image/png": "[encoded data removed]"
          },
          "metadata": {}
        }
      ]
    },
    {
      "cell_type": "code",
      "source": [
        "fpr, tpr, thresholds = roc_curve(y_test, predictions)\n",
        "roc_auc = auc(fpr, tpr)\n",
        "roc_auc\n"
      ],
      "metadata": {
        "colab": {
          "base_uri": "https://localhost:8080/"
        },
        "id": "wDhszz3s1ri5",
        "outputId": "22674076-1394-48ca-df68-889ac588c4af"
      },
      "execution_count": null,
      "outputs": [
        {
          "output_type": "execute_result",
          "data": {
            "text/plain": [
              "0.9965791810243604"
            ]
          },
          "metadata": {},
          "execution_count": 51
        }
      ]
    },
    {
      "cell_type": "code",
      "source": [
        "plt.figure(figsize=(10,10))\n",
        "plt.title(\"ROC Curve\")\n",
        "plt.plot(fpr, tpr, color='darkorange', lw=2, label='ROC curve (area = %0.2f)' % roc_auc)\n",
        "plt.legend(loc=\"lower right\")\n",
        "plt.axvline(x = 0.01, color=\"red\", linestyle=\"--\", label=\"0.1% FPR Rate\")\n",
        "plt.xlim([0.0, 0.1])\n",
        "plt.ylim([0.99, 1.0])\n",
        "plt.xlabel('False Positive Rate')\n",
        "plt.ylabel('True Positive Rate')\n",
        "plt.title('Receiver Operating Characteristic')\n",
        "plt.legend(loc=\"lower right\")\n",
        "plt.show()"
      ],
      "metadata": {
        "colab": {
          "base_uri": "https://localhost:8080/",
          "height": 872
        },
        "id": "S8NEQ3EF2ukA",
        "outputId": "e3891f70-a3fb-48da-bf92-c901c4efd932"
      },
      "execution_count": null,
      "outputs": [
        {
          "output_type": "display_data",
          "data": {
            "text/plain": [
              "<Figure size 1000x1000 with 1 Axes>"
            ],
            "image/png": "[encoded data removed]"
          },
          "metadata": {}
        }
      ]
    },
    {
      "cell_type": "code",
      "source": [
        "df_pr = pd.DataFrame()\n",
        "\n",
        "df_pr['FPR'] = fpr\n",
        "df_pr['TPR'] = tpr\n",
        "fig = px.line(df_pr, x=\"FPR\", y=\"TPR\" )\n",
        "fig.show()"
      ],
      "metadata": {
        "colab": {
          "base_uri": "https://localhost:8080/",
          "height": 542
        },
        "id": "8eSGNWjYOiXP",
        "outputId": "7314e0c4-6c21-4295-ff2b-3a1bd726aaaa"
      },
      "execution_count": null,
      "outputs": [
        {
          "output_type": "display_data",
          "data": {
            "text/html": [
              "<html>\n",
              "<head><meta charset=\"utf-8\" /></head>\n",
              "<body>\n",
              "    <div>            <script src=\"https://cdnjs.cloudflare.com/ajax/libs/mathjax/2.7.5/MathJax.js?config=TeX-AMS-MML_SVG\"></script><script type=\"text/javascript\">if (window.MathJax && window.MathJax.Hub && window.MathJax.Hub.Config) {window.MathJax.Hub.Config({SVG: {font: \"STIX-Web\"}});}</script>                <script type=\"text/javascript\">window.PlotlyConfig = {MathJaxConfig: 'local'};</script>\n",
              "        <script charset=\"utf-8\" src=\"https://cdn.plot.ly/plotly-2.24.1.min.js\"></script>                <div id=\"41f207af-9f17-4c9b-9bd7-ab5ed472955b\" class=\"plotly-graph-div\" style=\"height:525px; width:100%;\"></div>            <script type=\"text/javascript\">                                    window.PLOTLYENV=window.PLOTLYENV || {};                                    if (document.getElementById(\"41f207af-9f17-4c9b-9bd7-ab5ed472955b\")) {                    Plotly.newPlot(                        \"41f207af-9f17-4c9b-9bd7-ab5ed472955b\",                        [{\"hovertemplate\":\"FPR=%{x}\\u003cbr\\u003eTPR=%{y}\\u003cextra\\u003e\\u003c\\u002fextra\\u003e\",\"legendgroup\":\"\",\"line\":{\"color\":\"#636efa\",\"dash\":\"solid\"},\"marker\":{\"symbol\":\"circle\"},\"mode\":\"lines\",\"name\":\"\",\"orientation\":\"v\",\"showlegend\":false,\"x\":[0.0,0.0033377837116154874,1.0],\"xaxis\":\"x\",\"y\":[0.0,0.9964961457603364,1.0],\"yaxis\":\"y\",\"type\":\"scatter\"}],                        {\"template\":{\"data\":{\"histogram2dcontour\":[{\"type\":\"histogram2dcontour\",\"colorbar\":{\"outlinewidth\":0,\"ticks\":\"\"},\"colorscale\":[[0.0,\"#0d0887\"],[0.1111111111111111,\"#46039f\"],[0.2222222222222222,\"#7201a8\"],[0.3333333333333333,\"#9c179e\"],[0.4444444444444444,\"#bd3786\"],[0.5555555555555556,\"#d8576b\"],[0.6666666666666666,\"#ed7953\"],[0.7777777777777778,\"#fb9f3a\"],[0.8888888888888888,\"#fdca26\"],[1.0,\"#f0f921\"]]}],\"choropleth\":[{\"type\":\"choropleth\",\"colorbar\":{\"outlinewidth\":0,\"ticks\":\"\"}}],\"histogram2d\":[{\"type\":\"histogram2d\",\"colorbar\":{\"outlinewidth\":0,\"ticks\":\"\"},\"colorscale\":[[0.0,\"#0d0887\"],[0.1111111111111111,\"#46039f\"],[0.2222222222222222,\"#7201a8\"],[0.3333333333333333,\"#9c179e\"],[0.4444444444444444,\"#bd3786\"],[0.5555555555555556,\"#d8576b\"],[0.6666666666666666,\"#ed7953\"],[0.7777777777777778,\"#fb9f3a\"],[0.8888888888888888,\"#fdca26\"],[1.0,\"#f0f921\"]]}],\"heatmap\":[{\"type\":\"heatmap\",\"colorbar\":{\"outlinewidth\":0,\"ticks\":\"\"},\"colorscale\":[[0.0,\"#0d0887\"],[0.1111111111111111,\"#46039f\"],[0.2222222222222222,\"#7201a8\"],[0.3333333333333333,\"#9c179e\"],[0.4444444444444444,\"#bd3786\"],[0.5555555555555556,\"#d8576b\"],[0.6666666666666666,\"#ed7953\"],[0.7777777777777778,\"#fb9f3a\"],[0.8888888888888888,\"#fdca26\"],[1.0,\"#f0f921\"]]}],\"heatmapgl\":[{\"type\":\"heatmapgl\",\"colorbar\":{\"outlinewidth\":0,\"ticks\":\"\"},\"colorscale\":[[0.0,\"#0d0887\"],[0.1111111111111111,\"#46039f\"],[0.2222222222222222,\"#7201a8\"],[0.3333333333333333,\"#9c179e\"],[0.4444444444444444,\"#bd3786\"],[0.5555555555555556,\"#d8576b\"],[0.6666666666666666,\"#ed7953\"],[0.7777777777777778,\"#fb9f3a\"],[0.8888888888888888,\"#fdca26\"],[1.0,\"#f0f921\"]]}],\"contourcarpet\":[{\"type\":\"contourcarpet\",\"colorbar\":{\"outlinewidth\":0,\"ticks\":\"\"}}],\"contour\":[{\"type\":\"contour\",\"colorbar\":{\"outlinewidth\":0,\"ticks\":\"\"},\"colorscale\":[[0.0,\"#0d0887\"],[0.1111111111111111,\"#46039f\"],[0.2222222222222222,\"#7201a8\"],[0.3333333333333333,\"#9c179e\"],[0.4444444444444444,\"#bd3786\"],[0.5555555555555556,\"#d8576b\"],[0.6666666666666666,\"#ed7953\"],[0.7777777777777778,\"#fb9f3a\"],[0.8888888888888888,\"#fdca26\"],[1.0,\"#f0f921\"]]}],\"surface\":[{\"type\":\"surface\",\"colorbar\":{\"outlinewidth\":0,\"ticks\":\"\"},\"colorscale\":[[0.0,\"#0d0887\"],[0.1111111111111111,\"#46039f\"],[0.2222222222222222,\"#7201a8\"],[0.3333333333333333,\"#9c179e\"],[0.4444444444444444,\"#bd3786\"],[0.5555555555555556,\"#d8576b\"],[0.6666666666666666,\"#ed7953\"],[0.7777777777777778,\"#fb9f3a\"],[0.8888888888888888,\"#fdca26\"],[1.0,\"#f0f921\"]]}],\"mesh3d\":[{\"type\":\"mesh3d\",\"colorbar\":{\"outlinewidth\":0,\"ticks\":\"\"}}],\"scatter\":[{\"fillpattern\":{\"fillmode\":\"overlay\",\"size\":10,\"solidity\":0.2},\"type\":\"scatter\"}],\"parcoords\":[{\"type\":\"parcoords\",\"line\":{\"colorbar\":{\"outlinewidth\":0,\"ticks\":\"\"}}}],\"scatterpolargl\":[{\"type\":\"scatterpolargl\",\"marker\":{\"colorbar\":{\"outlinewidth\":0,\"ticks\":\"\"}}}],\"bar\":[{\"error_x\":{\"color\":\"#2a3f5f\"},\"error_y\":{\"color\":\"#2a3f5f\"},\"marker\":{\"line\":{\"color\":\"#E5ECF6\",\"width\":0.5},\"pattern\":{\"fillmode\":\"overlay\",\"size\":10,\"solidity\":0.2}},\"type\":\"bar\"}],\"scattergeo\":[{\"type\":\"scattergeo\",\"marker\":{\"colorbar\":{\"outlinewidth\":0,\"ticks\":\"\"}}}],\"scatterpolar\":[{\"type\":\"scatterpolar\",\"marker\":{\"colorbar\":{\"outlinewidth\":0,\"ticks\":\"\"}}}],\"histogram\":[{\"marker\":{\"pattern\":{\"fillmode\":\"overlay\",\"size\":10,\"solidity\":0.2}},\"type\":\"histogram\"}],\"scattergl\":[{\"type\":\"scattergl\",\"marker\":{\"colorbar\":{\"outlinewidth\":0,\"ticks\":\"\"}}}],\"scatter3d\":[{\"type\":\"scatter3d\",\"line\":{\"colorbar\":{\"outlinewidth\":0,\"ticks\":\"\"}},\"marker\":{\"colorbar\":{\"outlinewidth\":0,\"ticks\":\"\"}}}],\"scattermapbox\":[{\"type\":\"scattermapbox\",\"marker\":{\"colorbar\":{\"outlinewidth\":0,\"ticks\":\"\"}}}],\"scatterternary\":[{\"type\":\"scatterternary\",\"marker\":{\"colorbar\":{\"outlinewidth\":0,\"ticks\":\"\"}}}],\"scattercarpet\":[{\"type\":\"scattercarpet\",\"marker\":{\"colorbar\":{\"outlinewidth\":0,\"ticks\":\"\"}}}],\"carpet\":[{\"aaxis\":{\"endlinecolor\":\"#2a3f5f\",\"gridcolor\":\"white\",\"linecolor\":\"white\",\"minorgridcolor\":\"white\",\"startlinecolor\":\"#2a3f5f\"},\"baxis\":{\"endlinecolor\":\"#2a3f5f\",\"gridcolor\":\"white\",\"linecolor\":\"white\",\"minorgridcolor\":\"white\",\"startlinecolor\":\"#2a3f5f\"},\"type\":\"carpet\"}],\"table\":[{\"cells\":{\"fill\":{\"color\":\"#EBF0F8\"},\"line\":{\"color\":\"white\"}},\"header\":{\"fill\":{\"color\":\"#C8D4E3\"},\"line\":{\"color\":\"white\"}},\"type\":\"table\"}],\"barpolar\":[{\"marker\":{\"line\":{\"color\":\"#E5ECF6\",\"width\":0.5},\"pattern\":{\"fillmode\":\"overlay\",\"size\":10,\"solidity\":0.2}},\"type\":\"barpolar\"}],\"pie\":[{\"automargin\":true,\"type\":\"pie\"}]},\"layout\":{\"autotypenumbers\":\"strict\",\"colorway\":[\"#636efa\",\"#EF553B\",\"#00cc96\",\"#ab63fa\",\"#FFA15A\",\"#19d3f3\",\"#FF6692\",\"#B6E880\",\"#FF97FF\",\"#FECB52\"],\"font\":{\"color\":\"#2a3f5f\"},\"hovermode\":\"closest\",\"hoverlabel\":{\"align\":\"left\"},\"paper_bgcolor\":\"white\",\"plot_bgcolor\":\"#E5ECF6\",\"polar\":{\"bgcolor\":\"#E5ECF6\",\"angularaxis\":{\"gridcolor\":\"white\",\"linecolor\":\"white\",\"ticks\":\"\"},\"radialaxis\":{\"gridcolor\":\"white\",\"linecolor\":\"white\",\"ticks\":\"\"}},\"ternary\":{\"bgcolor\":\"#E5ECF6\",\"aaxis\":{\"gridcolor\":\"white\",\"linecolor\":\"white\",\"ticks\":\"\"},\"baxis\":{\"gridcolor\":\"white\",\"linecolor\":\"white\",\"ticks\":\"\"},\"caxis\":{\"gridcolor\":\"white\",\"linecolor\":\"white\",\"ticks\":\"\"}},\"coloraxis\":{\"colorbar\":{\"outlinewidth\":0,\"ticks\":\"\"}},\"colorscale\":{\"sequential\":[[0.0,\"#0d0887\"],[0.1111111111111111,\"#46039f\"],[0.2222222222222222,\"#7201a8\"],[0.3333333333333333,\"#9c179e\"],[0.4444444444444444,\"#bd3786\"],[0.5555555555555556,\"#d8576b\"],[0.6666666666666666,\"#ed7953\"],[0.7777777777777778,\"#fb9f3a\"],[0.8888888888888888,\"#fdca26\"],[1.0,\"#f0f921\"]],\"sequentialminus\":[[0.0,\"#0d0887\"],[0.1111111111111111,\"#46039f\"],[0.2222222222222222,\"#7201a8\"],[0.3333333333333333,\"#9c179e\"],[0.4444444444444444,\"#bd3786\"],[0.5555555555555556,\"#d8576b\"],[0.6666666666666666,\"#ed7953\"],[0.7777777777777778,\"#fb9f3a\"],[0.8888888888888888,\"#fdca26\"],[1.0,\"#f0f921\"]],\"diverging\":[[0,\"#8e0152\"],[0.1,\"#c51b7d\"],[0.2,\"#de77ae\"],[0.3,\"#f1b6da\"],[0.4,\"#fde0ef\"],[0.5,\"#f7f7f7\"],[0.6,\"#e6f5d0\"],[0.7,\"#b8e186\"],[0.8,\"#7fbc41\"],[0.9,\"#4d9221\"],[1,\"#276419\"]]},\"xaxis\":{\"gridcolor\":\"white\",\"linecolor\":\"white\",\"ticks\":\"\",\"title\":{\"standoff\":15},\"zerolinecolor\":\"white\",\"automargin\":true,\"zerolinewidth\":2},\"yaxis\":{\"gridcolor\":\"white\",\"linecolor\":\"white\",\"ticks\":\"\",\"title\":{\"standoff\":15},\"zerolinecolor\":\"white\",\"automargin\":true,\"zerolinewidth\":2},\"scene\":{\"xaxis\":{\"backgroundcolor\":\"#E5ECF6\",\"gridcolor\":\"white\",\"linecolor\":\"white\",\"showbackground\":true,\"ticks\":\"\",\"zerolinecolor\":\"white\",\"gridwidth\":2},\"yaxis\":{\"backgroundcolor\":\"#E5ECF6\",\"gridcolor\":\"white\",\"linecolor\":\"white\",\"showbackground\":true,\"ticks\":\"\",\"zerolinecolor\":\"white\",\"gridwidth\":2},\"zaxis\":{\"backgroundcolor\":\"#E5ECF6\",\"gridcolor\":\"white\",\"linecolor\":\"white\",\"showbackground\":true,\"ticks\":\"\",\"zerolinecolor\":\"white\",\"gridwidth\":2}},\"shapedefaults\":{\"line\":{\"color\":\"#2a3f5f\"}},\"annotationdefaults\":{\"arrowcolor\":\"#2a3f5f\",\"arrowhead\":0,\"arrowwidth\":1},\"geo\":{\"bgcolor\":\"white\",\"landcolor\":\"#E5ECF6\",\"subunitcolor\":\"white\",\"showland\":true,\"showlakes\":true,\"lakecolor\":\"white\"},\"title\":{\"x\":0.05},\"mapbox\":{\"style\":\"light\"}}},\"xaxis\":{\"anchor\":\"y\",\"domain\":[0.0,1.0],\"title\":{\"text\":\"FPR\"}},\"yaxis\":{\"anchor\":\"x\",\"domain\":[0.0,1.0],\"title\":{\"text\":\"TPR\"}},\"legend\":{\"tracegroupgap\":0},\"margin\":{\"t\":60}},                        {\"responsive\": true}                    ).then(function(){\n",
              "                            \n",
              "var gd = document.getElementById('41f207af-9f17-4c9b-9bd7-ab5ed472955b');\n",
              "var x = new MutationObserver(function (mutations, observer) {{\n",
              "        var display = window.getComputedStyle(gd).display;\n",
              "        if (!display || display === 'none') {{\n",
              "            console.log([gd, 'removed!']);\n",
              "            Plotly.purge(gd);\n",
              "            observer.disconnect();\n",
              "        }}\n",
              "}});\n",
              "\n",
              "// Listen for the removal of the full notebook cells\n",
              "var notebookContainer = gd.closest('#notebook-container');\n",
              "if (notebookContainer) {{\n",
              "    x.observe(notebookContainer, {childList: true});\n",
              "}}\n",
              "\n",
              "// Listen for the clearing of the current output cell\n",
              "var outputEl = gd.closest('.output');\n",
              "if (outputEl) {{\n",
              "    x.observe(outputEl, {childList: true});\n",
              "}}\n",
              "\n",
              "                        })                };                            </script>        </div>\n",
              "</body>\n",
              "</html>"
            ]
          },
          "metadata": {}
        }
      ]
    },
    {
      "cell_type": "markdown",
      "source": [
        "Cross Validation Results"
      ],
      "metadata": {
        "id": "Dao_vybAckrc"
      }
    },
    {
      "cell_type": "code",
      "source": [
        "cv_results = xgb.cv(dtrain=data_dmatrix, params=params, nfold=3,\n",
        "                    num_boost_round=50, early_stopping_rounds=10, metrics=\"auc\",\n",
        "                    as_pandas=True, seed=42)"
      ],
      "metadata": {
        "colab": {
          "base_uri": "https://localhost:8080/"
        },
        "id": "DMYmdj9qTCZp",
        "outputId": "2506cafb-2913-4893-cb13-c469ce419c83"
      },
      "execution_count": null,
      "outputs": [
        {
          "output_type": "stream",
          "name": "stderr",
          "text": [
            "/usr/local/lib/python3.10/dist-packages/xgboost/core.py:160: UserWarning:\n",
            "\n",
            "[09:56:38] WARNING: /workspace/src/learner.cc:742: \n",
            "Parameters: { \"n_estimators\" } are not used.\n",
            "\n",
            "\n"
          ]
        }
      ]
    },
    {
      "cell_type": "code",
      "source": [
        "print(cv_results.head())"
      ],
      "metadata": {
        "colab": {
          "base_uri": "https://localhost:8080/"
        },
        "id": "-7_1uKptTokQ",
        "outputId": "7528649f-e5ec-4926-c1f3-3216096ea5b0"
      },
      "execution_count": null,
      "outputs": [
        {
          "output_type": "stream",
          "name": "stdout",
          "text": [
            "   train-auc-mean  train-auc-std  test-auc-mean  test-auc-std\n",
            "0        0.995785       0.000535       0.994978      0.000791\n",
            "1        0.995789       0.000540       0.994986      0.000796\n",
            "2        0.995791       0.000541       0.994991      0.000793\n",
            "3        0.995791       0.000541       0.994987      0.000795\n",
            "4        0.996258       0.000704       0.995476      0.000649\n"
          ]
        }
      ]
    },
    {
      "cell_type": "code",
      "source": [
        "print(f\"CV AUC score: {cv_results['test-auc-mean'].iloc[-1]}\")\n",
        "print(f\"CV AUC standard deviation: {cv_results['test-auc-std'].iloc[-1]}\")"
      ],
      "metadata": {
        "colab": {
          "base_uri": "https://localhost:8080/"
        },
        "id": "kO1O_qQ8TtQx",
        "outputId": "a49cdea1-8626-493f-c9da-b0ebda688fab"
      },
      "execution_count": null,
      "outputs": [
        {
          "output_type": "stream",
          "name": "stdout",
          "text": [
            "CV AUC score: 0.9981263453519258\n",
            "CV AUC standard deviation: 0.00026209382979192677\n"
          ]
        }
      ]
    },
    {
      "cell_type": "code",
      "source": [
        "from xgboost import XGBClassifier\n",
        "\n",
        "# Create an instance of the XGBClassifier\n",
        "xgb_model = XGBClassifier()\n",
        "\n",
        "# Assuming X and y are your features and target\n",
        "k_folds = KFold(n_splits = 4)\n",
        "scores = cross_val_score(xgb_model, X, y, cv = k_folds)"
      ],
      "metadata": {
        "id": "w2w9tMYizmQD"
      },
      "execution_count": null,
      "outputs": []
    },
    {
      "cell_type": "code",
      "source": [
        "print(\"Cross Validation Scores: \", scores)\n",
        "print(\"Average CV Score: \", scores.mean())\n",
        "print(\"Number of CV Scores used in Average: \", len(scores))"
      ],
      "metadata": {
        "colab": {
          "base_uri": "https://localhost:8080/"
        },
        "id": "-aSrz85b0jwn",
        "outputId": "506f27bf-f301-4d9e-a9a5-c66004fb3705"
      },
      "execution_count": null,
      "outputs": [
        {
          "output_type": "stream",
          "name": "stdout",
          "text": [
            "Cross Validation Scores:  [0.99671728 0.99343455 0.99220353 0.99425523]\n",
            "Average CV Score:  0.9941526466967583\n",
            "Number of CV Scores used in Average:  4\n"
          ]
        }
      ]
    },
    {
      "cell_type": "markdown",
      "source": [
        "Code Cell 8"
      ],
      "metadata": {
        "id": "zjA1egthN7ZC"
      }
    },
    {
      "cell_type": "markdown",
      "source": [
        "### Random Forest"
      ],
      "metadata": {
        "id": "Hugyy9pjyLX7"
      }
    },
    {
      "cell_type": "code",
      "source": [
        "rfc = RandomForestClassifier(random_state=0, n_estimators=5, max_depth=5)"
      ],
      "metadata": {
        "id": "k--LSIgxT93h"
      },
      "execution_count": null,
      "outputs": []
    },
    {
      "cell_type": "code",
      "source": [
        "rfc.fit(X_train, y_train)\n",
        "\n",
        "y_pred = rfc.predict(X_test)\n",
        "y_pred_proba = rfc.predict_proba(X_test)"
      ],
      "metadata": {
        "id": "zP9PpDvtT-4a"
      },
      "execution_count": null,
      "outputs": []
    },
    {
      "cell_type": "code",
      "source": [
        "from sklearn.metrics import classification_report\n",
        "\n",
        "accuracy = accuracy_score(y_test, y_pred)\n",
        "print(f\"Accuracy: {accuracy:.5f}\")"
      ],
      "metadata": {
        "colab": {
          "base_uri": "https://localhost:8080/"
        },
        "id": "jcL5LwOMT_0K",
        "outputId": "70f54d24-461c-4e16-eb4e-c0b4c39fb32e"
      },
      "execution_count": null,
      "outputs": [
        {
          "output_type": "stream",
          "name": "stdout",
          "text": [
            "Accuracy: 0.99282\n"
          ]
        }
      ]
    },
    {
      "cell_type": "code",
      "source": [
        "# Displaying the confusion Matrix\n",
        "conf_matrix = confusion_matrix(y_test, y_pred)\n",
        "plt.figure(figsize=(10,4))\n",
        "sns.heatmap(conf_matrix, annot=True, xticklabels = ['Benign', 'Malicious'], yticklabels = ['Benign', 'Malicious'], fmt=\".1f\")\n",
        "plt.title(\"Confusion Matrix\")\n",
        "plt.xlabel(\"Predicted\")\n",
        "plt.ylabel(\"Actual\")\n",
        "plt.show()\n",
        "\n",
        "print(\"Classification Report: \\n\", classification_report(y_test, y_pred))"
      ],
      "metadata": {
        "colab": {
          "base_uri": "https://localhost:8080/",
          "height": 584
        },
        "id": "R-WrpnR0UAz6",
        "outputId": "0878f47c-a9fd-44ff-970c-d54242e4b62d"
      },
      "execution_count": null,
      "outputs": [
        {
          "output_type": "display_data",
          "data": {
            "text/plain": [
              "<Figure size 1000x400 with 2 Axes>"
            ],
            "image/png": "[encoded data removed]"
          },
          "metadata": {}
        },
        {
          "output_type": "stream",
          "name": "stdout",
          "text": [
            "Classification Report: \n",
            "               precision    recall  f1-score   support\n",
            "\n",
            "           0       0.99      0.99      0.99      1498\n",
            "           1       0.99      0.99      0.99      1427\n",
            "\n",
            "    accuracy                           0.99      2925\n",
            "   macro avg       0.99      0.99      0.99      2925\n",
            "weighted avg       0.99      0.99      0.99      2925\n",
            "\n"
          ]
        }
      ]
    },
    {
      "cell_type": "code",
      "source": [
        "feature_importance = rfc.feature_importances_\n",
        "\n",
        "feature_names = X.columns\n",
        "\n",
        "feature_importance_df = pd.DataFrame({\"Feature\": feature_names, \"Importance\": feature_importance})\n",
        "\n",
        "feature_importance_df = feature_importance_df.sort_values(by='Importance', ascending=False)\n",
        "\n",
        "sns.barplot(x=\"Importance\", y=\"Feature\", data = feature_importance_df[:10])\n",
        "plt.title(\"Feature Importance Score\")\n",
        "plt.show()"
      ],
      "metadata": {
        "colab": {
          "base_uri": "https://localhost:8080/",
          "height": 472
        },
        "id": "-zumM1jtUB10",
        "outputId": "31a63b2a-28c7-4660-e552-b025fb6eff1e"
      },
      "execution_count": null,
      "outputs": [
        {
          "output_type": "display_data",
          "data": {
            "text/plain": [
              "<Figure size 640x480 with 1 Axes>"
            ],
            "image/png": "[encoded data removed]"
          },
          "metadata": {}
        }
      ]
    },
    {
      "cell_type": "code",
      "source": [
        "false_positive_rate, true_positive_rate, thresholds = roc_curve(y_test, y_pred_proba[:,1])\n",
        "roc_auc = auc(false_positive_rate, true_positive_rate)\n",
        "roc_auc"
      ],
      "metadata": {
        "colab": {
          "base_uri": "https://localhost:8080/"
        },
        "id": "eJfBu030UC3k",
        "outputId": "3f3da3b6-a64f-4259-8ba5-15c8eb724d92"
      },
      "execution_count": null,
      "outputs": [
        {
          "output_type": "execute_result",
          "data": {
            "text/plain": [
              "0.9981809429624924"
            ]
          },
          "metadata": {},
          "execution_count": 70
        }
      ]
    },
    {
      "cell_type": "code",
      "source": [
        "plt.figure(figsize=(10,10))\n",
        "plt.title(\"ROC Curve\")\n",
        "plt.plot(false_positive_rate, true_positive_rate, label = \"AUC = %0.2f\" %roc_auc)\n",
        "plt.legend(loc=\"lower right\")\n",
        "plt.axvline(x = 0.01, color=\"red\", linestyle=\"--\", label=\"0.1% FPR Rate\")\n",
        "# plt.grid(color = \"b\", linsetyle = \"--\", linewidth = 0.05)\n",
        "plt.xlim([0.001 ,  0.05])\n",
        "plt.ylim([0.99 , 1.001])\n",
        "plt.xlabel('False Positive Rate')\n",
        "plt.ylabel(\"True Positive Rate\")\n",
        "plt.title(\"ROC Curve\")\n",
        "plt.legend(loc = \"lower right\")"
      ],
      "metadata": {
        "colab": {
          "base_uri": "https://localhost:8080/",
          "height": 889
        },
        "id": "VHiH1GoBUEB0",
        "outputId": "962139fd-2adf-42cb-a272-115a81712489"
      },
      "execution_count": null,
      "outputs": [
        {
          "output_type": "execute_result",
          "data": {
            "text/plain": [
              "<matplotlib.legend.Legend at 0x7a69cf778be0>"
            ]
          },
          "metadata": {},
          "execution_count": 71
        },
        {
          "output_type": "display_data",
          "data": {
            "text/plain": [
              "<Figure size 1000x1000 with 1 Axes>"
            ],
            "image/png": "[encoded data removed]"
          },
          "metadata": {}
        }
      ]
    },
    {
      "cell_type": "code",
      "source": [
        "import plotly.express as px\n",
        "\n",
        "df_pr = pd.DataFrame()\n",
        "\n",
        "df_pr['FPR'] = false_positive_rate\n",
        "df_pr['TPR'] = true_positive_rate\n",
        "fig = px.line(df_pr, x=\"FPR\", y=\"TPR\" )\n",
        "fig.show()"
      ],
      "metadata": {
        "id": "xx1cMenmCsta",
        "colab": {
          "base_uri": "https://localhost:8080/",
          "height": 542
        },
        "outputId": "ef4ad173-2662-4397-976b-59eef1bd5a63"
      },
      "execution_count": null,
      "outputs": [
        {
          "output_type": "display_data",
          "data": {
            "text/html": [
              "<html>\n",
              "<head><meta charset=\"utf-8\" /></head>\n",
              "<body>\n",
              "    <div>            <script src=\"https://cdnjs.cloudflare.com/ajax/libs/mathjax/2.7.5/MathJax.js?config=TeX-AMS-MML_SVG\"></script><script type=\"text/javascript\">if (window.MathJax && window.MathJax.Hub && window.MathJax.Hub.Config) {window.MathJax.Hub.Config({SVG: {font: \"STIX-Web\"}});}</script>                <script type=\"text/javascript\">window.PlotlyConfig = {MathJaxConfig: 'local'};</script>\n",
              "        <script charset=\"utf-8\" src=\"https://cdn.plot.ly/plotly-2.24.1.min.js\"></script>                <div id=\"a9d1d872-43f7-4520-bcc5-c490a6566368\" class=\"plotly-graph-div\" style=\"height:525px; width:100%;\"></div>            <script type=\"text/javascript\">                                    window.PLOTLYENV=window.PLOTLYENV || {};                                    if (document.getElementById(\"a9d1d872-43f7-4520-bcc5-c490a6566368\")) {                    Plotly.newPlot(                        \"a9d1d872-43f7-4520-bcc5-c490a6566368\",                        [{\"hovertemplate\":\"FPR=%{x}\\u003cbr\\u003eTPR=%{y}\\u003cextra\\u003e\\u003c\\u002fextra\\u003e\",\"legendgroup\":\"\",\"line\":{\"color\":\"#636efa\",\"dash\":\"solid\"},\"marker\":{\"symbol\":\"circle\"},\"mode\":\"lines\",\"name\":\"\",\"orientation\":\"v\",\"showlegend\":false,\"x\":[0.0,0.0013351134846461949,0.0013351134846461949,0.0013351134846461949,0.0013351134846461949,0.0013351134846461949,0.0013351134846461949,0.0033377837116154874,0.0033377837116154874,0.004005340453938585,0.004005340453938585,0.004005340453938585,0.004005340453938585,0.004005340453938585,0.004672897196261682,0.004672897196261682,0.004672897196261682,0.0053404539385847796,0.0053404539385847796,0.006008010680907877,0.006008010680907877,0.007343124165554072,0.007343124165554072,0.00801068090787717,0.00801068090787717,0.009345794392523364,0.010013351134846462,0.011348464619492658,0.012016021361815754,0.014686248331108143,0.014686248331108143,0.016688918558077435,0.018024032042723633,0.02069425901201602,0.0267022696929239,0.02870493991989319,0.030040053404539385,0.03204272363150868,0.03471295060080107,0.035380507343124167,0.035380507343124167,0.036715620827770364,0.04005340453938585,0.04138851802403204,0.042723631508678236,0.044058744993324434,0.050066755674232306,0.0514018691588785,0.06074766355140187,0.06809078771695594,0.07009345794392523,0.07142857142857142,0.07209612817089453,0.0801068090787717,0.0814419225634179,0.08210947930574099,0.09145527369826435,0.09479305740987984,0.10146862483311081,0.102803738317757,0.1054739652870494,0.11014686248331108,0.11081441922563418,0.11348464619492657,0.11949265687583445,0.12149532710280374,0.12416555407209613,0.1261682242990654,0.12817089452603472,0.1321762349799733,0.13351134846461948,0.13551401869158877,0.13684913217623498,0.14619492656875835,0.14686248331108145,0.15086782376502003,0.15220293724966621,0.15287049399198932,0.15620827770360482,0.1568758344459279,0.1582109479305741,0.17089452603471295,0.17823765020026702,0.1795727636849132,0.1802403204272363,0.18157543391188252,0.1829105473965287,0.1855807743658211,0.2349799732977303,0.2356475300400534,0.2376502002670227,0.2389853137516689,0.2389853137516689,0.2416555407209613,0.24299065420560748,0.24833110814419226,0.2583444592790387,0.2596795727636849,0.2863818424566088,0.2977303070761015,0.2983978638184246,0.3404539385847797,0.34512683578104136,0.34579439252336447,0.35847797062750336,0.36114819759679573,0.36181575433911883,0.369826435246996,0.3724966622162884,0.3871829105473965,0.4165554072096128,0.4265687583444593,0.4279038718291055,0.43124165554072097,0.4325767690253672,0.43457943925233644,0.4612817089452603,0.46261682242990654,0.46395193591455275,0.465954606141522,0.4699599465954606,0.48130841121495327,0.4833110814419226,0.5046728971962616,0.5060080106809078,0.5720961281708945,0.5787716955941254,0.6188251001335113,0.6328437917222964,0.9612817089452603,1.0],\"xaxis\":\"x\",\"y\":[0.0,0.7995795374912403,0.8100911002102312,0.8892782060266293,0.897687456201822,0.9025928521373511,0.9032936229852838,0.9404344779257183,0.9411352487736511,0.9411352487736511,0.9747722494744219,0.9768745620182201,0.9782761037140855,0.9789768745620182,0.9852838121934128,0.9866853538892782,0.9887876664330764,0.9894884372810091,0.9908899789768746,0.9908899789768746,0.9922915206727401,0.9922915206727401,0.9936930623686054,0.9936930623686054,0.9943938332165382,0.9943938332165382,0.9943938332165382,0.9943938332165382,0.9943938332165382,0.9943938332165382,0.9950946040644709,0.9950946040644709,0.9950946040644709,0.9950946040644709,0.9950946040644709,0.9950946040644709,0.9950946040644709,0.9950946040644709,0.9950946040644709,0.9950946040644709,0.9957953749124037,0.9957953749124037,0.9957953749124037,0.9957953749124037,0.9957953749124037,0.9957953749124037,0.9957953749124037,0.9957953749124037,0.9957953749124037,0.9957953749124037,0.9957953749124037,0.9957953749124037,0.9957953749124037,0.9957953749124037,0.9957953749124037,0.9957953749124037,0.9964961457603364,0.9964961457603364,0.9964961457603364,0.9964961457603364,0.9964961457603364,0.9964961457603364,0.9964961457603364,0.9964961457603364,0.9964961457603364,0.9964961457603364,0.9964961457603364,0.9971969166082691,0.9971969166082691,0.9971969166082691,0.9971969166082691,0.9971969166082691,0.9971969166082691,0.9978976874562018,0.9978976874562018,0.9978976874562018,0.9978976874562018,0.9978976874562018,0.9978976874562018,0.9978976874562018,0.9978976874562018,0.9978976874562018,0.9978976874562018,0.9978976874562018,0.9978976874562018,0.9978976874562018,0.9978976874562018,0.9978976874562018,0.9978976874562018,0.9978976874562018,0.9978976874562018,0.9978976874562018,0.9985984583041345,0.9985984583041345,0.9985984583041345,0.9992992291520673,0.9992992291520673,0.9992992291520673,0.9992992291520673,1.0,1.0,1.0,1.0,1.0,1.0,1.0,1.0,1.0,1.0,1.0,1.0,1.0,1.0,1.0,1.0,1.0,1.0,1.0,1.0,1.0,1.0,1.0,1.0,1.0,1.0,1.0,1.0,1.0,1.0,1.0,1.0],\"yaxis\":\"y\",\"type\":\"scatter\"}],                        {\"template\":{\"data\":{\"histogram2dcontour\":[{\"type\":\"histogram2dcontour\",\"colorbar\":{\"outlinewidth\":0,\"ticks\":\"\"},\"colorscale\":[[0.0,\"#0d0887\"],[0.1111111111111111,\"#46039f\"],[0.2222222222222222,\"#7201a8\"],[0.3333333333333333,\"#9c179e\"],[0.4444444444444444,\"#bd3786\"],[0.5555555555555556,\"#d8576b\"],[0.6666666666666666,\"#ed7953\"],[0.7777777777777778,\"#fb9f3a\"],[0.8888888888888888,\"#fdca26\"],[1.0,\"#f0f921\"]]}],\"choropleth\":[{\"type\":\"choropleth\",\"colorbar\":{\"outlinewidth\":0,\"ticks\":\"\"}}],\"histogram2d\":[{\"type\":\"histogram2d\",\"colorbar\":{\"outlinewidth\":0,\"ticks\":\"\"},\"colorscale\":[[0.0,\"#0d0887\"],[0.1111111111111111,\"#46039f\"],[0.2222222222222222,\"#7201a8\"],[0.3333333333333333,\"#9c179e\"],[0.4444444444444444,\"#bd3786\"],[0.5555555555555556,\"#d8576b\"],[0.6666666666666666,\"#ed7953\"],[0.7777777777777778,\"#fb9f3a\"],[0.8888888888888888,\"#fdca26\"],[1.0,\"#f0f921\"]]}],\"heatmap\":[{\"type\":\"heatmap\",\"colorbar\":{\"outlinewidth\":0,\"ticks\":\"\"},\"colorscale\":[[0.0,\"#0d0887\"],[0.1111111111111111,\"#46039f\"],[0.2222222222222222,\"#7201a8\"],[0.3333333333333333,\"#9c179e\"],[0.4444444444444444,\"#bd3786\"],[0.5555555555555556,\"#d8576b\"],[0.6666666666666666,\"#ed7953\"],[0.7777777777777778,\"#fb9f3a\"],[0.8888888888888888,\"#fdca26\"],[1.0,\"#f0f921\"]]}],\"heatmapgl\":[{\"type\":\"heatmapgl\",\"colorbar\":{\"outlinewidth\":0,\"ticks\":\"\"},\"colorscale\":[[0.0,\"#0d0887\"],[0.1111111111111111,\"#46039f\"],[0.2222222222222222,\"#7201a8\"],[0.3333333333333333,\"#9c179e\"],[0.4444444444444444,\"#bd3786\"],[0.5555555555555556,\"#d8576b\"],[0.6666666666666666,\"#ed7953\"],[0.7777777777777778,\"#fb9f3a\"],[0.8888888888888888,\"#fdca26\"],[1.0,\"#f0f921\"]]}],\"contourcarpet\":[{\"type\":\"contourcarpet\",\"colorbar\":{\"outlinewidth\":0,\"ticks\":\"\"}}],\"contour\":[{\"type\":\"contour\",\"colorbar\":{\"outlinewidth\":0,\"ticks\":\"\"},\"colorscale\":[[0.0,\"#0d0887\"],[0.1111111111111111,\"#46039f\"],[0.2222222222222222,\"#7201a8\"],[0.3333333333333333,\"#9c179e\"],[0.4444444444444444,\"#bd3786\"],[0.5555555555555556,\"#d8576b\"],[0.6666666666666666,\"#ed7953\"],[0.7777777777777778,\"#fb9f3a\"],[0.8888888888888888,\"#fdca26\"],[1.0,\"#f0f921\"]]}],\"surface\":[{\"type\":\"surface\",\"colorbar\":{\"outlinewidth\":0,\"ticks\":\"\"},\"colorscale\":[[0.0,\"#0d0887\"],[0.1111111111111111,\"#46039f\"],[0.2222222222222222,\"#7201a8\"],[0.3333333333333333,\"#9c179e\"],[0.4444444444444444,\"#bd3786\"],[0.5555555555555556,\"#d8576b\"],[0.6666666666666666,\"#ed7953\"],[0.7777777777777778,\"#fb9f3a\"],[0.8888888888888888,\"#fdca26\"],[1.0,\"#f0f921\"]]}],\"mesh3d\":[{\"type\":\"mesh3d\",\"colorbar\":{\"outlinewidth\":0,\"ticks\":\"\"}}],\"scatter\":[{\"fillpattern\":{\"fillmode\":\"overlay\",\"size\":10,\"solidity\":0.2},\"type\":\"scatter\"}],\"parcoords\":[{\"type\":\"parcoords\",\"line\":{\"colorbar\":{\"outlinewidth\":0,\"ticks\":\"\"}}}],\"scatterpolargl\":[{\"type\":\"scatterpolargl\",\"marker\":{\"colorbar\":{\"outlinewidth\":0,\"ticks\":\"\"}}}],\"bar\":[{\"error_x\":{\"color\":\"#2a3f5f\"},\"error_y\":{\"color\":\"#2a3f5f\"},\"marker\":{\"line\":{\"color\":\"#E5ECF6\",\"width\":0.5},\"pattern\":{\"fillmode\":\"overlay\",\"size\":10,\"solidity\":0.2}},\"type\":\"bar\"}],\"scattergeo\":[{\"type\":\"scattergeo\",\"marker\":{\"colorbar\":{\"outlinewidth\":0,\"ticks\":\"\"}}}],\"scatterpolar\":[{\"type\":\"scatterpolar\",\"marker\":{\"colorbar\":{\"outlinewidth\":0,\"ticks\":\"\"}}}],\"histogram\":[{\"marker\":{\"pattern\":{\"fillmode\":\"overlay\",\"size\":10,\"solidity\":0.2}},\"type\":\"histogram\"}],\"scattergl\":[{\"type\":\"scattergl\",\"marker\":{\"colorbar\":{\"outlinewidth\":0,\"ticks\":\"\"}}}],\"scatter3d\":[{\"type\":\"scatter3d\",\"line\":{\"colorbar\":{\"outlinewidth\":0,\"ticks\":\"\"}},\"marker\":{\"colorbar\":{\"outlinewidth\":0,\"ticks\":\"\"}}}],\"scattermapbox\":[{\"type\":\"scattermapbox\",\"marker\":{\"colorbar\":{\"outlinewidth\":0,\"ticks\":\"\"}}}],\"scatterternary\":[{\"type\":\"scatterternary\",\"marker\":{\"colorbar\":{\"outlinewidth\":0,\"ticks\":\"\"}}}],\"scattercarpet\":[{\"type\":\"scattercarpet\",\"marker\":{\"colorbar\":{\"outlinewidth\":0,\"ticks\":\"\"}}}],\"carpet\":[{\"aaxis\":{\"endlinecolor\":\"#2a3f5f\",\"gridcolor\":\"white\",\"linecolor\":\"white\",\"minorgridcolor\":\"white\",\"startlinecolor\":\"#2a3f5f\"},\"baxis\":{\"endlinecolor\":\"#2a3f5f\",\"gridcolor\":\"white\",\"linecolor\":\"white\",\"minorgridcolor\":\"white\",\"startlinecolor\":\"#2a3f5f\"},\"type\":\"carpet\"}],\"table\":[{\"cells\":{\"fill\":{\"color\":\"#EBF0F8\"},\"line\":{\"color\":\"white\"}},\"header\":{\"fill\":{\"color\":\"#C8D4E3\"},\"line\":{\"color\":\"white\"}},\"type\":\"table\"}],\"barpolar\":[{\"marker\":{\"line\":{\"color\":\"#E5ECF6\",\"width\":0.5},\"pattern\":{\"fillmode\":\"overlay\",\"size\":10,\"solidity\":0.2}},\"type\":\"barpolar\"}],\"pie\":[{\"automargin\":true,\"type\":\"pie\"}]},\"layout\":{\"autotypenumbers\":\"strict\",\"colorway\":[\"#636efa\",\"#EF553B\",\"#00cc96\",\"#ab63fa\",\"#FFA15A\",\"#19d3f3\",\"#FF6692\",\"#B6E880\",\"#FF97FF\",\"#FECB52\"],\"font\":{\"color\":\"#2a3f5f\"},\"hovermode\":\"closest\",\"hoverlabel\":{\"align\":\"left\"},\"paper_bgcolor\":\"white\",\"plot_bgcolor\":\"#E5ECF6\",\"polar\":{\"bgcolor\":\"#E5ECF6\",\"angularaxis\":{\"gridcolor\":\"white\",\"linecolor\":\"white\",\"ticks\":\"\"},\"radialaxis\":{\"gridcolor\":\"white\",\"linecolor\":\"white\",\"ticks\":\"\"}},\"ternary\":{\"bgcolor\":\"#E5ECF6\",\"aaxis\":{\"gridcolor\":\"white\",\"linecolor\":\"white\",\"ticks\":\"\"},\"baxis\":{\"gridcolor\":\"white\",\"linecolor\":\"white\",\"ticks\":\"\"},\"caxis\":{\"gridcolor\":\"white\",\"linecolor\":\"white\",\"ticks\":\"\"}},\"coloraxis\":{\"colorbar\":{\"outlinewidth\":0,\"ticks\":\"\"}},\"colorscale\":{\"sequential\":[[0.0,\"#0d0887\"],[0.1111111111111111,\"#46039f\"],[0.2222222222222222,\"#7201a8\"],[0.3333333333333333,\"#9c179e\"],[0.4444444444444444,\"#bd3786\"],[0.5555555555555556,\"#d8576b\"],[0.6666666666666666,\"#ed7953\"],[0.7777777777777778,\"#fb9f3a\"],[0.8888888888888888,\"#fdca26\"],[1.0,\"#f0f921\"]],\"sequentialminus\":[[0.0,\"#0d0887\"],[0.1111111111111111,\"#46039f\"],[0.2222222222222222,\"#7201a8\"],[0.3333333333333333,\"#9c179e\"],[0.4444444444444444,\"#bd3786\"],[0.5555555555555556,\"#d8576b\"],[0.6666666666666666,\"#ed7953\"],[0.7777777777777778,\"#fb9f3a\"],[0.8888888888888888,\"#fdca26\"],[1.0,\"#f0f921\"]],\"diverging\":[[0,\"#8e0152\"],[0.1,\"#c51b7d\"],[0.2,\"#de77ae\"],[0.3,\"#f1b6da\"],[0.4,\"#fde0ef\"],[0.5,\"#f7f7f7\"],[0.6,\"#e6f5d0\"],[0.7,\"#b8e186\"],[0.8,\"#7fbc41\"],[0.9,\"#4d9221\"],[1,\"#276419\"]]},\"xaxis\":{\"gridcolor\":\"white\",\"linecolor\":\"white\",\"ticks\":\"\",\"title\":{\"standoff\":15},\"zerolinecolor\":\"white\",\"automargin\":true,\"zerolinewidth\":2},\"yaxis\":{\"gridcolor\":\"white\",\"linecolor\":\"white\",\"ticks\":\"\",\"title\":{\"standoff\":15},\"zerolinecolor\":\"white\",\"automargin\":true,\"zerolinewidth\":2},\"scene\":{\"xaxis\":{\"backgroundcolor\":\"#E5ECF6\",\"gridcolor\":\"white\",\"linecolor\":\"white\",\"showbackground\":true,\"ticks\":\"\",\"zerolinecolor\":\"white\",\"gridwidth\":2},\"yaxis\":{\"backgroundcolor\":\"#E5ECF6\",\"gridcolor\":\"white\",\"linecolor\":\"white\",\"showbackground\":true,\"ticks\":\"\",\"zerolinecolor\":\"white\",\"gridwidth\":2},\"zaxis\":{\"backgroundcolor\":\"#E5ECF6\",\"gridcolor\":\"white\",\"linecolor\":\"white\",\"showbackground\":true,\"ticks\":\"\",\"zerolinecolor\":\"white\",\"gridwidth\":2}},\"shapedefaults\":{\"line\":{\"color\":\"#2a3f5f\"}},\"annotationdefaults\":{\"arrowcolor\":\"#2a3f5f\",\"arrowhead\":0,\"arrowwidth\":1},\"geo\":{\"bgcolor\":\"white\",\"landcolor\":\"#E5ECF6\",\"subunitcolor\":\"white\",\"showland\":true,\"showlakes\":true,\"lakecolor\":\"white\"},\"title\":{\"x\":0.05},\"mapbox\":{\"style\":\"light\"}}},\"xaxis\":{\"anchor\":\"y\",\"domain\":[0.0,1.0],\"title\":{\"text\":\"FPR\"}},\"yaxis\":{\"anchor\":\"x\",\"domain\":[0.0,1.0],\"title\":{\"text\":\"TPR\"}},\"legend\":{\"tracegroupgap\":0},\"margin\":{\"t\":60}},                        {\"responsive\": true}                    ).then(function(){\n",
              "                            \n",
              "var gd = document.getElementById('a9d1d872-43f7-4520-bcc5-c490a6566368');\n",
              "var x = new MutationObserver(function (mutations, observer) {{\n",
              "        var display = window.getComputedStyle(gd).display;\n",
              "        if (!display || display === 'none') {{\n",
              "            console.log([gd, 'removed!']);\n",
              "            Plotly.purge(gd);\n",
              "            observer.disconnect();\n",
              "        }}\n",
              "}});\n",
              "\n",
              "// Listen for the removal of the full notebook cells\n",
              "var notebookContainer = gd.closest('#notebook-container');\n",
              "if (notebookContainer) {{\n",
              "    x.observe(notebookContainer, {childList: true});\n",
              "}}\n",
              "\n",
              "// Listen for the clearing of the current output cell\n",
              "var outputEl = gd.closest('.output');\n",
              "if (outputEl) {{\n",
              "    x.observe(outputEl, {childList: true});\n",
              "}}\n",
              "\n",
              "                        })                };                            </script>        </div>\n",
              "</body>\n",
              "</html>"
            ]
          },
          "metadata": {}
        }
      ]
    },
    {
      "cell_type": "markdown",
      "source": [
        "Cross Validation Scores"
      ],
      "metadata": {
        "id": "xDk6Yf1IcgpH"
      }
    },
    {
      "cell_type": "code",
      "source": [
        "scores = cross_val_score(rfc, X, y, cv=5)"
      ],
      "metadata": {
        "id": "EJagL5crA6qt"
      },
      "execution_count": null,
      "outputs": []
    },
    {
      "cell_type": "code",
      "source": [
        "print(\"Scores for each fold:\", scores)\n",
        "print(\"Average score:\", scores.mean())\n",
        "print(\"Standard deviation:\", scores.std())"
      ],
      "metadata": {
        "colab": {
          "base_uri": "https://localhost:8080/"
        },
        "id": "A6Pv4N6ocYer",
        "outputId": "e40f583f-8e60-4cd7-9a31-ff01f566b32c"
      },
      "execution_count": null,
      "outputs": [
        {
          "output_type": "stream",
          "name": "stdout",
          "text": [
            "Scores for each fold: [0.99128205 0.99179487 0.99435897 0.99230375 0.99127758]\n",
            "Average score: 0.9922034442383338\n",
            "Standard deviation: 0.00114275935391278\n"
          ]
        }
      ]
    }
  ]
}